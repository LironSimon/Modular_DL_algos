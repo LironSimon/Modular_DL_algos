{
  "nbformat": 4,
  "nbformat_minor": 0,
  "metadata": {
    "colab": {
      "provenance": [],
      "collapsed_sections": [],
      "include_colab_link": true
    },
    "kernelspec": {
      "display_name": "Python 3",
      "name": "python3"
    },
    "language_info": {
      "name": "python"
    },
    "widgets": {
      "application/vnd.jupyter.widget-state+json": {
        "22e19082323a432d93e308c8eb336a24": {
          "model_module": "@jupyter-widgets/controls",
          "model_name": "HBoxModel",
          "model_module_version": "1.5.0",
          "state": {
            "_view_name": "HBoxView",
            "_dom_classes": [],
            "_model_name": "HBoxModel",
            "_view_module": "@jupyter-widgets/controls",
            "_model_module_version": "1.5.0",
            "_view_count": null,
            "_view_module_version": "1.5.0",
            "box_style": "",
            "layout": "IPY_MODEL_17b764ec9f4d48289355a4eb6aefbeea",
            "_model_module": "@jupyter-widgets/controls",
            "children": [
              "IPY_MODEL_f2fcd38d26c14ac196150e504eb17265",
              "IPY_MODEL_82cb6b03ebb343a39ae63c40f8bc4d4a",
              "IPY_MODEL_08e6d26315d34f87845636ef55ed0a42"
            ]
          }
        },
        "17b764ec9f4d48289355a4eb6aefbeea": {
          "model_module": "@jupyter-widgets/base",
          "model_name": "LayoutModel",
          "model_module_version": "1.2.0",
          "state": {
            "_view_name": "LayoutView",
            "grid_template_rows": null,
            "right": null,
            "justify_content": null,
            "_view_module": "@jupyter-widgets/base",
            "overflow": null,
            "_model_module_version": "1.2.0",
            "_view_count": null,
            "flex_flow": null,
            "width": null,
            "min_width": null,
            "border": null,
            "align_items": null,
            "bottom": null,
            "_model_module": "@jupyter-widgets/base",
            "top": null,
            "grid_column": null,
            "overflow_y": null,
            "overflow_x": null,
            "grid_auto_flow": null,
            "grid_area": null,
            "grid_template_columns": null,
            "flex": null,
            "_model_name": "LayoutModel",
            "justify_items": null,
            "grid_row": null,
            "max_height": null,
            "align_content": null,
            "visibility": null,
            "align_self": null,
            "height": null,
            "min_height": null,
            "padding": null,
            "grid_auto_rows": null,
            "grid_gap": null,
            "max_width": null,
            "order": null,
            "_view_module_version": "1.2.0",
            "grid_template_areas": null,
            "object_position": null,
            "object_fit": null,
            "grid_auto_columns": null,
            "margin": null,
            "display": null,
            "left": null
          }
        },
        "f2fcd38d26c14ac196150e504eb17265": {
          "model_module": "@jupyter-widgets/controls",
          "model_name": "HTMLModel",
          "model_module_version": "1.5.0",
          "state": {
            "_view_name": "HTMLView",
            "style": "IPY_MODEL_4e3b2f51e22f4b4db0b51def341d5dcc",
            "_dom_classes": [],
            "description": "",
            "_model_name": "HTMLModel",
            "placeholder": "​",
            "_view_module": "@jupyter-widgets/controls",
            "_model_module_version": "1.5.0",
            "value": "",
            "_view_count": null,
            "_view_module_version": "1.5.0",
            "description_tooltip": null,
            "_model_module": "@jupyter-widgets/controls",
            "layout": "IPY_MODEL_1acd33ec2ce24b2da00a48f81861ec60"
          }
        },
        "82cb6b03ebb343a39ae63c40f8bc4d4a": {
          "model_module": "@jupyter-widgets/controls",
          "model_name": "FloatProgressModel",
          "model_module_version": "1.5.0",
          "state": {
            "_view_name": "ProgressView",
            "style": "IPY_MODEL_bbb51b4d99354da6bc436277d73e26b4",
            "_dom_classes": [],
            "description": "",
            "_model_name": "FloatProgressModel",
            "bar_style": "success",
            "max": 26421880,
            "_view_module": "@jupyter-widgets/controls",
            "_model_module_version": "1.5.0",
            "value": 26421880,
            "_view_count": null,
            "_view_module_version": "1.5.0",
            "orientation": "horizontal",
            "min": 0,
            "description_tooltip": null,
            "_model_module": "@jupyter-widgets/controls",
            "layout": "IPY_MODEL_6126ad9a2e41474f934201bd717b87f7"
          }
        },
        "08e6d26315d34f87845636ef55ed0a42": {
          "model_module": "@jupyter-widgets/controls",
          "model_name": "HTMLModel",
          "model_module_version": "1.5.0",
          "state": {
            "_view_name": "HTMLView",
            "style": "IPY_MODEL_99297fcf11bd46ea9fd5ca829296c778",
            "_dom_classes": [],
            "description": "",
            "_model_name": "HTMLModel",
            "placeholder": "​",
            "_view_module": "@jupyter-widgets/controls",
            "_model_module_version": "1.5.0",
            "value": " 26422272/? [00:04&lt;00:00, 8732082.15it/s]",
            "_view_count": null,
            "_view_module_version": "1.5.0",
            "description_tooltip": null,
            "_model_module": "@jupyter-widgets/controls",
            "layout": "IPY_MODEL_71cd6845b59543debbd75b1a17c980b6"
          }
        },
        "4e3b2f51e22f4b4db0b51def341d5dcc": {
          "model_module": "@jupyter-widgets/controls",
          "model_name": "DescriptionStyleModel",
          "model_module_version": "1.5.0",
          "state": {
            "_view_name": "StyleView",
            "_model_name": "DescriptionStyleModel",
            "description_width": "",
            "_view_module": "@jupyter-widgets/base",
            "_model_module_version": "1.5.0",
            "_view_count": null,
            "_view_module_version": "1.2.0",
            "_model_module": "@jupyter-widgets/controls"
          }
        },
        "1acd33ec2ce24b2da00a48f81861ec60": {
          "model_module": "@jupyter-widgets/base",
          "model_name": "LayoutModel",
          "model_module_version": "1.2.0",
          "state": {
            "_view_name": "LayoutView",
            "grid_template_rows": null,
            "right": null,
            "justify_content": null,
            "_view_module": "@jupyter-widgets/base",
            "overflow": null,
            "_model_module_version": "1.2.0",
            "_view_count": null,
            "flex_flow": null,
            "width": null,
            "min_width": null,
            "border": null,
            "align_items": null,
            "bottom": null,
            "_model_module": "@jupyter-widgets/base",
            "top": null,
            "grid_column": null,
            "overflow_y": null,
            "overflow_x": null,
            "grid_auto_flow": null,
            "grid_area": null,
            "grid_template_columns": null,
            "flex": null,
            "_model_name": "LayoutModel",
            "justify_items": null,
            "grid_row": null,
            "max_height": null,
            "align_content": null,
            "visibility": null,
            "align_self": null,
            "height": null,
            "min_height": null,
            "padding": null,
            "grid_auto_rows": null,
            "grid_gap": null,
            "max_width": null,
            "order": null,
            "_view_module_version": "1.2.0",
            "grid_template_areas": null,
            "object_position": null,
            "object_fit": null,
            "grid_auto_columns": null,
            "margin": null,
            "display": null,
            "left": null
          }
        },
        "bbb51b4d99354da6bc436277d73e26b4": {
          "model_module": "@jupyter-widgets/controls",
          "model_name": "ProgressStyleModel",
          "model_module_version": "1.5.0",
          "state": {
            "_view_name": "StyleView",
            "_model_name": "ProgressStyleModel",
            "description_width": "",
            "_view_module": "@jupyter-widgets/base",
            "_model_module_version": "1.5.0",
            "_view_count": null,
            "_view_module_version": "1.2.0",
            "bar_color": null,
            "_model_module": "@jupyter-widgets/controls"
          }
        },
        "6126ad9a2e41474f934201bd717b87f7": {
          "model_module": "@jupyter-widgets/base",
          "model_name": "LayoutModel",
          "model_module_version": "1.2.0",
          "state": {
            "_view_name": "LayoutView",
            "grid_template_rows": null,
            "right": null,
            "justify_content": null,
            "_view_module": "@jupyter-widgets/base",
            "overflow": null,
            "_model_module_version": "1.2.0",
            "_view_count": null,
            "flex_flow": null,
            "width": null,
            "min_width": null,
            "border": null,
            "align_items": null,
            "bottom": null,
            "_model_module": "@jupyter-widgets/base",
            "top": null,
            "grid_column": null,
            "overflow_y": null,
            "overflow_x": null,
            "grid_auto_flow": null,
            "grid_area": null,
            "grid_template_columns": null,
            "flex": null,
            "_model_name": "LayoutModel",
            "justify_items": null,
            "grid_row": null,
            "max_height": null,
            "align_content": null,
            "visibility": null,
            "align_self": null,
            "height": null,
            "min_height": null,
            "padding": null,
            "grid_auto_rows": null,
            "grid_gap": null,
            "max_width": null,
            "order": null,
            "_view_module_version": "1.2.0",
            "grid_template_areas": null,
            "object_position": null,
            "object_fit": null,
            "grid_auto_columns": null,
            "margin": null,
            "display": null,
            "left": null
          }
        },
        "99297fcf11bd46ea9fd5ca829296c778": {
          "model_module": "@jupyter-widgets/controls",
          "model_name": "DescriptionStyleModel",
          "model_module_version": "1.5.0",
          "state": {
            "_view_name": "StyleView",
            "_model_name": "DescriptionStyleModel",
            "description_width": "",
            "_view_module": "@jupyter-widgets/base",
            "_model_module_version": "1.5.0",
            "_view_count": null,
            "_view_module_version": "1.2.0",
            "_model_module": "@jupyter-widgets/controls"
          }
        },
        "71cd6845b59543debbd75b1a17c980b6": {
          "model_module": "@jupyter-widgets/base",
          "model_name": "LayoutModel",
          "model_module_version": "1.2.0",
          "state": {
            "_view_name": "LayoutView",
            "grid_template_rows": null,
            "right": null,
            "justify_content": null,
            "_view_module": "@jupyter-widgets/base",
            "overflow": null,
            "_model_module_version": "1.2.0",
            "_view_count": null,
            "flex_flow": null,
            "width": null,
            "min_width": null,
            "border": null,
            "align_items": null,
            "bottom": null,
            "_model_module": "@jupyter-widgets/base",
            "top": null,
            "grid_column": null,
            "overflow_y": null,
            "overflow_x": null,
            "grid_auto_flow": null,
            "grid_area": null,
            "grid_template_columns": null,
            "flex": null,
            "_model_name": "LayoutModel",
            "justify_items": null,
            "grid_row": null,
            "max_height": null,
            "align_content": null,
            "visibility": null,
            "align_self": null,
            "height": null,
            "min_height": null,
            "padding": null,
            "grid_auto_rows": null,
            "grid_gap": null,
            "max_width": null,
            "order": null,
            "_view_module_version": "1.2.0",
            "grid_template_areas": null,
            "object_position": null,
            "object_fit": null,
            "grid_auto_columns": null,
            "margin": null,
            "display": null,
            "left": null
          }
        },
        "fe723021f60043f6b0d9675dd6cac1a6": {
          "model_module": "@jupyter-widgets/controls",
          "model_name": "HBoxModel",
          "model_module_version": "1.5.0",
          "state": {
            "_view_name": "HBoxView",
            "_dom_classes": [],
            "_model_name": "HBoxModel",
            "_view_module": "@jupyter-widgets/controls",
            "_model_module_version": "1.5.0",
            "_view_count": null,
            "_view_module_version": "1.5.0",
            "box_style": "",
            "layout": "IPY_MODEL_8c2ab692c1ab43e5bdf6a3e9aa2e7e98",
            "_model_module": "@jupyter-widgets/controls",
            "children": [
              "IPY_MODEL_bae82d1c5699436cb550bc7b2b7d1cdf",
              "IPY_MODEL_2f13a3bc4044477bbbb85fb64111d056",
              "IPY_MODEL_1fcf4db7ab944ee1b45ad5bc2a810a87"
            ]
          }
        },
        "8c2ab692c1ab43e5bdf6a3e9aa2e7e98": {
          "model_module": "@jupyter-widgets/base",
          "model_name": "LayoutModel",
          "model_module_version": "1.2.0",
          "state": {
            "_view_name": "LayoutView",
            "grid_template_rows": null,
            "right": null,
            "justify_content": null,
            "_view_module": "@jupyter-widgets/base",
            "overflow": null,
            "_model_module_version": "1.2.0",
            "_view_count": null,
            "flex_flow": null,
            "width": null,
            "min_width": null,
            "border": null,
            "align_items": null,
            "bottom": null,
            "_model_module": "@jupyter-widgets/base",
            "top": null,
            "grid_column": null,
            "overflow_y": null,
            "overflow_x": null,
            "grid_auto_flow": null,
            "grid_area": null,
            "grid_template_columns": null,
            "flex": null,
            "_model_name": "LayoutModel",
            "justify_items": null,
            "grid_row": null,
            "max_height": null,
            "align_content": null,
            "visibility": null,
            "align_self": null,
            "height": null,
            "min_height": null,
            "padding": null,
            "grid_auto_rows": null,
            "grid_gap": null,
            "max_width": null,
            "order": null,
            "_view_module_version": "1.2.0",
            "grid_template_areas": null,
            "object_position": null,
            "object_fit": null,
            "grid_auto_columns": null,
            "margin": null,
            "display": null,
            "left": null
          }
        },
        "bae82d1c5699436cb550bc7b2b7d1cdf": {
          "model_module": "@jupyter-widgets/controls",
          "model_name": "HTMLModel",
          "model_module_version": "1.5.0",
          "state": {
            "_view_name": "HTMLView",
            "style": "IPY_MODEL_adb3f2a95705486d8d31461451cad180",
            "_dom_classes": [],
            "description": "",
            "_model_name": "HTMLModel",
            "placeholder": "​",
            "_view_module": "@jupyter-widgets/controls",
            "_model_module_version": "1.5.0",
            "value": "",
            "_view_count": null,
            "_view_module_version": "1.5.0",
            "description_tooltip": null,
            "_model_module": "@jupyter-widgets/controls",
            "layout": "IPY_MODEL_550dc840a6d0470b95c9f345c896557f"
          }
        },
        "2f13a3bc4044477bbbb85fb64111d056": {
          "model_module": "@jupyter-widgets/controls",
          "model_name": "FloatProgressModel",
          "model_module_version": "1.5.0",
          "state": {
            "_view_name": "ProgressView",
            "style": "IPY_MODEL_dd9ca10d14c445eeafe601e8de8a9164",
            "_dom_classes": [],
            "description": "",
            "_model_name": "FloatProgressModel",
            "bar_style": "success",
            "max": 29515,
            "_view_module": "@jupyter-widgets/controls",
            "_model_module_version": "1.5.0",
            "value": 29515,
            "_view_count": null,
            "_view_module_version": "1.5.0",
            "orientation": "horizontal",
            "min": 0,
            "description_tooltip": null,
            "_model_module": "@jupyter-widgets/controls",
            "layout": "IPY_MODEL_14aff35f100545d5ac49cad803dbb2a6"
          }
        },
        "1fcf4db7ab944ee1b45ad5bc2a810a87": {
          "model_module": "@jupyter-widgets/controls",
          "model_name": "HTMLModel",
          "model_module_version": "1.5.0",
          "state": {
            "_view_name": "HTMLView",
            "style": "IPY_MODEL_42e4a241bd28401c956907bab5f200ad",
            "_dom_classes": [],
            "description": "",
            "_model_name": "HTMLModel",
            "placeholder": "​",
            "_view_module": "@jupyter-widgets/controls",
            "_model_module_version": "1.5.0",
            "value": " 29696/? [00:00&lt;00:00, 55909.34it/s]",
            "_view_count": null,
            "_view_module_version": "1.5.0",
            "description_tooltip": null,
            "_model_module": "@jupyter-widgets/controls",
            "layout": "IPY_MODEL_cf411c8d26ba499e9412c5ddf30c0317"
          }
        },
        "adb3f2a95705486d8d31461451cad180": {
          "model_module": "@jupyter-widgets/controls",
          "model_name": "DescriptionStyleModel",
          "model_module_version": "1.5.0",
          "state": {
            "_view_name": "StyleView",
            "_model_name": "DescriptionStyleModel",
            "description_width": "",
            "_view_module": "@jupyter-widgets/base",
            "_model_module_version": "1.5.0",
            "_view_count": null,
            "_view_module_version": "1.2.0",
            "_model_module": "@jupyter-widgets/controls"
          }
        },
        "550dc840a6d0470b95c9f345c896557f": {
          "model_module": "@jupyter-widgets/base",
          "model_name": "LayoutModel",
          "model_module_version": "1.2.0",
          "state": {
            "_view_name": "LayoutView",
            "grid_template_rows": null,
            "right": null,
            "justify_content": null,
            "_view_module": "@jupyter-widgets/base",
            "overflow": null,
            "_model_module_version": "1.2.0",
            "_view_count": null,
            "flex_flow": null,
            "width": null,
            "min_width": null,
            "border": null,
            "align_items": null,
            "bottom": null,
            "_model_module": "@jupyter-widgets/base",
            "top": null,
            "grid_column": null,
            "overflow_y": null,
            "overflow_x": null,
            "grid_auto_flow": null,
            "grid_area": null,
            "grid_template_columns": null,
            "flex": null,
            "_model_name": "LayoutModel",
            "justify_items": null,
            "grid_row": null,
            "max_height": null,
            "align_content": null,
            "visibility": null,
            "align_self": null,
            "height": null,
            "min_height": null,
            "padding": null,
            "grid_auto_rows": null,
            "grid_gap": null,
            "max_width": null,
            "order": null,
            "_view_module_version": "1.2.0",
            "grid_template_areas": null,
            "object_position": null,
            "object_fit": null,
            "grid_auto_columns": null,
            "margin": null,
            "display": null,
            "left": null
          }
        },
        "dd9ca10d14c445eeafe601e8de8a9164": {
          "model_module": "@jupyter-widgets/controls",
          "model_name": "ProgressStyleModel",
          "model_module_version": "1.5.0",
          "state": {
            "_view_name": "StyleView",
            "_model_name": "ProgressStyleModel",
            "description_width": "",
            "_view_module": "@jupyter-widgets/base",
            "_model_module_version": "1.5.0",
            "_view_count": null,
            "_view_module_version": "1.2.0",
            "bar_color": null,
            "_model_module": "@jupyter-widgets/controls"
          }
        },
        "14aff35f100545d5ac49cad803dbb2a6": {
          "model_module": "@jupyter-widgets/base",
          "model_name": "LayoutModel",
          "model_module_version": "1.2.0",
          "state": {
            "_view_name": "LayoutView",
            "grid_template_rows": null,
            "right": null,
            "justify_content": null,
            "_view_module": "@jupyter-widgets/base",
            "overflow": null,
            "_model_module_version": "1.2.0",
            "_view_count": null,
            "flex_flow": null,
            "width": null,
            "min_width": null,
            "border": null,
            "align_items": null,
            "bottom": null,
            "_model_module": "@jupyter-widgets/base",
            "top": null,
            "grid_column": null,
            "overflow_y": null,
            "overflow_x": null,
            "grid_auto_flow": null,
            "grid_area": null,
            "grid_template_columns": null,
            "flex": null,
            "_model_name": "LayoutModel",
            "justify_items": null,
            "grid_row": null,
            "max_height": null,
            "align_content": null,
            "visibility": null,
            "align_self": null,
            "height": null,
            "min_height": null,
            "padding": null,
            "grid_auto_rows": null,
            "grid_gap": null,
            "max_width": null,
            "order": null,
            "_view_module_version": "1.2.0",
            "grid_template_areas": null,
            "object_position": null,
            "object_fit": null,
            "grid_auto_columns": null,
            "margin": null,
            "display": null,
            "left": null
          }
        },
        "42e4a241bd28401c956907bab5f200ad": {
          "model_module": "@jupyter-widgets/controls",
          "model_name": "DescriptionStyleModel",
          "model_module_version": "1.5.0",
          "state": {
            "_view_name": "StyleView",
            "_model_name": "DescriptionStyleModel",
            "description_width": "",
            "_view_module": "@jupyter-widgets/base",
            "_model_module_version": "1.5.0",
            "_view_count": null,
            "_view_module_version": "1.2.0",
            "_model_module": "@jupyter-widgets/controls"
          }
        },
        "cf411c8d26ba499e9412c5ddf30c0317": {
          "model_module": "@jupyter-widgets/base",
          "model_name": "LayoutModel",
          "model_module_version": "1.2.0",
          "state": {
            "_view_name": "LayoutView",
            "grid_template_rows": null,
            "right": null,
            "justify_content": null,
            "_view_module": "@jupyter-widgets/base",
            "overflow": null,
            "_model_module_version": "1.2.0",
            "_view_count": null,
            "flex_flow": null,
            "width": null,
            "min_width": null,
            "border": null,
            "align_items": null,
            "bottom": null,
            "_model_module": "@jupyter-widgets/base",
            "top": null,
            "grid_column": null,
            "overflow_y": null,
            "overflow_x": null,
            "grid_auto_flow": null,
            "grid_area": null,
            "grid_template_columns": null,
            "flex": null,
            "_model_name": "LayoutModel",
            "justify_items": null,
            "grid_row": null,
            "max_height": null,
            "align_content": null,
            "visibility": null,
            "align_self": null,
            "height": null,
            "min_height": null,
            "padding": null,
            "grid_auto_rows": null,
            "grid_gap": null,
            "max_width": null,
            "order": null,
            "_view_module_version": "1.2.0",
            "grid_template_areas": null,
            "object_position": null,
            "object_fit": null,
            "grid_auto_columns": null,
            "margin": null,
            "display": null,
            "left": null
          }
        },
        "8ab9b4c0094a444783cf3d69ca2a4a9b": {
          "model_module": "@jupyter-widgets/controls",
          "model_name": "HBoxModel",
          "model_module_version": "1.5.0",
          "state": {
            "_view_name": "HBoxView",
            "_dom_classes": [],
            "_model_name": "HBoxModel",
            "_view_module": "@jupyter-widgets/controls",
            "_model_module_version": "1.5.0",
            "_view_count": null,
            "_view_module_version": "1.5.0",
            "box_style": "",
            "layout": "IPY_MODEL_a098e8984d294498aee367104fa9356f",
            "_model_module": "@jupyter-widgets/controls",
            "children": [
              "IPY_MODEL_1e97269e543943dc9d72c125e5868a64",
              "IPY_MODEL_ca3004f75c2b4ed4b0bd4222e403b679",
              "IPY_MODEL_8097917ac24447809b9c59aafe57494a"
            ]
          }
        },
        "a098e8984d294498aee367104fa9356f": {
          "model_module": "@jupyter-widgets/base",
          "model_name": "LayoutModel",
          "model_module_version": "1.2.0",
          "state": {
            "_view_name": "LayoutView",
            "grid_template_rows": null,
            "right": null,
            "justify_content": null,
            "_view_module": "@jupyter-widgets/base",
            "overflow": null,
            "_model_module_version": "1.2.0",
            "_view_count": null,
            "flex_flow": null,
            "width": null,
            "min_width": null,
            "border": null,
            "align_items": null,
            "bottom": null,
            "_model_module": "@jupyter-widgets/base",
            "top": null,
            "grid_column": null,
            "overflow_y": null,
            "overflow_x": null,
            "grid_auto_flow": null,
            "grid_area": null,
            "grid_template_columns": null,
            "flex": null,
            "_model_name": "LayoutModel",
            "justify_items": null,
            "grid_row": null,
            "max_height": null,
            "align_content": null,
            "visibility": null,
            "align_self": null,
            "height": null,
            "min_height": null,
            "padding": null,
            "grid_auto_rows": null,
            "grid_gap": null,
            "max_width": null,
            "order": null,
            "_view_module_version": "1.2.0",
            "grid_template_areas": null,
            "object_position": null,
            "object_fit": null,
            "grid_auto_columns": null,
            "margin": null,
            "display": null,
            "left": null
          }
        },
        "1e97269e543943dc9d72c125e5868a64": {
          "model_module": "@jupyter-widgets/controls",
          "model_name": "HTMLModel",
          "model_module_version": "1.5.0",
          "state": {
            "_view_name": "HTMLView",
            "style": "IPY_MODEL_0cd1071f4bd54bf9bba7c358cb1ce2ba",
            "_dom_classes": [],
            "description": "",
            "_model_name": "HTMLModel",
            "placeholder": "​",
            "_view_module": "@jupyter-widgets/controls",
            "_model_module_version": "1.5.0",
            "value": "",
            "_view_count": null,
            "_view_module_version": "1.5.0",
            "description_tooltip": null,
            "_model_module": "@jupyter-widgets/controls",
            "layout": "IPY_MODEL_0a79e133aabf441086bcc35882cfb1dc"
          }
        },
        "ca3004f75c2b4ed4b0bd4222e403b679": {
          "model_module": "@jupyter-widgets/controls",
          "model_name": "FloatProgressModel",
          "model_module_version": "1.5.0",
          "state": {
            "_view_name": "ProgressView",
            "style": "IPY_MODEL_ad72a05dab0a44aca44e651e37082119",
            "_dom_classes": [],
            "description": "",
            "_model_name": "FloatProgressModel",
            "bar_style": "success",
            "max": 4422102,
            "_view_module": "@jupyter-widgets/controls",
            "_model_module_version": "1.5.0",
            "value": 4422102,
            "_view_count": null,
            "_view_module_version": "1.5.0",
            "orientation": "horizontal",
            "min": 0,
            "description_tooltip": null,
            "_model_module": "@jupyter-widgets/controls",
            "layout": "IPY_MODEL_b2025c5a30bf425f9281cfc6b37ff7ab"
          }
        },
        "8097917ac24447809b9c59aafe57494a": {
          "model_module": "@jupyter-widgets/controls",
          "model_name": "HTMLModel",
          "model_module_version": "1.5.0",
          "state": {
            "_view_name": "HTMLView",
            "style": "IPY_MODEL_1995b05c75a04cd1972395ec152043d5",
            "_dom_classes": [],
            "description": "",
            "_model_name": "HTMLModel",
            "placeholder": "​",
            "_view_module": "@jupyter-widgets/controls",
            "_model_module_version": "1.5.0",
            "value": " 4422656/? [00:02&lt;00:00, 3489850.91it/s]",
            "_view_count": null,
            "_view_module_version": "1.5.0",
            "description_tooltip": null,
            "_model_module": "@jupyter-widgets/controls",
            "layout": "IPY_MODEL_8cc01529aab848f0ad74e7a568bec1db"
          }
        },
        "0cd1071f4bd54bf9bba7c358cb1ce2ba": {
          "model_module": "@jupyter-widgets/controls",
          "model_name": "DescriptionStyleModel",
          "model_module_version": "1.5.0",
          "state": {
            "_view_name": "StyleView",
            "_model_name": "DescriptionStyleModel",
            "description_width": "",
            "_view_module": "@jupyter-widgets/base",
            "_model_module_version": "1.5.0",
            "_view_count": null,
            "_view_module_version": "1.2.0",
            "_model_module": "@jupyter-widgets/controls"
          }
        },
        "0a79e133aabf441086bcc35882cfb1dc": {
          "model_module": "@jupyter-widgets/base",
          "model_name": "LayoutModel",
          "model_module_version": "1.2.0",
          "state": {
            "_view_name": "LayoutView",
            "grid_template_rows": null,
            "right": null,
            "justify_content": null,
            "_view_module": "@jupyter-widgets/base",
            "overflow": null,
            "_model_module_version": "1.2.0",
            "_view_count": null,
            "flex_flow": null,
            "width": null,
            "min_width": null,
            "border": null,
            "align_items": null,
            "bottom": null,
            "_model_module": "@jupyter-widgets/base",
            "top": null,
            "grid_column": null,
            "overflow_y": null,
            "overflow_x": null,
            "grid_auto_flow": null,
            "grid_area": null,
            "grid_template_columns": null,
            "flex": null,
            "_model_name": "LayoutModel",
            "justify_items": null,
            "grid_row": null,
            "max_height": null,
            "align_content": null,
            "visibility": null,
            "align_self": null,
            "height": null,
            "min_height": null,
            "padding": null,
            "grid_auto_rows": null,
            "grid_gap": null,
            "max_width": null,
            "order": null,
            "_view_module_version": "1.2.0",
            "grid_template_areas": null,
            "object_position": null,
            "object_fit": null,
            "grid_auto_columns": null,
            "margin": null,
            "display": null,
            "left": null
          }
        },
        "ad72a05dab0a44aca44e651e37082119": {
          "model_module": "@jupyter-widgets/controls",
          "model_name": "ProgressStyleModel",
          "model_module_version": "1.5.0",
          "state": {
            "_view_name": "StyleView",
            "_model_name": "ProgressStyleModel",
            "description_width": "",
            "_view_module": "@jupyter-widgets/base",
            "_model_module_version": "1.5.0",
            "_view_count": null,
            "_view_module_version": "1.2.0",
            "bar_color": null,
            "_model_module": "@jupyter-widgets/controls"
          }
        },
        "b2025c5a30bf425f9281cfc6b37ff7ab": {
          "model_module": "@jupyter-widgets/base",
          "model_name": "LayoutModel",
          "model_module_version": "1.2.0",
          "state": {
            "_view_name": "LayoutView",
            "grid_template_rows": null,
            "right": null,
            "justify_content": null,
            "_view_module": "@jupyter-widgets/base",
            "overflow": null,
            "_model_module_version": "1.2.0",
            "_view_count": null,
            "flex_flow": null,
            "width": null,
            "min_width": null,
            "border": null,
            "align_items": null,
            "bottom": null,
            "_model_module": "@jupyter-widgets/base",
            "top": null,
            "grid_column": null,
            "overflow_y": null,
            "overflow_x": null,
            "grid_auto_flow": null,
            "grid_area": null,
            "grid_template_columns": null,
            "flex": null,
            "_model_name": "LayoutModel",
            "justify_items": null,
            "grid_row": null,
            "max_height": null,
            "align_content": null,
            "visibility": null,
            "align_self": null,
            "height": null,
            "min_height": null,
            "padding": null,
            "grid_auto_rows": null,
            "grid_gap": null,
            "max_width": null,
            "order": null,
            "_view_module_version": "1.2.0",
            "grid_template_areas": null,
            "object_position": null,
            "object_fit": null,
            "grid_auto_columns": null,
            "margin": null,
            "display": null,
            "left": null
          }
        },
        "1995b05c75a04cd1972395ec152043d5": {
          "model_module": "@jupyter-widgets/controls",
          "model_name": "DescriptionStyleModel",
          "model_module_version": "1.5.0",
          "state": {
            "_view_name": "StyleView",
            "_model_name": "DescriptionStyleModel",
            "description_width": "",
            "_view_module": "@jupyter-widgets/base",
            "_model_module_version": "1.5.0",
            "_view_count": null,
            "_view_module_version": "1.2.0",
            "_model_module": "@jupyter-widgets/controls"
          }
        },
        "8cc01529aab848f0ad74e7a568bec1db": {
          "model_module": "@jupyter-widgets/base",
          "model_name": "LayoutModel",
          "model_module_version": "1.2.0",
          "state": {
            "_view_name": "LayoutView",
            "grid_template_rows": null,
            "right": null,
            "justify_content": null,
            "_view_module": "@jupyter-widgets/base",
            "overflow": null,
            "_model_module_version": "1.2.0",
            "_view_count": null,
            "flex_flow": null,
            "width": null,
            "min_width": null,
            "border": null,
            "align_items": null,
            "bottom": null,
            "_model_module": "@jupyter-widgets/base",
            "top": null,
            "grid_column": null,
            "overflow_y": null,
            "overflow_x": null,
            "grid_auto_flow": null,
            "grid_area": null,
            "grid_template_columns": null,
            "flex": null,
            "_model_name": "LayoutModel",
            "justify_items": null,
            "grid_row": null,
            "max_height": null,
            "align_content": null,
            "visibility": null,
            "align_self": null,
            "height": null,
            "min_height": null,
            "padding": null,
            "grid_auto_rows": null,
            "grid_gap": null,
            "max_width": null,
            "order": null,
            "_view_module_version": "1.2.0",
            "grid_template_areas": null,
            "object_position": null,
            "object_fit": null,
            "grid_auto_columns": null,
            "margin": null,
            "display": null,
            "left": null
          }
        },
        "a31ae4337d4f4eefbbcc40134a6293b7": {
          "model_module": "@jupyter-widgets/controls",
          "model_name": "HBoxModel",
          "model_module_version": "1.5.0",
          "state": {
            "_view_name": "HBoxView",
            "_dom_classes": [],
            "_model_name": "HBoxModel",
            "_view_module": "@jupyter-widgets/controls",
            "_model_module_version": "1.5.0",
            "_view_count": null,
            "_view_module_version": "1.5.0",
            "box_style": "",
            "layout": "IPY_MODEL_92b50f89944e4858953f2ba56a6fb96d",
            "_model_module": "@jupyter-widgets/controls",
            "children": [
              "IPY_MODEL_9d3f2d191fbc48cd876dc5c52d938104",
              "IPY_MODEL_bd00a2e4feb64bf29ba5187442d0e631",
              "IPY_MODEL_b1e64bfa1642466b9b2706ea70fb8ba2"
            ]
          }
        },
        "92b50f89944e4858953f2ba56a6fb96d": {
          "model_module": "@jupyter-widgets/base",
          "model_name": "LayoutModel",
          "model_module_version": "1.2.0",
          "state": {
            "_view_name": "LayoutView",
            "grid_template_rows": null,
            "right": null,
            "justify_content": null,
            "_view_module": "@jupyter-widgets/base",
            "overflow": null,
            "_model_module_version": "1.2.0",
            "_view_count": null,
            "flex_flow": null,
            "width": null,
            "min_width": null,
            "border": null,
            "align_items": null,
            "bottom": null,
            "_model_module": "@jupyter-widgets/base",
            "top": null,
            "grid_column": null,
            "overflow_y": null,
            "overflow_x": null,
            "grid_auto_flow": null,
            "grid_area": null,
            "grid_template_columns": null,
            "flex": null,
            "_model_name": "LayoutModel",
            "justify_items": null,
            "grid_row": null,
            "max_height": null,
            "align_content": null,
            "visibility": null,
            "align_self": null,
            "height": null,
            "min_height": null,
            "padding": null,
            "grid_auto_rows": null,
            "grid_gap": null,
            "max_width": null,
            "order": null,
            "_view_module_version": "1.2.0",
            "grid_template_areas": null,
            "object_position": null,
            "object_fit": null,
            "grid_auto_columns": null,
            "margin": null,
            "display": null,
            "left": null
          }
        },
        "9d3f2d191fbc48cd876dc5c52d938104": {
          "model_module": "@jupyter-widgets/controls",
          "model_name": "HTMLModel",
          "model_module_version": "1.5.0",
          "state": {
            "_view_name": "HTMLView",
            "style": "IPY_MODEL_b6eaa80236a44324974d1a6d9b4f27bf",
            "_dom_classes": [],
            "description": "",
            "_model_name": "HTMLModel",
            "placeholder": "​",
            "_view_module": "@jupyter-widgets/controls",
            "_model_module_version": "1.5.0",
            "value": "",
            "_view_count": null,
            "_view_module_version": "1.5.0",
            "description_tooltip": null,
            "_model_module": "@jupyter-widgets/controls",
            "layout": "IPY_MODEL_ab2b4e00256f44e69e07c7e65dfbd321"
          }
        },
        "bd00a2e4feb64bf29ba5187442d0e631": {
          "model_module": "@jupyter-widgets/controls",
          "model_name": "FloatProgressModel",
          "model_module_version": "1.5.0",
          "state": {
            "_view_name": "ProgressView",
            "style": "IPY_MODEL_77a57693d36f48ee879997395d306d1a",
            "_dom_classes": [],
            "description": "",
            "_model_name": "FloatProgressModel",
            "bar_style": "success",
            "max": 5148,
            "_view_module": "@jupyter-widgets/controls",
            "_model_module_version": "1.5.0",
            "value": 5148,
            "_view_count": null,
            "_view_module_version": "1.5.0",
            "orientation": "horizontal",
            "min": 0,
            "description_tooltip": null,
            "_model_module": "@jupyter-widgets/controls",
            "layout": "IPY_MODEL_5b25e847c4864474a1338f52259d7ec1"
          }
        },
        "b1e64bfa1642466b9b2706ea70fb8ba2": {
          "model_module": "@jupyter-widgets/controls",
          "model_name": "HTMLModel",
          "model_module_version": "1.5.0",
          "state": {
            "_view_name": "HTMLView",
            "style": "IPY_MODEL_ee3af0baa63044ec808e0bab08bcb85c",
            "_dom_classes": [],
            "description": "",
            "_model_name": "HTMLModel",
            "placeholder": "​",
            "_view_module": "@jupyter-widgets/controls",
            "_model_module_version": "1.5.0",
            "value": " 6144/? [00:00&lt;00:00, 173968.66it/s]",
            "_view_count": null,
            "_view_module_version": "1.5.0",
            "description_tooltip": null,
            "_model_module": "@jupyter-widgets/controls",
            "layout": "IPY_MODEL_b592a6dc66ec44629b5cbc18f0b794c7"
          }
        },
        "b6eaa80236a44324974d1a6d9b4f27bf": {
          "model_module": "@jupyter-widgets/controls",
          "model_name": "DescriptionStyleModel",
          "model_module_version": "1.5.0",
          "state": {
            "_view_name": "StyleView",
            "_model_name": "DescriptionStyleModel",
            "description_width": "",
            "_view_module": "@jupyter-widgets/base",
            "_model_module_version": "1.5.0",
            "_view_count": null,
            "_view_module_version": "1.2.0",
            "_model_module": "@jupyter-widgets/controls"
          }
        },
        "ab2b4e00256f44e69e07c7e65dfbd321": {
          "model_module": "@jupyter-widgets/base",
          "model_name": "LayoutModel",
          "model_module_version": "1.2.0",
          "state": {
            "_view_name": "LayoutView",
            "grid_template_rows": null,
            "right": null,
            "justify_content": null,
            "_view_module": "@jupyter-widgets/base",
            "overflow": null,
            "_model_module_version": "1.2.0",
            "_view_count": null,
            "flex_flow": null,
            "width": null,
            "min_width": null,
            "border": null,
            "align_items": null,
            "bottom": null,
            "_model_module": "@jupyter-widgets/base",
            "top": null,
            "grid_column": null,
            "overflow_y": null,
            "overflow_x": null,
            "grid_auto_flow": null,
            "grid_area": null,
            "grid_template_columns": null,
            "flex": null,
            "_model_name": "LayoutModel",
            "justify_items": null,
            "grid_row": null,
            "max_height": null,
            "align_content": null,
            "visibility": null,
            "align_self": null,
            "height": null,
            "min_height": null,
            "padding": null,
            "grid_auto_rows": null,
            "grid_gap": null,
            "max_width": null,
            "order": null,
            "_view_module_version": "1.2.0",
            "grid_template_areas": null,
            "object_position": null,
            "object_fit": null,
            "grid_auto_columns": null,
            "margin": null,
            "display": null,
            "left": null
          }
        },
        "77a57693d36f48ee879997395d306d1a": {
          "model_module": "@jupyter-widgets/controls",
          "model_name": "ProgressStyleModel",
          "model_module_version": "1.5.0",
          "state": {
            "_view_name": "StyleView",
            "_model_name": "ProgressStyleModel",
            "description_width": "",
            "_view_module": "@jupyter-widgets/base",
            "_model_module_version": "1.5.0",
            "_view_count": null,
            "_view_module_version": "1.2.0",
            "bar_color": null,
            "_model_module": "@jupyter-widgets/controls"
          }
        },
        "5b25e847c4864474a1338f52259d7ec1": {
          "model_module": "@jupyter-widgets/base",
          "model_name": "LayoutModel",
          "model_module_version": "1.2.0",
          "state": {
            "_view_name": "LayoutView",
            "grid_template_rows": null,
            "right": null,
            "justify_content": null,
            "_view_module": "@jupyter-widgets/base",
            "overflow": null,
            "_model_module_version": "1.2.0",
            "_view_count": null,
            "flex_flow": null,
            "width": null,
            "min_width": null,
            "border": null,
            "align_items": null,
            "bottom": null,
            "_model_module": "@jupyter-widgets/base",
            "top": null,
            "grid_column": null,
            "overflow_y": null,
            "overflow_x": null,
            "grid_auto_flow": null,
            "grid_area": null,
            "grid_template_columns": null,
            "flex": null,
            "_model_name": "LayoutModel",
            "justify_items": null,
            "grid_row": null,
            "max_height": null,
            "align_content": null,
            "visibility": null,
            "align_self": null,
            "height": null,
            "min_height": null,
            "padding": null,
            "grid_auto_rows": null,
            "grid_gap": null,
            "max_width": null,
            "order": null,
            "_view_module_version": "1.2.0",
            "grid_template_areas": null,
            "object_position": null,
            "object_fit": null,
            "grid_auto_columns": null,
            "margin": null,
            "display": null,
            "left": null
          }
        },
        "ee3af0baa63044ec808e0bab08bcb85c": {
          "model_module": "@jupyter-widgets/controls",
          "model_name": "DescriptionStyleModel",
          "model_module_version": "1.5.0",
          "state": {
            "_view_name": "StyleView",
            "_model_name": "DescriptionStyleModel",
            "description_width": "",
            "_view_module": "@jupyter-widgets/base",
            "_model_module_version": "1.5.0",
            "_view_count": null,
            "_view_module_version": "1.2.0",
            "_model_module": "@jupyter-widgets/controls"
          }
        },
        "b592a6dc66ec44629b5cbc18f0b794c7": {
          "model_module": "@jupyter-widgets/base",
          "model_name": "LayoutModel",
          "model_module_version": "1.2.0",
          "state": {
            "_view_name": "LayoutView",
            "grid_template_rows": null,
            "right": null,
            "justify_content": null,
            "_view_module": "@jupyter-widgets/base",
            "overflow": null,
            "_model_module_version": "1.2.0",
            "_view_count": null,
            "flex_flow": null,
            "width": null,
            "min_width": null,
            "border": null,
            "align_items": null,
            "bottom": null,
            "_model_module": "@jupyter-widgets/base",
            "top": null,
            "grid_column": null,
            "overflow_y": null,
            "overflow_x": null,
            "grid_auto_flow": null,
            "grid_area": null,
            "grid_template_columns": null,
            "flex": null,
            "_model_name": "LayoutModel",
            "justify_items": null,
            "grid_row": null,
            "max_height": null,
            "align_content": null,
            "visibility": null,
            "align_self": null,
            "height": null,
            "min_height": null,
            "padding": null,
            "grid_auto_rows": null,
            "grid_gap": null,
            "max_width": null,
            "order": null,
            "_view_module_version": "1.2.0",
            "grid_template_areas": null,
            "object_position": null,
            "object_fit": null,
            "grid_auto_columns": null,
            "margin": null,
            "display": null,
            "left": null
          }
        },
        "bc3f7542223c4b11b001a77447677c7a": {
          "model_module": "@jupyter-widgets/controls",
          "model_name": "HBoxModel",
          "model_module_version": "1.5.0",
          "state": {
            "_view_name": "HBoxView",
            "_dom_classes": [],
            "_model_name": "HBoxModel",
            "_view_module": "@jupyter-widgets/controls",
            "_model_module_version": "1.5.0",
            "_view_count": null,
            "_view_module_version": "1.5.0",
            "box_style": "",
            "layout": "IPY_MODEL_035bc6d067864606bb012fa00abfc8ae",
            "_model_module": "@jupyter-widgets/controls",
            "children": [
              "IPY_MODEL_5ffef4eed04b403db8cc823a236111fd",
              "IPY_MODEL_4c7b1cb928af4a479b75c22d9025829b",
              "IPY_MODEL_d77c97174039440ca0ba88f1b45977d2"
            ]
          }
        },
        "035bc6d067864606bb012fa00abfc8ae": {
          "model_module": "@jupyter-widgets/base",
          "model_name": "LayoutModel",
          "model_module_version": "1.2.0",
          "state": {
            "_view_name": "LayoutView",
            "grid_template_rows": null,
            "right": null,
            "justify_content": null,
            "_view_module": "@jupyter-widgets/base",
            "overflow": null,
            "_model_module_version": "1.2.0",
            "_view_count": null,
            "flex_flow": null,
            "width": null,
            "min_width": null,
            "border": null,
            "align_items": null,
            "bottom": null,
            "_model_module": "@jupyter-widgets/base",
            "top": null,
            "grid_column": null,
            "overflow_y": null,
            "overflow_x": null,
            "grid_auto_flow": null,
            "grid_area": null,
            "grid_template_columns": null,
            "flex": null,
            "_model_name": "LayoutModel",
            "justify_items": null,
            "grid_row": null,
            "max_height": null,
            "align_content": null,
            "visibility": null,
            "align_self": null,
            "height": null,
            "min_height": null,
            "padding": null,
            "grid_auto_rows": null,
            "grid_gap": null,
            "max_width": null,
            "order": null,
            "_view_module_version": "1.2.0",
            "grid_template_areas": null,
            "object_position": null,
            "object_fit": null,
            "grid_auto_columns": null,
            "margin": null,
            "display": null,
            "left": null
          }
        },
        "5ffef4eed04b403db8cc823a236111fd": {
          "model_module": "@jupyter-widgets/controls",
          "model_name": "HTMLModel",
          "model_module_version": "1.5.0",
          "state": {
            "_view_name": "HTMLView",
            "style": "IPY_MODEL_421230e0d75d4376bdf9b1a3c9566144",
            "_dom_classes": [],
            "description": "",
            "_model_name": "HTMLModel",
            "placeholder": "​",
            "_view_module": "@jupyter-widgets/controls",
            "_model_module_version": "1.5.0",
            "value": "DCGan Training... epoch4999/5000: 100%",
            "_view_count": null,
            "_view_module_version": "1.5.0",
            "description_tooltip": null,
            "_model_module": "@jupyter-widgets/controls",
            "layout": "IPY_MODEL_419c71d2305245ab8661dd050eb7563e"
          }
        },
        "4c7b1cb928af4a479b75c22d9025829b": {
          "model_module": "@jupyter-widgets/controls",
          "model_name": "FloatProgressModel",
          "model_module_version": "1.5.0",
          "state": {
            "_view_name": "ProgressView",
            "style": "IPY_MODEL_7c3ff89a41b849b593094604de0c4f0c",
            "_dom_classes": [],
            "description": "",
            "_model_name": "FloatProgressModel",
            "bar_style": "success",
            "max": 5000,
            "_view_module": "@jupyter-widgets/controls",
            "_model_module_version": "1.5.0",
            "value": 5000,
            "_view_count": null,
            "_view_module_version": "1.5.0",
            "orientation": "horizontal",
            "min": 0,
            "description_tooltip": null,
            "_model_module": "@jupyter-widgets/controls",
            "layout": "IPY_MODEL_feb9b903d83b4feab8a1720a102e31b9"
          }
        },
        "d77c97174039440ca0ba88f1b45977d2": {
          "model_module": "@jupyter-widgets/controls",
          "model_name": "HTMLModel",
          "model_module_version": "1.5.0",
          "state": {
            "_view_name": "HTMLView",
            "style": "IPY_MODEL_d2199753adab4a80a24a9370d2a34d55",
            "_dom_classes": [],
            "description": "",
            "_model_name": "HTMLModel",
            "placeholder": "​",
            "_view_module": "@jupyter-widgets/controls",
            "_model_module_version": "1.5.0",
            "value": " 5000/5000 [05:47&lt;00:00, 14.57it/s]",
            "_view_count": null,
            "_view_module_version": "1.5.0",
            "description_tooltip": null,
            "_model_module": "@jupyter-widgets/controls",
            "layout": "IPY_MODEL_33a3c97bbbb84ccc965c09492c74d0f7"
          }
        },
        "421230e0d75d4376bdf9b1a3c9566144": {
          "model_module": "@jupyter-widgets/controls",
          "model_name": "DescriptionStyleModel",
          "model_module_version": "1.5.0",
          "state": {
            "_view_name": "StyleView",
            "_model_name": "DescriptionStyleModel",
            "description_width": "",
            "_view_module": "@jupyter-widgets/base",
            "_model_module_version": "1.5.0",
            "_view_count": null,
            "_view_module_version": "1.2.0",
            "_model_module": "@jupyter-widgets/controls"
          }
        },
        "419c71d2305245ab8661dd050eb7563e": {
          "model_module": "@jupyter-widgets/base",
          "model_name": "LayoutModel",
          "model_module_version": "1.2.0",
          "state": {
            "_view_name": "LayoutView",
            "grid_template_rows": null,
            "right": null,
            "justify_content": null,
            "_view_module": "@jupyter-widgets/base",
            "overflow": null,
            "_model_module_version": "1.2.0",
            "_view_count": null,
            "flex_flow": null,
            "width": null,
            "min_width": null,
            "border": null,
            "align_items": null,
            "bottom": null,
            "_model_module": "@jupyter-widgets/base",
            "top": null,
            "grid_column": null,
            "overflow_y": null,
            "overflow_x": null,
            "grid_auto_flow": null,
            "grid_area": null,
            "grid_template_columns": null,
            "flex": null,
            "_model_name": "LayoutModel",
            "justify_items": null,
            "grid_row": null,
            "max_height": null,
            "align_content": null,
            "visibility": null,
            "align_self": null,
            "height": null,
            "min_height": null,
            "padding": null,
            "grid_auto_rows": null,
            "grid_gap": null,
            "max_width": null,
            "order": null,
            "_view_module_version": "1.2.0",
            "grid_template_areas": null,
            "object_position": null,
            "object_fit": null,
            "grid_auto_columns": null,
            "margin": null,
            "display": null,
            "left": null
          }
        },
        "7c3ff89a41b849b593094604de0c4f0c": {
          "model_module": "@jupyter-widgets/controls",
          "model_name": "ProgressStyleModel",
          "model_module_version": "1.5.0",
          "state": {
            "_view_name": "StyleView",
            "_model_name": "ProgressStyleModel",
            "description_width": "",
            "_view_module": "@jupyter-widgets/base",
            "_model_module_version": "1.5.0",
            "_view_count": null,
            "_view_module_version": "1.2.0",
            "bar_color": null,
            "_model_module": "@jupyter-widgets/controls"
          }
        },
        "feb9b903d83b4feab8a1720a102e31b9": {
          "model_module": "@jupyter-widgets/base",
          "model_name": "LayoutModel",
          "model_module_version": "1.2.0",
          "state": {
            "_view_name": "LayoutView",
            "grid_template_rows": null,
            "right": null,
            "justify_content": null,
            "_view_module": "@jupyter-widgets/base",
            "overflow": null,
            "_model_module_version": "1.2.0",
            "_view_count": null,
            "flex_flow": null,
            "width": null,
            "min_width": null,
            "border": null,
            "align_items": null,
            "bottom": null,
            "_model_module": "@jupyter-widgets/base",
            "top": null,
            "grid_column": null,
            "overflow_y": null,
            "overflow_x": null,
            "grid_auto_flow": null,
            "grid_area": null,
            "grid_template_columns": null,
            "flex": null,
            "_model_name": "LayoutModel",
            "justify_items": null,
            "grid_row": null,
            "max_height": null,
            "align_content": null,
            "visibility": null,
            "align_self": null,
            "height": null,
            "min_height": null,
            "padding": null,
            "grid_auto_rows": null,
            "grid_gap": null,
            "max_width": null,
            "order": null,
            "_view_module_version": "1.2.0",
            "grid_template_areas": null,
            "object_position": null,
            "object_fit": null,
            "grid_auto_columns": null,
            "margin": null,
            "display": null,
            "left": null
          }
        },
        "d2199753adab4a80a24a9370d2a34d55": {
          "model_module": "@jupyter-widgets/controls",
          "model_name": "DescriptionStyleModel",
          "model_module_version": "1.5.0",
          "state": {
            "_view_name": "StyleView",
            "_model_name": "DescriptionStyleModel",
            "description_width": "",
            "_view_module": "@jupyter-widgets/base",
            "_model_module_version": "1.5.0",
            "_view_count": null,
            "_view_module_version": "1.2.0",
            "_model_module": "@jupyter-widgets/controls"
          }
        },
        "33a3c97bbbb84ccc965c09492c74d0f7": {
          "model_module": "@jupyter-widgets/base",
          "model_name": "LayoutModel",
          "model_module_version": "1.2.0",
          "state": {
            "_view_name": "LayoutView",
            "grid_template_rows": null,
            "right": null,
            "justify_content": null,
            "_view_module": "@jupyter-widgets/base",
            "overflow": null,
            "_model_module_version": "1.2.0",
            "_view_count": null,
            "flex_flow": null,
            "width": null,
            "min_width": null,
            "border": null,
            "align_items": null,
            "bottom": null,
            "_model_module": "@jupyter-widgets/base",
            "top": null,
            "grid_column": null,
            "overflow_y": null,
            "overflow_x": null,
            "grid_auto_flow": null,
            "grid_area": null,
            "grid_template_columns": null,
            "flex": null,
            "_model_name": "LayoutModel",
            "justify_items": null,
            "grid_row": null,
            "max_height": null,
            "align_content": null,
            "visibility": null,
            "align_self": null,
            "height": null,
            "min_height": null,
            "padding": null,
            "grid_auto_rows": null,
            "grid_gap": null,
            "max_width": null,
            "order": null,
            "_view_module_version": "1.2.0",
            "grid_template_areas": null,
            "object_position": null,
            "object_fit": null,
            "grid_auto_columns": null,
            "margin": null,
            "display": null,
            "left": null
          }
        },
        "dd86b9e007a649a9867eca7e70061d30": {
          "model_module": "@jupyter-widgets/controls",
          "model_name": "HBoxModel",
          "model_module_version": "1.5.0",
          "state": {
            "_view_name": "HBoxView",
            "_dom_classes": [],
            "_model_name": "HBoxModel",
            "_view_module": "@jupyter-widgets/controls",
            "_model_module_version": "1.5.0",
            "_view_count": null,
            "_view_module_version": "1.5.0",
            "box_style": "",
            "layout": "IPY_MODEL_1b93286deba64fddad24b7da0d1304dc",
            "_model_module": "@jupyter-widgets/controls",
            "children": [
              "IPY_MODEL_edae439e7eb344ed80b0e01ca3d0de3c",
              "IPY_MODEL_ebf96d58570b4ca58b9541a6a417e3ec",
              "IPY_MODEL_41c986a01e8c46cb90e7e7d2c2d065c4"
            ]
          }
        },
        "1b93286deba64fddad24b7da0d1304dc": {
          "model_module": "@jupyter-widgets/base",
          "model_name": "LayoutModel",
          "model_module_version": "1.2.0",
          "state": {
            "_view_name": "LayoutView",
            "grid_template_rows": null,
            "right": null,
            "justify_content": null,
            "_view_module": "@jupyter-widgets/base",
            "overflow": null,
            "_model_module_version": "1.2.0",
            "_view_count": null,
            "flex_flow": null,
            "width": null,
            "min_width": null,
            "border": null,
            "align_items": null,
            "bottom": null,
            "_model_module": "@jupyter-widgets/base",
            "top": null,
            "grid_column": null,
            "overflow_y": null,
            "overflow_x": null,
            "grid_auto_flow": null,
            "grid_area": null,
            "grid_template_columns": null,
            "flex": null,
            "_model_name": "LayoutModel",
            "justify_items": null,
            "grid_row": null,
            "max_height": null,
            "align_content": null,
            "visibility": null,
            "align_self": null,
            "height": null,
            "min_height": null,
            "padding": null,
            "grid_auto_rows": null,
            "grid_gap": null,
            "max_width": null,
            "order": null,
            "_view_module_version": "1.2.0",
            "grid_template_areas": null,
            "object_position": null,
            "object_fit": null,
            "grid_auto_columns": null,
            "margin": null,
            "display": null,
            "left": null
          }
        },
        "edae439e7eb344ed80b0e01ca3d0de3c": {
          "model_module": "@jupyter-widgets/controls",
          "model_name": "HTMLModel",
          "model_module_version": "1.5.0",
          "state": {
            "_view_name": "HTMLView",
            "style": "IPY_MODEL_026b7f00eaae426d83991815b0075a6a",
            "_dom_classes": [],
            "description": "",
            "_model_name": "HTMLModel",
            "placeholder": "​",
            "_view_module": "@jupyter-widgets/controls",
            "_model_module_version": "1.5.0",
            "value": "WGan Training... epoch4999/5000: 100%",
            "_view_count": null,
            "_view_module_version": "1.5.0",
            "description_tooltip": null,
            "_model_module": "@jupyter-widgets/controls",
            "layout": "IPY_MODEL_a8ad95956b054f96b29e636da71376e1"
          }
        },
        "ebf96d58570b4ca58b9541a6a417e3ec": {
          "model_module": "@jupyter-widgets/controls",
          "model_name": "FloatProgressModel",
          "model_module_version": "1.5.0",
          "state": {
            "_view_name": "ProgressView",
            "style": "IPY_MODEL_6157ea527e954874816dfbc1ee62029b",
            "_dom_classes": [],
            "description": "",
            "_model_name": "FloatProgressModel",
            "bar_style": "success",
            "max": 5000,
            "_view_module": "@jupyter-widgets/controls",
            "_model_module_version": "1.5.0",
            "value": 5000,
            "_view_count": null,
            "_view_module_version": "1.5.0",
            "orientation": "horizontal",
            "min": 0,
            "description_tooltip": null,
            "_model_module": "@jupyter-widgets/controls",
            "layout": "IPY_MODEL_be8d4015f7a149f3af4c42260689f932"
          }
        },
        "41c986a01e8c46cb90e7e7d2c2d065c4": {
          "model_module": "@jupyter-widgets/controls",
          "model_name": "HTMLModel",
          "model_module_version": "1.5.0",
          "state": {
            "_view_name": "HTMLView",
            "style": "IPY_MODEL_91ec05d663db41b29513dbabf6698a46",
            "_dom_classes": [],
            "description": "",
            "_model_name": "HTMLModel",
            "placeholder": "​",
            "_view_module": "@jupyter-widgets/controls",
            "_model_module_version": "1.5.0",
            "value": " 5000/5000 [35:36&lt;00:00,  2.29it/s]",
            "_view_count": null,
            "_view_module_version": "1.5.0",
            "description_tooltip": null,
            "_model_module": "@jupyter-widgets/controls",
            "layout": "IPY_MODEL_2df383b7ce5b466ab5c0d2a258e382f8"
          }
        },
        "026b7f00eaae426d83991815b0075a6a": {
          "model_module": "@jupyter-widgets/controls",
          "model_name": "DescriptionStyleModel",
          "model_module_version": "1.5.0",
          "state": {
            "_view_name": "StyleView",
            "_model_name": "DescriptionStyleModel",
            "description_width": "",
            "_view_module": "@jupyter-widgets/base",
            "_model_module_version": "1.5.0",
            "_view_count": null,
            "_view_module_version": "1.2.0",
            "_model_module": "@jupyter-widgets/controls"
          }
        },
        "a8ad95956b054f96b29e636da71376e1": {
          "model_module": "@jupyter-widgets/base",
          "model_name": "LayoutModel",
          "model_module_version": "1.2.0",
          "state": {
            "_view_name": "LayoutView",
            "grid_template_rows": null,
            "right": null,
            "justify_content": null,
            "_view_module": "@jupyter-widgets/base",
            "overflow": null,
            "_model_module_version": "1.2.0",
            "_view_count": null,
            "flex_flow": null,
            "width": null,
            "min_width": null,
            "border": null,
            "align_items": null,
            "bottom": null,
            "_model_module": "@jupyter-widgets/base",
            "top": null,
            "grid_column": null,
            "overflow_y": null,
            "overflow_x": null,
            "grid_auto_flow": null,
            "grid_area": null,
            "grid_template_columns": null,
            "flex": null,
            "_model_name": "LayoutModel",
            "justify_items": null,
            "grid_row": null,
            "max_height": null,
            "align_content": null,
            "visibility": null,
            "align_self": null,
            "height": null,
            "min_height": null,
            "padding": null,
            "grid_auto_rows": null,
            "grid_gap": null,
            "max_width": null,
            "order": null,
            "_view_module_version": "1.2.0",
            "grid_template_areas": null,
            "object_position": null,
            "object_fit": null,
            "grid_auto_columns": null,
            "margin": null,
            "display": null,
            "left": null
          }
        },
        "6157ea527e954874816dfbc1ee62029b": {
          "model_module": "@jupyter-widgets/controls",
          "model_name": "ProgressStyleModel",
          "model_module_version": "1.5.0",
          "state": {
            "_view_name": "StyleView",
            "_model_name": "ProgressStyleModel",
            "description_width": "",
            "_view_module": "@jupyter-widgets/base",
            "_model_module_version": "1.5.0",
            "_view_count": null,
            "_view_module_version": "1.2.0",
            "bar_color": null,
            "_model_module": "@jupyter-widgets/controls"
          }
        },
        "be8d4015f7a149f3af4c42260689f932": {
          "model_module": "@jupyter-widgets/base",
          "model_name": "LayoutModel",
          "model_module_version": "1.2.0",
          "state": {
            "_view_name": "LayoutView",
            "grid_template_rows": null,
            "right": null,
            "justify_content": null,
            "_view_module": "@jupyter-widgets/base",
            "overflow": null,
            "_model_module_version": "1.2.0",
            "_view_count": null,
            "flex_flow": null,
            "width": null,
            "min_width": null,
            "border": null,
            "align_items": null,
            "bottom": null,
            "_model_module": "@jupyter-widgets/base",
            "top": null,
            "grid_column": null,
            "overflow_y": null,
            "overflow_x": null,
            "grid_auto_flow": null,
            "grid_area": null,
            "grid_template_columns": null,
            "flex": null,
            "_model_name": "LayoutModel",
            "justify_items": null,
            "grid_row": null,
            "max_height": null,
            "align_content": null,
            "visibility": null,
            "align_self": null,
            "height": null,
            "min_height": null,
            "padding": null,
            "grid_auto_rows": null,
            "grid_gap": null,
            "max_width": null,
            "order": null,
            "_view_module_version": "1.2.0",
            "grid_template_areas": null,
            "object_position": null,
            "object_fit": null,
            "grid_auto_columns": null,
            "margin": null,
            "display": null,
            "left": null
          }
        },
        "91ec05d663db41b29513dbabf6698a46": {
          "model_module": "@jupyter-widgets/controls",
          "model_name": "DescriptionStyleModel",
          "model_module_version": "1.5.0",
          "state": {
            "_view_name": "StyleView",
            "_model_name": "DescriptionStyleModel",
            "description_width": "",
            "_view_module": "@jupyter-widgets/base",
            "_model_module_version": "1.5.0",
            "_view_count": null,
            "_view_module_version": "1.2.0",
            "_model_module": "@jupyter-widgets/controls"
          }
        },
        "2df383b7ce5b466ab5c0d2a258e382f8": {
          "model_module": "@jupyter-widgets/base",
          "model_name": "LayoutModel",
          "model_module_version": "1.2.0",
          "state": {
            "_view_name": "LayoutView",
            "grid_template_rows": null,
            "right": null,
            "justify_content": null,
            "_view_module": "@jupyter-widgets/base",
            "overflow": null,
            "_model_module_version": "1.2.0",
            "_view_count": null,
            "flex_flow": null,
            "width": null,
            "min_width": null,
            "border": null,
            "align_items": null,
            "bottom": null,
            "_model_module": "@jupyter-widgets/base",
            "top": null,
            "grid_column": null,
            "overflow_y": null,
            "overflow_x": null,
            "grid_auto_flow": null,
            "grid_area": null,
            "grid_template_columns": null,
            "flex": null,
            "_model_name": "LayoutModel",
            "justify_items": null,
            "grid_row": null,
            "max_height": null,
            "align_content": null,
            "visibility": null,
            "align_self": null,
            "height": null,
            "min_height": null,
            "padding": null,
            "grid_auto_rows": null,
            "grid_gap": null,
            "max_width": null,
            "order": null,
            "_view_module_version": "1.2.0",
            "grid_template_areas": null,
            "object_position": null,
            "object_fit": null,
            "grid_auto_columns": null,
            "margin": null,
            "display": null,
            "left": null
          }
        }
      }
    },
    "accelerator": "GPU"
  },
  "cells": [
    {
      "cell_type": "markdown",
      "metadata": {
        "id": "view-in-github",
        "colab_type": "text"
      },
      "source": [
        "<a href=\"https://colab.research.google.com/github/LironSimon/modular_dl_algos/blob/main/DCGan_and_WGan.ipynb\" target=\"_parent\"><img src=\"https://colab.research.google.com/assets/colab-badge.svg\" alt=\"Open In Colab\"/></a>"
      ]
    },
    {
      "cell_type": "markdown",
      "metadata": {
        "id": "Eenyv6YooVYG"
      },
      "source": [
        "# **Imports & Downloads**\n",
        "*Imports all needed packages,* and loads the Pen TreeBank dataset from a folder in the Drive.*\n",
        "\n",
        "***An action is needed in the 2nd and 3rd cells!***\n",
        "\n"
      ]
    },
    {
      "cell_type": "code",
      "metadata": {
        "id": "njQM-SIFKIKy"
      },
      "source": [
        "import numpy as np\n",
        "import pandas as pd\n",
        "import matplotlib.pyplot as plt\n",
        "import random\n",
        "import tqdm.notebook as tq\n",
        "from enum import Enum, auto\n",
        "import pickle\n",
        "\n",
        "import torch\n",
        "import torch.nn as nn\n",
        "import torch.autograd as autograd\n",
        "import torch.optim as optim\n",
        "from torchvision import datasets, transforms, models\n",
        "from torchvision.utils import save_image\n",
        "\n",
        "# check device\n",
        "device = 'cuda' if torch.cuda.is_available() else 'cpu'"
      ],
      "execution_count": null,
      "outputs": []
    },
    {
      "cell_type": "markdown",
      "metadata": {
        "id": "6WsBMA9yph2c"
      },
      "source": [
        "**2. Mount to Drive.** *Ensures we can save information to Drive*"
      ]
    },
    {
      "cell_type": "code",
      "metadata": {
        "id": "RBt8dqQopHYE",
        "colab": {
          "base_uri": "https://localhost:8080/"
        },
        "outputId": "d57e1efd-a871-4b3e-f6e3-804f21f1d4a0"
      },
      "source": [
        "from google.colab import drive\n",
        "drive.mount('/content/gdrive')"
      ],
      "execution_count": null,
      "outputs": [
        {
          "output_type": "stream",
          "name": "stdout",
          "text": [
            "Mounted at /content/gdrive\n"
          ]
        }
      ]
    },
    {
      "cell_type": "markdown",
      "metadata": {
        "id": "HPNu6RyUmQ4U"
      },
      "source": [
        "**3. Change to a relavent path** *to be able to save or load data properly.*"
      ]
    },
    {
      "cell_type": "code",
      "metadata": {
        "id": "N9XaNIV2mRaD"
      },
      "source": [
        "##########################################\n",
        "# ACTION NEEDED! Change to a relevant path\n",
        "##########################################\n",
        "\n",
        "path = '/content/gdrive/MyDrive/Deep Learning/EX3_302338470/Q4 - saved data'"
      ],
      "execution_count": null,
      "outputs": []
    },
    {
      "cell_type": "markdown",
      "metadata": {
        "id": "UWBFvgS_qHQj"
      },
      "source": [
        "**4. Define hyperparameters.** *Parameters are based on the numbers stated in Gulrajani et al. [2017].*"
      ]
    },
    {
      "cell_type": "code",
      "metadata": {
        "id": "kjVJYG-6qCc7"
      },
      "source": [
        "epochs = 5000\n",
        "batch_size = 64\n",
        "kernel_size = 4 \n",
        "stride = 2\n",
        "padding = 1\n",
        "learning_rate_DCGan = 2e-4\n",
        "learning_rate_WGan = 1e-4 \n",
        "\n",
        "Dim = 64   # model dimensionality\n",
        "img_Dim = 32\n",
        "latent_size = 128\n",
        "Lambda = 10 # Gradient penalty lambda hyperparameter"
      ],
      "execution_count": null,
      "outputs": []
    },
    {
      "cell_type": "markdown",
      "metadata": {
        "id": "-RlGIoNVpmDk"
      },
      "source": [
        "**5. load FashionMnist data.** "
      ]
    },
    {
      "cell_type": "code",
      "metadata": {
        "id": "n4IwVRsFptdk",
        "colab": {
          "base_uri": "https://localhost:8080/",
          "height": 471,
          "referenced_widgets": [
            "22e19082323a432d93e308c8eb336a24",
            "17b764ec9f4d48289355a4eb6aefbeea",
            "f2fcd38d26c14ac196150e504eb17265",
            "82cb6b03ebb343a39ae63c40f8bc4d4a",
            "08e6d26315d34f87845636ef55ed0a42",
            "4e3b2f51e22f4b4db0b51def341d5dcc",
            "1acd33ec2ce24b2da00a48f81861ec60",
            "bbb51b4d99354da6bc436277d73e26b4",
            "6126ad9a2e41474f934201bd717b87f7",
            "99297fcf11bd46ea9fd5ca829296c778",
            "71cd6845b59543debbd75b1a17c980b6",
            "fe723021f60043f6b0d9675dd6cac1a6",
            "8c2ab692c1ab43e5bdf6a3e9aa2e7e98",
            "bae82d1c5699436cb550bc7b2b7d1cdf",
            "2f13a3bc4044477bbbb85fb64111d056",
            "1fcf4db7ab944ee1b45ad5bc2a810a87",
            "adb3f2a95705486d8d31461451cad180",
            "550dc840a6d0470b95c9f345c896557f",
            "dd9ca10d14c445eeafe601e8de8a9164",
            "14aff35f100545d5ac49cad803dbb2a6",
            "42e4a241bd28401c956907bab5f200ad",
            "cf411c8d26ba499e9412c5ddf30c0317",
            "8ab9b4c0094a444783cf3d69ca2a4a9b",
            "a098e8984d294498aee367104fa9356f",
            "1e97269e543943dc9d72c125e5868a64",
            "ca3004f75c2b4ed4b0bd4222e403b679",
            "8097917ac24447809b9c59aafe57494a",
            "0cd1071f4bd54bf9bba7c358cb1ce2ba",
            "0a79e133aabf441086bcc35882cfb1dc",
            "ad72a05dab0a44aca44e651e37082119",
            "b2025c5a30bf425f9281cfc6b37ff7ab",
            "1995b05c75a04cd1972395ec152043d5",
            "8cc01529aab848f0ad74e7a568bec1db",
            "a31ae4337d4f4eefbbcc40134a6293b7",
            "92b50f89944e4858953f2ba56a6fb96d",
            "9d3f2d191fbc48cd876dc5c52d938104",
            "bd00a2e4feb64bf29ba5187442d0e631",
            "b1e64bfa1642466b9b2706ea70fb8ba2",
            "b6eaa80236a44324974d1a6d9b4f27bf",
            "ab2b4e00256f44e69e07c7e65dfbd321",
            "77a57693d36f48ee879997395d306d1a",
            "5b25e847c4864474a1338f52259d7ec1",
            "ee3af0baa63044ec808e0bab08bcb85c",
            "b592a6dc66ec44629b5cbc18f0b794c7"
          ]
        },
        "outputId": "58642491-f5fe-4ebe-9236-11daec44d13c"
      },
      "source": [
        "# criterion to transform loaded PIL images to a normalized version\n",
        "transform = transforms.Compose([transforms.ToTensor(), transforms.Pad(2),transforms.Normalize([0.5], [0.5])])\n",
        "\n",
        "# download datasets:\n",
        "imported_trainset = datasets.FashionMNIST(root=\"./Dataset\", download=True, train=True, transform=transform)\n",
        "train_set = torch.utils.data.DataLoader(imported_trainset, batch_size=batch_size, shuffle=True)\n",
        "\n",
        "imported_testset = datasets.FashionMNIST(root=\"./Dataset\", download=True, train=False, transform=transform)\n",
        "test_set = torch.utils.data.DataLoader(imported_testset, batch_size=batch_size, shuffle=True)\n"
      ],
      "execution_count": null,
      "outputs": [
        {
          "output_type": "stream",
          "name": "stdout",
          "text": [
            "Downloading http://fashion-mnist.s3-website.eu-central-1.amazonaws.com/train-images-idx3-ubyte.gz\n",
            "Downloading http://fashion-mnist.s3-website.eu-central-1.amazonaws.com/train-images-idx3-ubyte.gz to ./Dataset/FashionMNIST/raw/train-images-idx3-ubyte.gz\n"
          ]
        },
        {
          "output_type": "display_data",
          "data": {
            "application/vnd.jupyter.widget-view+json": {
              "model_id": "22e19082323a432d93e308c8eb336a24",
              "version_minor": 0,
              "version_major": 2
            },
            "text/plain": [
              "  0%|          | 0/26421880 [00:00<?, ?it/s]"
            ]
          },
          "metadata": {}
        },
        {
          "output_type": "stream",
          "name": "stdout",
          "text": [
            "Extracting ./Dataset/FashionMNIST/raw/train-images-idx3-ubyte.gz to ./Dataset/FashionMNIST/raw\n",
            "\n",
            "Downloading http://fashion-mnist.s3-website.eu-central-1.amazonaws.com/train-labels-idx1-ubyte.gz\n",
            "Downloading http://fashion-mnist.s3-website.eu-central-1.amazonaws.com/train-labels-idx1-ubyte.gz to ./Dataset/FashionMNIST/raw/train-labels-idx1-ubyte.gz\n"
          ]
        },
        {
          "output_type": "display_data",
          "data": {
            "application/vnd.jupyter.widget-view+json": {
              "model_id": "fe723021f60043f6b0d9675dd6cac1a6",
              "version_minor": 0,
              "version_major": 2
            },
            "text/plain": [
              "  0%|          | 0/29515 [00:00<?, ?it/s]"
            ]
          },
          "metadata": {}
        },
        {
          "output_type": "stream",
          "name": "stdout",
          "text": [
            "Extracting ./Dataset/FashionMNIST/raw/train-labels-idx1-ubyte.gz to ./Dataset/FashionMNIST/raw\n",
            "\n",
            "Downloading http://fashion-mnist.s3-website.eu-central-1.amazonaws.com/t10k-images-idx3-ubyte.gz\n",
            "Downloading http://fashion-mnist.s3-website.eu-central-1.amazonaws.com/t10k-images-idx3-ubyte.gz to ./Dataset/FashionMNIST/raw/t10k-images-idx3-ubyte.gz\n"
          ]
        },
        {
          "output_type": "display_data",
          "data": {
            "application/vnd.jupyter.widget-view+json": {
              "model_id": "8ab9b4c0094a444783cf3d69ca2a4a9b",
              "version_minor": 0,
              "version_major": 2
            },
            "text/plain": [
              "  0%|          | 0/4422102 [00:00<?, ?it/s]"
            ]
          },
          "metadata": {}
        },
        {
          "output_type": "stream",
          "name": "stdout",
          "text": [
            "Extracting ./Dataset/FashionMNIST/raw/t10k-images-idx3-ubyte.gz to ./Dataset/FashionMNIST/raw\n",
            "\n",
            "Downloading http://fashion-mnist.s3-website.eu-central-1.amazonaws.com/t10k-labels-idx1-ubyte.gz\n",
            "Downloading http://fashion-mnist.s3-website.eu-central-1.amazonaws.com/t10k-labels-idx1-ubyte.gz to ./Dataset/FashionMNIST/raw/t10k-labels-idx1-ubyte.gz\n"
          ]
        },
        {
          "output_type": "display_data",
          "data": {
            "application/vnd.jupyter.widget-view+json": {
              "model_id": "a31ae4337d4f4eefbbcc40134a6293b7",
              "version_minor": 0,
              "version_major": 2
            },
            "text/plain": [
              "  0%|          | 0/5148 [00:00<?, ?it/s]"
            ]
          },
          "metadata": {}
        },
        {
          "output_type": "stream",
          "name": "stdout",
          "text": [
            "Extracting ./Dataset/FashionMNIST/raw/t10k-labels-idx1-ubyte.gz to ./Dataset/FashionMNIST/raw\n",
            "\n"
          ]
        },
        {
          "output_type": "stream",
          "name": "stderr",
          "text": [
            "/usr/local/lib/python3.7/dist-packages/torchvision/datasets/mnist.py:498: UserWarning: The given NumPy array is not writeable, and PyTorch does not support non-writeable tensors. This means you can write to the underlying (supposedly non-writeable) NumPy array using the tensor. You may want to copy the array to protect its data or make it writeable before converting it to a tensor. This type of warning will be suppressed for the rest of this program. (Triggered internally at  /pytorch/torch/csrc/utils/tensor_numpy.cpp:180.)\n",
            "  return torch.from_numpy(parsed.astype(m[2], copy=False)).view(*s)\n"
          ]
        }
      ]
    },
    {
      "cell_type": "markdown",
      "metadata": {
        "id": "fBzkneMqqBZi"
      },
      "source": [
        "#**2. Setting the model** "
      ]
    },
    {
      "cell_type": "markdown",
      "metadata": {
        "id": "R-scsc3H9c4n"
      },
      "source": [
        "**1. Create the Generator & Discriminator.** *Discriminator is modular and changes accourding to Gans type.*"
      ]
    },
    {
      "cell_type": "code",
      "metadata": {
        "id": "41TLsr1_9lyh"
      },
      "source": [
        "class Generator(nn.Module):\n",
        "  def __init__(self):\n",
        "    super().__init__()\n",
        "    # create a model with the following layers:\n",
        "    preprocess = nn.Sequential(nn.Linear(latent_size, 64*Dim), # linear (in_features, out_features, bias=True)\n",
        "                               nn.BatchNorm1d(64*Dim),  # batch normalization over the 2D linear layer\n",
        "                               nn.ReLU(True) )  #followed by ReLU\n",
        "    self.preprocess = preprocess\n",
        "    # create a model with the following layers:\n",
        "    block1 = nn.Sequential(nn.ConvTranspose2d(4*Dim, 2*Dim, kernel_size, stride, padding), #transposed convolution operator over an input image (in_channels, out_channels, kernel_size, stride, padding)\n",
        "                           nn.BatchNorm2d(2 * Dim),  # batch normalization over the 4D layer\n",
        "                           nn.ReLU(True) ) \n",
        "    self.block1 = block1\n",
        "    # create a model with the following layers:\n",
        "    block2 = nn.Sequential(nn.ConvTranspose2d(2*Dim, Dim, kernel_size, stride, padding), # (in_channels, out_channels, kernel_size, stride, padding)\n",
        "                           nn.BatchNorm2d(Dim),\n",
        "                           nn.ReLU(True)) \n",
        "    self.block2 = block2\n",
        "    # set the deconvolutional operator\n",
        "    deconv_out = nn.ConvTranspose2d(Dim, 1, kernel_size, stride, padding)     \n",
        "    self.deconv_out = deconv_out\n",
        "\n",
        "    self.tanh = nn.Tanh()\n",
        "    \n",
        "\n",
        "  def forward(self, input):\n",
        "    '''Applies on input the pre-processing network, reshapes it,\n",
        "       and leads it as input to block1, followed by block2.\n",
        "       Finishes by preforming a transposed convolution and tanh activation. '''\n",
        "    output = self.preprocess(input)\n",
        "    output = output.view(-1, 4*Dim, 4, 4)\n",
        "    # apply block1, block2, deconvolution and tanh:\n",
        "    output = self.block1(output)\n",
        "    output = self.block2(output)\n",
        "    output = self.deconv_out(output)\n",
        "    output = self.tanh(output)\n",
        "    return output\n"
      ],
      "execution_count": null,
      "outputs": []
    },
    {
      "cell_type": "code",
      "metadata": {
        "id": "aUNkNAv7fAQU"
      },
      "source": [
        "class Discriminator(nn.Module):\n",
        "  def __init__(self, GanType):\n",
        "    super().__init__()\n",
        "    # define main network accourding to the needed Gan type \n",
        "    if GanType == GanType.DCGan:\n",
        "      main = nn.Sequential(nn.Conv2d(1, Dim, kernel_size, stride, padding), # applies a 2D convolution over input (in_chanels, out_chanels, kernel_size, stride, padding)\n",
        "                           nn.LeakyReLU(),\n",
        "                           nn.Conv2d(Dim, 2*Dim, kernel_size, stride, padding),\n",
        "                           nn.BatchNorm2d(2*Dim),\n",
        "                           nn.LeakyReLU(),\n",
        "                           nn.Conv2d(2*Dim, 4*Dim, kernel_size, stride, padding),\n",
        "                           nn.BatchNorm2d(4*Dim),\n",
        "                           nn.LeakyReLU() )\n",
        "    else:\n",
        "      main = nn.Sequential(nn.Conv2d(1, Dim, kernel_size, stride, padding),\n",
        "                           nn.LeakyReLU(),\n",
        "                           nn.Conv2d(Dim, 2 * Dim, kernel_size, stride, padding),\n",
        "                           nn.LeakyReLU(),\n",
        "                           nn.Conv2d(2 * Dim, 4 * Dim, kernel_size, stride, padding),\n",
        "                           nn.LeakyReLU() )\n",
        "    self.main = main\n",
        "    # define operation to apply linear transfomation on input\n",
        "    self.linear = nn.Linear(64*Dim, 1) #(in_features, out_features, bias=True)\n",
        "\n",
        "\n",
        "  def forward(self, input):\n",
        "    '''Applies on input the main network, reshapes it, and preforms a linear operation. '''\n",
        "    output = self.main(input)\n",
        "    output = output.view(-1, 64*Dim)\n",
        "    output = self.linear(output)\n",
        "    return output\n"
      ],
      "execution_count": null,
      "outputs": []
    },
    {
      "cell_type": "code",
      "metadata": {
        "id": "Duj4hvQnJ8X1"
      },
      "source": [
        "class GanType(Enum):\n",
        "  '''Automatically assign integer values to the defined class attributes.'''\n",
        "  DCGan = auto()\n",
        "  WGan = auto()"
      ],
      "execution_count": null,
      "outputs": []
    },
    {
      "cell_type": "markdown",
      "metadata": {
        "id": "qEgy0qYWHNED"
      },
      "source": [
        "**2. Create helpful functions** *for training the networks*"
      ]
    },
    {
      "cell_type": "code",
      "metadata": {
        "id": "vzIVwygpHMF7"
      },
      "source": [
        "def freeze_weights(net, freeze_bool):\n",
        "  '''Freezes weights of the model so they don't get updated'''\n",
        "  for param in net.parameters(): \n",
        "    param.requires_grad = not freeze_bool  "
      ],
      "execution_count": null,
      "outputs": []
    },
    {
      "cell_type": "code",
      "metadata": {
        "id": "GjI4XEPOlrEz"
      },
      "source": [
        "def calc_gradient_penalty(Discriminator, real_data, fake_data):\n",
        "    # create a tensor filled with random numbers from a uniform distribution of [0, 1)\n",
        "    noise = torch.rand(batch_size, 1)\n",
        "    noise = noise.expand(real_data.size()).to(device)\n",
        "    # create a function to distort the noise\n",
        "    interpolates = (( noise*real_data ) + ( (1 - noise)*fake_data )).to(device)\n",
        "    interpolates = autograd.Variable(interpolates, requires_grad=True)\n",
        "    # feed noise to discriminator\n",
        "    disc_interpolates = Discriminator(interpolates.view(batch_size, 1, img_Dim, img_Dim))\n",
        "    # compute the sum of gradients of outputs with respect to the inputs\n",
        "    gradients = autograd.grad(outputs=disc_interpolates, inputs=interpolates,\n",
        "                              grad_outputs=torch.ones(disc_interpolates.size()).to(device),\n",
        "                              retain_graph=True, create_graph=True)[0]\n",
        "  \n",
        "    return (gradients.norm(2, dim=1) - 1) ** 2   # computed penalty\n"
      ],
      "execution_count": null,
      "outputs": []
    },
    {
      "cell_type": "markdown",
      "metadata": {
        "id": "j3PiR8FZLEFj"
      },
      "source": [
        "**3. setting the training loop.**\n"
      ]
    },
    {
      "cell_type": "code",
      "metadata": {
        "id": "N-TzBpj8l-7T"
      },
      "source": [
        "def train(GanType,dicriminator_iterations, G_optimizer, D_optimizer, epochs=epochs, train_set=train_set,learning_rate_DCGan=learning_rate_DCGan): \n",
        "  pbar = tq.tqdm(range(epochs))\n",
        "  for epoch in pbar:\n",
        "    pbar.set_description(f'{GanType.name} Training... epoch{epoch}/{epochs}')\n",
        "\n",
        "    freeze_weights(discriminator, False)\n",
        "    freeze_weights(generator, True)\n",
        "\n",
        "    for iter_d in range(dicriminator_iterations):\n",
        "      # iterate over trainset to save data and set to tensor of cuda type\n",
        "      data, _ = next(iter(train_set))\n",
        "      real_data = torch.Tensor(data).to(device)\n",
        "      real_data_V = autograd.Variable(real_data)\n",
        "      \n",
        "      discriminator.zero_grad()\n",
        "\n",
        "      # feed the Discriminator with real data\n",
        "      D_real = discriminator(real_data_V)\n",
        "      \n",
        "      # create noise tensor from a normal distribution with mean 0 and variance 1\n",
        "      noise = torch.randn(batch_size, latent_size).to(device)\n",
        "      noise_V = autograd.Variable(noise)\n",
        "\n",
        "      # generate fake data from noise\n",
        "      fake = autograd.Variable(generator(noise_V).data)\n",
        "\n",
        "      # feed the Discriminator with fake data\n",
        "      D_fake = discriminator(fake)    \n",
        "\n",
        "      # calculate Loss considering the type of Gan:\n",
        "      if GanType == GanType.DCGan:\n",
        "        bceLoss_Real = bceLoss(sigmoid(D_real), torch.ones_like(D_real))\n",
        "        bceLoss_Fake = bceLoss(sigmoid(D_fake), torch.zeros_like(D_real))\n",
        "        D_loss = (bceLoss_Real+bceLoss_Fake)*0.5\n",
        "      else: #this is a WGan type\n",
        "        # train with gradient penalty\n",
        "        gradient_penalty = calc_gradient_penalty(discriminator, real_data_V.view(batch_size, -1), fake.view(batch_size, -1))\n",
        "        D_BatchLoss = D_fake - D_real + Lambda * gradient_penalty\n",
        "        D_loss = D_BatchLoss.mean()   \n",
        "\n",
        "      D_loss.backward()\n",
        "      D_optimizer.step()\n",
        "      loss_df.loc[epoch, 'Discriminator'] = D_loss.cpu().detach().numpy()\n",
        "\n",
        "    ## Update Generator:\n",
        "    freeze_weights(discriminator, True)\n",
        "    freeze_weights(generator, False)\n",
        "\n",
        "    generator.zero_grad()\n",
        "    \n",
        "    # create noise tensor from a normal distribution with mean 0 and variance 1\n",
        "    noise = torch.randn(batch_size, latent_size).to(device)\n",
        "    noise_V = autograd.Variable(noise)\n",
        "    \n",
        "    # generate fake data and feed it to the Discriminator\n",
        "    fake = generator(noise_V)\n",
        "    D_fake = discriminator(fake)\n",
        "\n",
        "    # calculate Loss considering the type of Gan:\n",
        "    if GanType == GanType.DCGan: G_loss = bceLoss(sigmoid(D_fake), torch.ones_like(D_fake))   \n",
        "    else: G_loss = -D_fake.mean()   #this is a WGan type\n",
        "       \n",
        "    loss_df.loc[epoch, 'Generator'] = G_loss.cpu().detach().numpy()\n",
        "\n",
        "    G_loss.backward()\n",
        "    G_optimizer.step()\n",
        "    \n",
        "    if epoch % 500 == 0:\n",
        "      print(f\"epoch {epoch}: Generator Loss: {loss_df.loc[epoch, 'Generator']:.2f}, Discriminator Loss: {loss_df.loc[epoch, 'Discriminator']:.2f}\")\n",
        "      print('-'*100)\n",
        "\n",
        "            \n",
        "  return loss_df, generator.state_dict(), discriminator.state_dict()\n"
      ],
      "execution_count": null,
      "outputs": []
    },
    {
      "cell_type": "markdown",
      "metadata": {
        "id": "NR1jnYHqkhze"
      },
      "source": [
        "# **3. Training the two Gans**"
      ]
    },
    {
      "cell_type": "markdown",
      "metadata": {
        "id": "uhWynFupvaw-"
      },
      "source": [
        "**1. Create a list to store information to be plotted**"
      ]
    },
    {
      "cell_type": "code",
      "metadata": {
        "id": "M_b1qTpsvXG1"
      },
      "source": [
        "loss_df_set = []"
      ],
      "execution_count": null,
      "outputs": []
    },
    {
      "cell_type": "markdown",
      "metadata": {
        "id": "89ZGvKmcu0z3"
      },
      "source": [
        "**2. Loop over nets and train them.** *Optimizer parameters were taken from section B in Gulrajani et al. [2017]*"
      ]
    },
    {
      "cell_type": "code",
      "metadata": {
        "id": "pDFRjvfqmBl9",
        "colab": {
          "base_uri": "https://localhost:8080/",
          "height": 761,
          "referenced_widgets": [
            "bc3f7542223c4b11b001a77447677c7a",
            "035bc6d067864606bb012fa00abfc8ae",
            "5ffef4eed04b403db8cc823a236111fd",
            "4c7b1cb928af4a479b75c22d9025829b",
            "d77c97174039440ca0ba88f1b45977d2",
            "421230e0d75d4376bdf9b1a3c9566144",
            "419c71d2305245ab8661dd050eb7563e",
            "7c3ff89a41b849b593094604de0c4f0c",
            "feb9b903d83b4feab8a1720a102e31b9",
            "d2199753adab4a80a24a9370d2a34d55",
            "33a3c97bbbb84ccc965c09492c74d0f7",
            "dd86b9e007a649a9867eca7e70061d30",
            "1b93286deba64fddad24b7da0d1304dc",
            "edae439e7eb344ed80b0e01ca3d0de3c",
            "ebf96d58570b4ca58b9541a6a417e3ec",
            "41c986a01e8c46cb90e7e7d2c2d065c4",
            "026b7f00eaae426d83991815b0075a6a",
            "a8ad95956b054f96b29e636da71376e1",
            "6157ea527e954874816dfbc1ee62029b",
            "be8d4015f7a149f3af4c42260689f932",
            "91ec05d663db41b29513dbabf6698a46",
            "2df383b7ce5b466ab5c0d2a258e382f8"
          ]
        },
        "outputId": "c3da98fc-3629-4f75-ac2b-68fc5bb0a1f7"
      },
      "source": [
        "# train each Gan type and save the weights of the generator and discriminator\n",
        "for GanType in [GanType.DCGan, GanType.WGan]:\n",
        "  # initialize nets and a dataframe to store loss results\n",
        "  generator, discriminator = Generator().to(device), Discriminator(GanType).to(device)\n",
        "  loss_df = pd.DataFrame(index=range(epochs), columns=['Discriminator', 'Generator'])\n",
        "\n",
        "  # set parameter that depend on the type of GAN we are training:\n",
        "  if GanType==GanType.DCGan:\n",
        "    sigmoid = torch.nn.Sigmoid()\n",
        "    bceLoss = torch.nn.BCELoss()\n",
        "    dicriminator_iterations = 1\n",
        "    learning_rate = learning_rate_DCGan\n",
        "    betas = (0.5, 0.999)\n",
        "\n",
        "  else: #this is a WGan type\n",
        "    dicriminator_iterations = 5\n",
        "    learning_rate = learning_rate_WGan\n",
        "    betas = (0, 0.9) \n",
        "\n",
        "  G_optimizer = optim.Adam(generator.parameters(), lr=learning_rate, betas=betas)\n",
        "  D_optimizer = optim.Adam(discriminator.parameters(), lr=learning_rate, betas=betas)\n",
        "\n",
        "\n",
        "  # train\n",
        "  loss_df, G_Weights, D_Weights = train(GanType,dicriminator_iterations,G_optimizer,D_optimizer) \n",
        "  \n",
        "  # save the 3 returns\n",
        "  pickle.dump(loss_df, open(f'{path}/{GanType.name}_loss_df', 'wb'))\n",
        "  open(f'{path}/{GanType.name}_loss_df', 'wb').close()\n",
        "  torch.save(G_Weights, f'{path}/{GanType.name}_Generator_Weights.pt')\n",
        "  torch.save(D_Weights, f'{path}/{GanType.name}_Discriminator_Weights.pt')\n",
        "\n",
        "  loss_df_set.append([loss_df, G_Weights, D_Weights])\n"
      ],
      "execution_count": null,
      "outputs": [
        {
          "output_type": "display_data",
          "data": {
            "application/vnd.jupyter.widget-view+json": {
              "model_id": "bc3f7542223c4b11b001a77447677c7a",
              "version_minor": 0,
              "version_major": 2
            },
            "text/plain": [
              "  0%|          | 0/5000 [00:00<?, ?it/s]"
            ]
          },
          "metadata": {}
        },
        {
          "output_type": "stream",
          "name": "stdout",
          "text": [
            "epoch0: Generator Loss: 0.98, Discriminator Loss: 0.76\n",
            "----------------------------------------------------------------------------------------------------\n",
            "epoch500: Generator Loss: 2.98, Discriminator Loss: 0.15\n",
            "----------------------------------------------------------------------------------------------------\n",
            "epoch1000: Generator Loss: 4.28, Discriminator Loss: 0.12\n",
            "----------------------------------------------------------------------------------------------------\n",
            "epoch1500: Generator Loss: 1.59, Discriminator Loss: 0.13\n",
            "----------------------------------------------------------------------------------------------------\n",
            "epoch2000: Generator Loss: 2.78, Discriminator Loss: 0.14\n",
            "----------------------------------------------------------------------------------------------------\n",
            "epoch2500: Generator Loss: 3.13, Discriminator Loss: 0.13\n",
            "----------------------------------------------------------------------------------------------------\n",
            "epoch3000: Generator Loss: 4.39, Discriminator Loss: 0.14\n",
            "----------------------------------------------------------------------------------------------------\n",
            "epoch3500: Generator Loss: 2.65, Discriminator Loss: 0.17\n",
            "----------------------------------------------------------------------------------------------------\n",
            "epoch4000: Generator Loss: 2.47, Discriminator Loss: 0.14\n",
            "----------------------------------------------------------------------------------------------------\n",
            "epoch4500: Generator Loss: 3.72, Discriminator Loss: 0.16\n",
            "----------------------------------------------------------------------------------------------------\n"
          ]
        },
        {
          "output_type": "display_data",
          "data": {
            "application/vnd.jupyter.widget-view+json": {
              "model_id": "dd86b9e007a649a9867eca7e70061d30",
              "version_minor": 0,
              "version_major": 2
            },
            "text/plain": [
              "  0%|          | 0/5000 [00:00<?, ?it/s]"
            ]
          },
          "metadata": {}
        },
        {
          "output_type": "stream",
          "name": "stdout",
          "text": [
            "epoch0: Generator Loss: 0.26, Discriminator Loss: 8.79\n",
            "----------------------------------------------------------------------------------------------------\n",
            "epoch500: Generator Loss: 11.05, Discriminator Loss: -14.96\n",
            "----------------------------------------------------------------------------------------------------\n",
            "epoch1000: Generator Loss: 6.96, Discriminator Loss: -15.93\n",
            "----------------------------------------------------------------------------------------------------\n",
            "epoch1500: Generator Loss: 6.20, Discriminator Loss: -15.67\n",
            "----------------------------------------------------------------------------------------------------\n",
            "epoch2000: Generator Loss: 4.06, Discriminator Loss: -12.08\n",
            "----------------------------------------------------------------------------------------------------\n",
            "epoch2500: Generator Loss: 3.67, Discriminator Loss: -3.63\n",
            "----------------------------------------------------------------------------------------------------\n",
            "epoch3000: Generator Loss: 3.95, Discriminator Loss: -3.56\n",
            "----------------------------------------------------------------------------------------------------\n",
            "epoch3500: Generator Loss: 3.57, Discriminator Loss: -3.31\n",
            "----------------------------------------------------------------------------------------------------\n",
            "epoch4000: Generator Loss: 3.62, Discriminator Loss: -2.85\n",
            "----------------------------------------------------------------------------------------------------\n",
            "epoch4500: Generator Loss: 4.06, Discriminator Loss: -2.84\n",
            "----------------------------------------------------------------------------------------------------\n"
          ]
        }
      ]
    },
    {
      "cell_type": "markdown",
      "metadata": {
        "id": "M90VXT42pC3A"
      },
      "source": [
        "# **4. Show results.**\n",
        "\n",
        "*Plots the loss function as a function of epochs for each Gan type, and presents two generated images from each model, to compare with two real images of a corresponding label.*\n",
        "\n",
        "\n",
        "---\n",
        "\n"
      ]
    },
    {
      "cell_type": "markdown",
      "metadata": {
        "id": "6xdN2WMPvhKv"
      },
      "source": [
        "**1.Plot loss as a function of epochs** *for each Gan type.*"
      ]
    },
    {
      "cell_type": "code",
      "metadata": {
        "colab": {
          "base_uri": "https://localhost:8080/",
          "height": 573
        },
        "id": "qbvrzW7Nvfhf",
        "outputId": "8d55f2c0-5aae-48d3-b977-e8d45076ca31"
      },
      "source": [
        "for i,loss_set in enumerate(loss_df_set): \n",
        "  loss_df, G_Weights, D_Weights = loss_set\n",
        "  f, ax = plt.subplots()\n",
        "  loss_df.astype(float).plot(ax=ax)\n",
        "  ax.set_xlabel('Iteration')\n",
        "  ax.set_ylabel('Loss')\n",
        "  ax.grid()\n",
        "  if i==0: ax.set_title('DCGan'+ ' Convergence Graph')\n",
        "  else: ax.set_title('WGan'+ ' Convergence Graph')\n"
      ],
      "execution_count": null,
      "outputs": [
        {
          "output_type": "display_data",
          "data": {
            "image/png": "[encoded data removed]",
            "text/plain": [
              "<Figure size 432x288 with 1 Axes>"
            ]
          },
          "metadata": {
            "needs_background": "light"
          }
        },
        {
          "output_type": "display_data",
          "data": {
            "image/png": "[encoded data removed]",
            "text/plain": [
              "<Figure size 432x288 with 1 Axes>"
            ]
          },
          "metadata": {
            "needs_background": "light"
          }
        }
      ]
    },
    {
      "cell_type": "markdown",
      "metadata": {
        "id": "lZ6UCZQdv9H2"
      },
      "source": [
        "**2. Load Gan's weights and generate images.** *Generates images of class 'T-shirt/top' and 'Trouser'.*\n"
      ]
    },
    {
      "cell_type": "code",
      "metadata": {
        "id": "yNMewyppAwnx",
        "colab": {
          "base_uri": "https://localhost:8080/",
          "height": 283
        },
        "outputId": "69c510df-6d0d-454a-aa90-21007ead450c"
      },
      "source": [
        "# set a seed to contol which images are pulled\n",
        "torch.random.manual_seed(0)\n",
        "\n",
        "# load pre-trained weights\n",
        "DC_G_Weights = torch.load(f'{path}/DCGan_Generator_Weights.pt')\n",
        "W_G_Weights = torch.load(f'{path}/WGan_Generator_Weights.pt')\n",
        "\n",
        "for i,G_Weights in enumerate([DC_G_Weights,W_G_Weights]):\n",
        "  # create a generator with the weights\n",
        "  generator = Generator().to(device)\n",
        "  generator.load_state_dict(G_Weights)\n",
        "\n",
        "  # create noise and generate fake images from it\n",
        "  noise = torch.randn(batch_size, latent_size).to(device)\n",
        "  noise = autograd.Variable(noise)\n",
        "  fake = autograd.Variable(generator(noise).data)\n",
        "\n",
        "  # save examles and plot two shirts...\n",
        "  if i==0:   \n",
        "    DC_shirt = fake[1].cpu().reshape((32,32))\n",
        "    DC_pants = fake[6].cpu().reshape((32,32))\n",
        "    DC_examples = [DC_shirt, DC_pants]\n",
        "\n",
        "  else: \n",
        "    W_pants = fake[3].cpu().reshape((32,32))\n",
        "    W_shirt = fake[4].cpu().reshape((32,32))\n",
        "    W_examples = [W_shirt, W_pants]\n",
        "\n",
        "    print('Fake image of a shirt, generated by WGan')\n",
        "    plt.imshow(fake[4].cpu().reshape((32,32)), cmap='gray')\n"
      ],
      "execution_count": null,
      "outputs": [
        {
          "output_type": "stream",
          "name": "stdout",
          "text": [
            "Fake image of a shirt, generated by WGan\n"
          ]
        },
        {
          "output_type": "display_data",
          "data": {
            "image/png": "[encoded data removed]",
            "text/plain": [
              "<Figure size 432x288 with 1 Axes>"
            ]
          },
          "metadata": {
            "needs_background": "light"
          }
        }
      ]
    },
    {
      "cell_type": "markdown",
      "metadata": {
        "id": "blE6U4Oyv9x1"
      },
      "source": [
        "**3. Load real images and plot together.** *Real images, taken straight from the dataset, were chosen accourding to the classes of the fake ones.*"
      ]
    },
    {
      "cell_type": "code",
      "metadata": {
        "id": "Ni34KmZgswgw",
        "colab": {
          "base_uri": "https://localhost:8080/",
          "height": 264
        },
        "outputId": "fa75cf2f-2465-4d76-ff74-febe995c4924"
      },
      "source": [
        "class_dict = {0: 'T-shirt/top', 1: 'Trouser', 2: 'Pullover', 3: 'Dress', 4: 'Coat', 5: 'Sandal', 6: 'Shirt', 7:'Sneaker', 8: 'Bag', 9: 'Ankle boot'}\n",
        "\n",
        "fig, ax = plt.subplots(2, 3)\n",
        "for i, classNum in enumerate([0, 1]):  #[0,1] is a lst of class ids\n",
        "  # load image of this class\n",
        "  image_indx = random.sample(np.argwhere(imported_testset.targets==classNum)[0].tolist(), 1)\n",
        "  image= imported_testset.data[image_indx].numpy().squeeze()\n",
        "\n",
        "  # setup plot\n",
        "  ax[i,0].imshow(np.pad(image, 2), cmap='gray')\n",
        "  ax[i,0].set_ylabel(class_dict[classNum])\n",
        "  ax[i,0].set_xticks([]) \n",
        "  ax[i,0].set_yticks([]) \n",
        "  ax[i,0].tick_params(axis=u'both', which=u'both',length=0)\n",
        "\n",
        "  if i==0:  ax[i,0].set_title('Real Image')\n",
        "  for j, exmpl in enumerate([DC_examples, W_examples]):\n",
        "      ax[i, j+1].imshow(exmpl[i], cmap='gray')\n",
        "      ax[i, j+1].axis('off')\n",
        "      ax[0, 1].set_title('DCGan')\n",
        "      ax[0, 2].set_title('WGan')\n",
        "\n",
        "      \n",
        "fig.savefig(f'{path}/Comparsion of real and fake images.png')\n"
      ],
      "execution_count": null,
      "outputs": [
        {
          "output_type": "display_data",
          "data": {
            "image/png": "[encoded data removed]",
            "text/plain": [
              "<Figure size 432x288 with 6 Axes>"
            ]
          },
          "metadata": {
            "needs_background": "light"
          }
        }
      ]
    }
  ]
}