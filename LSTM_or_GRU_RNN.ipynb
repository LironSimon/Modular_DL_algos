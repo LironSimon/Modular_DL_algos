{
  "nbformat": 4,
  "nbformat_minor": 0,
  "metadata": {
    "kernelspec": {
      "name": "python3",
      "display_name": "Python 3.8.5 64-bit (conda)"
    },
    "language_info": {
      "codemirror_mode": {
        "name": "ipython",
        "version": 3
      },
      "file_extension": ".py",
      "mimetype": "text/x-python",
      "name": "python",
      "nbconvert_exporter": "python",
      "pygments_lexer": "ipython3",
      "version": "3.8.5"
    },
    "interpreter": {
      "hash": "196967bc8a9f60a566b152d95c2f67592467bf501ecbef34bfbce6471e09c7c8"
    },
    "colab": {
      "provenance": [],
      "include_colab_link": true
    },
    "accelerator": "GPU",
    "widgets": {
      "application/vnd.jupyter.widget-state+json": {
        "50f0ed275bc449ec8336627efd37870b": {
          "model_module": "@jupyter-widgets/controls",
          "model_name": "HBoxModel",
          "model_module_version": "1.5.0",
          "state": {
            "_view_name": "HBoxView",
            "_dom_classes": [],
            "_model_name": "HBoxModel",
            "_view_module": "@jupyter-widgets/controls",
            "_model_module_version": "1.5.0",
            "_view_count": null,
            "_view_module_version": "1.5.0",
            "box_style": "",
            "layout": "IPY_MODEL_0dfee7ecb5264fda9e0b6b8f3ff66046",
            "_model_module": "@jupyter-widgets/controls",
            "children": [
              "IPY_MODEL_577606dabe724e1b854f59060a11f479",
              "IPY_MODEL_5c1d30bb039047709f57db68f9d4a886",
              "IPY_MODEL_7da3ba11edc34926a959fd0aef9c4bde"
            ]
          }
        },
        "0dfee7ecb5264fda9e0b6b8f3ff66046": {
          "model_module": "@jupyter-widgets/base",
          "model_name": "LayoutModel",
          "model_module_version": "1.2.0",
          "state": {
            "_view_name": "LayoutView",
            "grid_template_rows": null,
            "right": null,
            "justify_content": null,
            "_view_module": "@jupyter-widgets/base",
            "overflow": null,
            "_model_module_version": "1.2.0",
            "_view_count": null,
            "flex_flow": null,
            "width": null,
            "min_width": null,
            "border": null,
            "align_items": null,
            "bottom": null,
            "_model_module": "@jupyter-widgets/base",
            "top": null,
            "grid_column": null,
            "overflow_y": null,
            "overflow_x": null,
            "grid_auto_flow": null,
            "grid_area": null,
            "grid_template_columns": null,
            "flex": null,
            "_model_name": "LayoutModel",
            "justify_items": null,
            "grid_row": null,
            "max_height": null,
            "align_content": null,
            "visibility": null,
            "align_self": null,
            "height": null,
            "min_height": null,
            "padding": null,
            "grid_auto_rows": null,
            "grid_gap": null,
            "max_width": null,
            "order": null,
            "_view_module_version": "1.2.0",
            "grid_template_areas": null,
            "object_position": null,
            "object_fit": null,
            "grid_auto_columns": null,
            "margin": null,
            "display": null,
            "left": null
          }
        },
        "577606dabe724e1b854f59060a11f479": {
          "model_module": "@jupyter-widgets/controls",
          "model_name": "HTMLModel",
          "model_module_version": "1.5.0",
          "state": {
            "_view_name": "HTMLView",
            "style": "IPY_MODEL_c89178b6665d463da96f89aa5b4c36e0",
            "_dom_classes": [],
            "description": "",
            "_model_name": "HTMLModel",
            "placeholder": "​",
            "_view_module": "@jupyter-widgets/controls",
            "_model_module_version": "1.5.0",
            "value": "Training... epoch13: 100%",
            "_view_count": null,
            "_view_module_version": "1.5.0",
            "description_tooltip": null,
            "_model_module": "@jupyter-widgets/controls",
            "layout": "IPY_MODEL_07fc69bd21954c2f9444bdcb2f0b1290"
          }
        },
        "5c1d30bb039047709f57db68f9d4a886": {
          "model_module": "@jupyter-widgets/controls",
          "model_name": "FloatProgressModel",
          "model_module_version": "1.5.0",
          "state": {
            "_view_name": "ProgressView",
            "style": "IPY_MODEL_ce8b1a540dea45e7a6baf79f9e37a71a",
            "_dom_classes": [],
            "description": "",
            "_model_name": "FloatProgressModel",
            "bar_style": "success",
            "max": 13,
            "_view_module": "@jupyter-widgets/controls",
            "_model_module_version": "1.5.0",
            "value": 13,
            "_view_count": null,
            "_view_module_version": "1.5.0",
            "orientation": "horizontal",
            "min": 0,
            "description_tooltip": null,
            "_model_module": "@jupyter-widgets/controls",
            "layout": "IPY_MODEL_250797754ae44450920863e6c416dafc"
          }
        },
        "7da3ba11edc34926a959fd0aef9c4bde": {
          "model_module": "@jupyter-widgets/controls",
          "model_name": "HTMLModel",
          "model_module_version": "1.5.0",
          "state": {
            "_view_name": "HTMLView",
            "style": "IPY_MODEL_17cca8ec02f74d6aa8cc93b280c1ce62",
            "_dom_classes": [],
            "description": "",
            "_model_name": "HTMLModel",
            "placeholder": "​",
            "_view_module": "@jupyter-widgets/controls",
            "_model_module_version": "1.5.0",
            "value": " 13/13 [07:43&lt;00:00, 35.71s/it]",
            "_view_count": null,
            "_view_module_version": "1.5.0",
            "description_tooltip": null,
            "_model_module": "@jupyter-widgets/controls",
            "layout": "IPY_MODEL_7f1b3a8477f14ac2930b2ee4c33994dc"
          }
        },
        "c89178b6665d463da96f89aa5b4c36e0": {
          "model_module": "@jupyter-widgets/controls",
          "model_name": "DescriptionStyleModel",
          "model_module_version": "1.5.0",
          "state": {
            "_view_name": "StyleView",
            "_model_name": "DescriptionStyleModel",
            "description_width": "",
            "_view_module": "@jupyter-widgets/base",
            "_model_module_version": "1.5.0",
            "_view_count": null,
            "_view_module_version": "1.2.0",
            "_model_module": "@jupyter-widgets/controls"
          }
        },
        "07fc69bd21954c2f9444bdcb2f0b1290": {
          "model_module": "@jupyter-widgets/base",
          "model_name": "LayoutModel",
          "model_module_version": "1.2.0",
          "state": {
            "_view_name": "LayoutView",
            "grid_template_rows": null,
            "right": null,
            "justify_content": null,
            "_view_module": "@jupyter-widgets/base",
            "overflow": null,
            "_model_module_version": "1.2.0",
            "_view_count": null,
            "flex_flow": null,
            "width": null,
            "min_width": null,
            "border": null,
            "align_items": null,
            "bottom": null,
            "_model_module": "@jupyter-widgets/base",
            "top": null,
            "grid_column": null,
            "overflow_y": null,
            "overflow_x": null,
            "grid_auto_flow": null,
            "grid_area": null,
            "grid_template_columns": null,
            "flex": null,
            "_model_name": "LayoutModel",
            "justify_items": null,
            "grid_row": null,
            "max_height": null,
            "align_content": null,
            "visibility": null,
            "align_self": null,
            "height": null,
            "min_height": null,
            "padding": null,
            "grid_auto_rows": null,
            "grid_gap": null,
            "max_width": null,
            "order": null,
            "_view_module_version": "1.2.0",
            "grid_template_areas": null,
            "object_position": null,
            "object_fit": null,
            "grid_auto_columns": null,
            "margin": null,
            "display": null,
            "left": null
          }
        },
        "ce8b1a540dea45e7a6baf79f9e37a71a": {
          "model_module": "@jupyter-widgets/controls",
          "model_name": "ProgressStyleModel",
          "model_module_version": "1.5.0",
          "state": {
            "_view_name": "StyleView",
            "_model_name": "ProgressStyleModel",
            "description_width": "",
            "_view_module": "@jupyter-widgets/base",
            "_model_module_version": "1.5.0",
            "_view_count": null,
            "_view_module_version": "1.2.0",
            "bar_color": null,
            "_model_module": "@jupyter-widgets/controls"
          }
        },
        "250797754ae44450920863e6c416dafc": {
          "model_module": "@jupyter-widgets/base",
          "model_name": "LayoutModel",
          "model_module_version": "1.2.0",
          "state": {
            "_view_name": "LayoutView",
            "grid_template_rows": null,
            "right": null,
            "justify_content": null,
            "_view_module": "@jupyter-widgets/base",
            "overflow": null,
            "_model_module_version": "1.2.0",
            "_view_count": null,
            "flex_flow": null,
            "width": null,
            "min_width": null,
            "border": null,
            "align_items": null,
            "bottom": null,
            "_model_module": "@jupyter-widgets/base",
            "top": null,
            "grid_column": null,
            "overflow_y": null,
            "overflow_x": null,
            "grid_auto_flow": null,
            "grid_area": null,
            "grid_template_columns": null,
            "flex": null,
            "_model_name": "LayoutModel",
            "justify_items": null,
            "grid_row": null,
            "max_height": null,
            "align_content": null,
            "visibility": null,
            "align_self": null,
            "height": null,
            "min_height": null,
            "padding": null,
            "grid_auto_rows": null,
            "grid_gap": null,
            "max_width": null,
            "order": null,
            "_view_module_version": "1.2.0",
            "grid_template_areas": null,
            "object_position": null,
            "object_fit": null,
            "grid_auto_columns": null,
            "margin": null,
            "display": null,
            "left": null
          }
        },
        "17cca8ec02f74d6aa8cc93b280c1ce62": {
          "model_module": "@jupyter-widgets/controls",
          "model_name": "DescriptionStyleModel",
          "model_module_version": "1.5.0",
          "state": {
            "_view_name": "StyleView",
            "_model_name": "DescriptionStyleModel",
            "description_width": "",
            "_view_module": "@jupyter-widgets/base",
            "_model_module_version": "1.5.0",
            "_view_count": null,
            "_view_module_version": "1.2.0",
            "_model_module": "@jupyter-widgets/controls"
          }
        },
        "7f1b3a8477f14ac2930b2ee4c33994dc": {
          "model_module": "@jupyter-widgets/base",
          "model_name": "LayoutModel",
          "model_module_version": "1.2.0",
          "state": {
            "_view_name": "LayoutView",
            "grid_template_rows": null,
            "right": null,
            "justify_content": null,
            "_view_module": "@jupyter-widgets/base",
            "overflow": null,
            "_model_module_version": "1.2.0",
            "_view_count": null,
            "flex_flow": null,
            "width": null,
            "min_width": null,
            "border": null,
            "align_items": null,
            "bottom": null,
            "_model_module": "@jupyter-widgets/base",
            "top": null,
            "grid_column": null,
            "overflow_y": null,
            "overflow_x": null,
            "grid_auto_flow": null,
            "grid_area": null,
            "grid_template_columns": null,
            "flex": null,
            "_model_name": "LayoutModel",
            "justify_items": null,
            "grid_row": null,
            "max_height": null,
            "align_content": null,
            "visibility": null,
            "align_self": null,
            "height": null,
            "min_height": null,
            "padding": null,
            "grid_auto_rows": null,
            "grid_gap": null,
            "max_width": null,
            "order": null,
            "_view_module_version": "1.2.0",
            "grid_template_areas": null,
            "object_position": null,
            "object_fit": null,
            "grid_auto_columns": null,
            "margin": null,
            "display": null,
            "left": null
          }
        },
        "5bed5a1d451f4d37a0c0ad772b1e7bda": {
          "model_module": "@jupyter-widgets/controls",
          "model_name": "HBoxModel",
          "model_module_version": "1.5.0",
          "state": {
            "_view_name": "HBoxView",
            "_dom_classes": [],
            "_model_name": "HBoxModel",
            "_view_module": "@jupyter-widgets/controls",
            "_model_module_version": "1.5.0",
            "_view_count": null,
            "_view_module_version": "1.5.0",
            "box_style": "",
            "layout": "IPY_MODEL_7bf57453e768441b9cad5262091c7b4f",
            "_model_module": "@jupyter-widgets/controls",
            "children": [
              "IPY_MODEL_3c5bb6437d334a50888d2ef6bd97d32a",
              "IPY_MODEL_74f1a72f075147fcaf07dd1ab2af233b",
              "IPY_MODEL_f93db26e4d224392855dba5df2120eef"
            ]
          }
        },
        "7bf57453e768441b9cad5262091c7b4f": {
          "model_module": "@jupyter-widgets/base",
          "model_name": "LayoutModel",
          "model_module_version": "1.2.0",
          "state": {
            "_view_name": "LayoutView",
            "grid_template_rows": null,
            "right": null,
            "justify_content": null,
            "_view_module": "@jupyter-widgets/base",
            "overflow": null,
            "_model_module_version": "1.2.0",
            "_view_count": null,
            "flex_flow": null,
            "width": null,
            "min_width": null,
            "border": null,
            "align_items": null,
            "bottom": null,
            "_model_module": "@jupyter-widgets/base",
            "top": null,
            "grid_column": null,
            "overflow_y": null,
            "overflow_x": null,
            "grid_auto_flow": null,
            "grid_area": null,
            "grid_template_columns": null,
            "flex": null,
            "_model_name": "LayoutModel",
            "justify_items": null,
            "grid_row": null,
            "max_height": null,
            "align_content": null,
            "visibility": null,
            "align_self": null,
            "height": null,
            "min_height": null,
            "padding": null,
            "grid_auto_rows": null,
            "grid_gap": null,
            "max_width": null,
            "order": null,
            "_view_module_version": "1.2.0",
            "grid_template_areas": null,
            "object_position": null,
            "object_fit": null,
            "grid_auto_columns": null,
            "margin": null,
            "display": null,
            "left": null
          }
        },
        "3c5bb6437d334a50888d2ef6bd97d32a": {
          "model_module": "@jupyter-widgets/controls",
          "model_name": "HTMLModel",
          "model_module_version": "1.5.0",
          "state": {
            "_view_name": "HTMLView",
            "style": "IPY_MODEL_97e58538d12b4e8793e39a31d79ad574",
            "_dom_classes": [],
            "description": "",
            "_model_name": "HTMLModel",
            "placeholder": "​",
            "_view_module": "@jupyter-widgets/controls",
            "_model_module_version": "1.5.0",
            "value": "Training... epoch13: 100%",
            "_view_count": null,
            "_view_module_version": "1.5.0",
            "description_tooltip": null,
            "_model_module": "@jupyter-widgets/controls",
            "layout": "IPY_MODEL_ea93ba7f3e684ffd89941149838519b3"
          }
        },
        "74f1a72f075147fcaf07dd1ab2af233b": {
          "model_module": "@jupyter-widgets/controls",
          "model_name": "FloatProgressModel",
          "model_module_version": "1.5.0",
          "state": {
            "_view_name": "ProgressView",
            "style": "IPY_MODEL_65890a1d6b03441682564579848c4057",
            "_dom_classes": [],
            "description": "",
            "_model_name": "FloatProgressModel",
            "bar_style": "success",
            "max": 13,
            "_view_module": "@jupyter-widgets/controls",
            "_model_module_version": "1.5.0",
            "value": 13,
            "_view_count": null,
            "_view_module_version": "1.5.0",
            "orientation": "horizontal",
            "min": 0,
            "description_tooltip": null,
            "_model_module": "@jupyter-widgets/controls",
            "layout": "IPY_MODEL_bf3bad0215fc459f9e578d067bcbd9f8"
          }
        },
        "f93db26e4d224392855dba5df2120eef": {
          "model_module": "@jupyter-widgets/controls",
          "model_name": "HTMLModel",
          "model_module_version": "1.5.0",
          "state": {
            "_view_name": "HTMLView",
            "style": "IPY_MODEL_1680dcc9bf014e94b71bece5d01ae71f",
            "_dom_classes": [],
            "description": "",
            "_model_name": "HTMLModel",
            "placeholder": "​",
            "_view_module": "@jupyter-widgets/controls",
            "_model_module_version": "1.5.0",
            "value": " 13/13 [07:41&lt;00:00, 35.67s/it]",
            "_view_count": null,
            "_view_module_version": "1.5.0",
            "description_tooltip": null,
            "_model_module": "@jupyter-widgets/controls",
            "layout": "IPY_MODEL_f81f3bb0069049518cc84becf54cf9d3"
          }
        },
        "97e58538d12b4e8793e39a31d79ad574": {
          "model_module": "@jupyter-widgets/controls",
          "model_name": "DescriptionStyleModel",
          "model_module_version": "1.5.0",
          "state": {
            "_view_name": "StyleView",
            "_model_name": "DescriptionStyleModel",
            "description_width": "",
            "_view_module": "@jupyter-widgets/base",
            "_model_module_version": "1.5.0",
            "_view_count": null,
            "_view_module_version": "1.2.0",
            "_model_module": "@jupyter-widgets/controls"
          }
        },
        "ea93ba7f3e684ffd89941149838519b3": {
          "model_module": "@jupyter-widgets/base",
          "model_name": "LayoutModel",
          "model_module_version": "1.2.0",
          "state": {
            "_view_name": "LayoutView",
            "grid_template_rows": null,
            "right": null,
            "justify_content": null,
            "_view_module": "@jupyter-widgets/base",
            "overflow": null,
            "_model_module_version": "1.2.0",
            "_view_count": null,
            "flex_flow": null,
            "width": null,
            "min_width": null,
            "border": null,
            "align_items": null,
            "bottom": null,
            "_model_module": "@jupyter-widgets/base",
            "top": null,
            "grid_column": null,
            "overflow_y": null,
            "overflow_x": null,
            "grid_auto_flow": null,
            "grid_area": null,
            "grid_template_columns": null,
            "flex": null,
            "_model_name": "LayoutModel",
            "justify_items": null,
            "grid_row": null,
            "max_height": null,
            "align_content": null,
            "visibility": null,
            "align_self": null,
            "height": null,
            "min_height": null,
            "padding": null,
            "grid_auto_rows": null,
            "grid_gap": null,
            "max_width": null,
            "order": null,
            "_view_module_version": "1.2.0",
            "grid_template_areas": null,
            "object_position": null,
            "object_fit": null,
            "grid_auto_columns": null,
            "margin": null,
            "display": null,
            "left": null
          }
        },
        "65890a1d6b03441682564579848c4057": {
          "model_module": "@jupyter-widgets/controls",
          "model_name": "ProgressStyleModel",
          "model_module_version": "1.5.0",
          "state": {
            "_view_name": "StyleView",
            "_model_name": "ProgressStyleModel",
            "description_width": "",
            "_view_module": "@jupyter-widgets/base",
            "_model_module_version": "1.5.0",
            "_view_count": null,
            "_view_module_version": "1.2.0",
            "bar_color": null,
            "_model_module": "@jupyter-widgets/controls"
          }
        },
        "bf3bad0215fc459f9e578d067bcbd9f8": {
          "model_module": "@jupyter-widgets/base",
          "model_name": "LayoutModel",
          "model_module_version": "1.2.0",
          "state": {
            "_view_name": "LayoutView",
            "grid_template_rows": null,
            "right": null,
            "justify_content": null,
            "_view_module": "@jupyter-widgets/base",
            "overflow": null,
            "_model_module_version": "1.2.0",
            "_view_count": null,
            "flex_flow": null,
            "width": null,
            "min_width": null,
            "border": null,
            "align_items": null,
            "bottom": null,
            "_model_module": "@jupyter-widgets/base",
            "top": null,
            "grid_column": null,
            "overflow_y": null,
            "overflow_x": null,
            "grid_auto_flow": null,
            "grid_area": null,
            "grid_template_columns": null,
            "flex": null,
            "_model_name": "LayoutModel",
            "justify_items": null,
            "grid_row": null,
            "max_height": null,
            "align_content": null,
            "visibility": null,
            "align_self": null,
            "height": null,
            "min_height": null,
            "padding": null,
            "grid_auto_rows": null,
            "grid_gap": null,
            "max_width": null,
            "order": null,
            "_view_module_version": "1.2.0",
            "grid_template_areas": null,
            "object_position": null,
            "object_fit": null,
            "grid_auto_columns": null,
            "margin": null,
            "display": null,
            "left": null
          }
        },
        "1680dcc9bf014e94b71bece5d01ae71f": {
          "model_module": "@jupyter-widgets/controls",
          "model_name": "DescriptionStyleModel",
          "model_module_version": "1.5.0",
          "state": {
            "_view_name": "StyleView",
            "_model_name": "DescriptionStyleModel",
            "description_width": "",
            "_view_module": "@jupyter-widgets/base",
            "_model_module_version": "1.5.0",
            "_view_count": null,
            "_view_module_version": "1.2.0",
            "_model_module": "@jupyter-widgets/controls"
          }
        },
        "f81f3bb0069049518cc84becf54cf9d3": {
          "model_module": "@jupyter-widgets/base",
          "model_name": "LayoutModel",
          "model_module_version": "1.2.0",
          "state": {
            "_view_name": "LayoutView",
            "grid_template_rows": null,
            "right": null,
            "justify_content": null,
            "_view_module": "@jupyter-widgets/base",
            "overflow": null,
            "_model_module_version": "1.2.0",
            "_view_count": null,
            "flex_flow": null,
            "width": null,
            "min_width": null,
            "border": null,
            "align_items": null,
            "bottom": null,
            "_model_module": "@jupyter-widgets/base",
            "top": null,
            "grid_column": null,
            "overflow_y": null,
            "overflow_x": null,
            "grid_auto_flow": null,
            "grid_area": null,
            "grid_template_columns": null,
            "flex": null,
            "_model_name": "LayoutModel",
            "justify_items": null,
            "grid_row": null,
            "max_height": null,
            "align_content": null,
            "visibility": null,
            "align_self": null,
            "height": null,
            "min_height": null,
            "padding": null,
            "grid_auto_rows": null,
            "grid_gap": null,
            "max_width": null,
            "order": null,
            "_view_module_version": "1.2.0",
            "grid_template_areas": null,
            "object_position": null,
            "object_fit": null,
            "grid_auto_columns": null,
            "margin": null,
            "display": null,
            "left": null
          }
        },
        "b877afc4a8054a31b97c2a1d24bac861": {
          "model_module": "@jupyter-widgets/controls",
          "model_name": "HBoxModel",
          "model_module_version": "1.5.0",
          "state": {
            "_view_name": "HBoxView",
            "_dom_classes": [],
            "_model_name": "HBoxModel",
            "_view_module": "@jupyter-widgets/controls",
            "_model_module_version": "1.5.0",
            "_view_count": null,
            "_view_module_version": "1.5.0",
            "box_style": "",
            "layout": "IPY_MODEL_e5e8752753a14104bc975584c63b2dd0",
            "_model_module": "@jupyter-widgets/controls",
            "children": [
              "IPY_MODEL_71b625daf00e47ba9c5567739c0ba20d",
              "IPY_MODEL_a3f82ff3400a479696ab7860496dff23",
              "IPY_MODEL_be07eff8ab03400992577f30cedfc51e"
            ]
          }
        },
        "e5e8752753a14104bc975584c63b2dd0": {
          "model_module": "@jupyter-widgets/base",
          "model_name": "LayoutModel",
          "model_module_version": "1.2.0",
          "state": {
            "_view_name": "LayoutView",
            "grid_template_rows": null,
            "right": null,
            "justify_content": null,
            "_view_module": "@jupyter-widgets/base",
            "overflow": null,
            "_model_module_version": "1.2.0",
            "_view_count": null,
            "flex_flow": null,
            "width": null,
            "min_width": null,
            "border": null,
            "align_items": null,
            "bottom": null,
            "_model_module": "@jupyter-widgets/base",
            "top": null,
            "grid_column": null,
            "overflow_y": null,
            "overflow_x": null,
            "grid_auto_flow": null,
            "grid_area": null,
            "grid_template_columns": null,
            "flex": null,
            "_model_name": "LayoutModel",
            "justify_items": null,
            "grid_row": null,
            "max_height": null,
            "align_content": null,
            "visibility": null,
            "align_self": null,
            "height": null,
            "min_height": null,
            "padding": null,
            "grid_auto_rows": null,
            "grid_gap": null,
            "max_width": null,
            "order": null,
            "_view_module_version": "1.2.0",
            "grid_template_areas": null,
            "object_position": null,
            "object_fit": null,
            "grid_auto_columns": null,
            "margin": null,
            "display": null,
            "left": null
          }
        },
        "71b625daf00e47ba9c5567739c0ba20d": {
          "model_module": "@jupyter-widgets/controls",
          "model_name": "HTMLModel",
          "model_module_version": "1.5.0",
          "state": {
            "_view_name": "HTMLView",
            "style": "IPY_MODEL_0f056b6114854adbbd91c148a619d205",
            "_dom_classes": [],
            "description": "",
            "_model_name": "HTMLModel",
            "placeholder": "​",
            "_view_module": "@jupyter-widgets/controls",
            "_model_module_version": "1.5.0",
            "value": "Training... epoch13: 100%",
            "_view_count": null,
            "_view_module_version": "1.5.0",
            "description_tooltip": null,
            "_model_module": "@jupyter-widgets/controls",
            "layout": "IPY_MODEL_b0a01cb2008846e486225f597c80037a"
          }
        },
        "a3f82ff3400a479696ab7860496dff23": {
          "model_module": "@jupyter-widgets/controls",
          "model_name": "FloatProgressModel",
          "model_module_version": "1.5.0",
          "state": {
            "_view_name": "ProgressView",
            "style": "IPY_MODEL_944205fcdbec49d5969afed3d2f0f4bc",
            "_dom_classes": [],
            "description": "",
            "_model_name": "FloatProgressModel",
            "bar_style": "success",
            "max": 13,
            "_view_module": "@jupyter-widgets/controls",
            "_model_module_version": "1.5.0",
            "value": 13,
            "_view_count": null,
            "_view_module_version": "1.5.0",
            "orientation": "horizontal",
            "min": 0,
            "description_tooltip": null,
            "_model_module": "@jupyter-widgets/controls",
            "layout": "IPY_MODEL_d235f73ddb4f4431acfefde718a28ce3"
          }
        },
        "be07eff8ab03400992577f30cedfc51e": {
          "model_module": "@jupyter-widgets/controls",
          "model_name": "HTMLModel",
          "model_module_version": "1.5.0",
          "state": {
            "_view_name": "HTMLView",
            "style": "IPY_MODEL_e57ef4ebb5dd424ba0634b49e2f7e873",
            "_dom_classes": [],
            "description": "",
            "_model_name": "HTMLModel",
            "placeholder": "​",
            "_view_module": "@jupyter-widgets/controls",
            "_model_module_version": "1.5.0",
            "value": " 13/13 [07:31&lt;00:00, 34.84s/it]",
            "_view_count": null,
            "_view_module_version": "1.5.0",
            "description_tooltip": null,
            "_model_module": "@jupyter-widgets/controls",
            "layout": "IPY_MODEL_1931d5b04c1749cfb558ab01dc4f0032"
          }
        },
        "0f056b6114854adbbd91c148a619d205": {
          "model_module": "@jupyter-widgets/controls",
          "model_name": "DescriptionStyleModel",
          "model_module_version": "1.5.0",
          "state": {
            "_view_name": "StyleView",
            "_model_name": "DescriptionStyleModel",
            "description_width": "",
            "_view_module": "@jupyter-widgets/base",
            "_model_module_version": "1.5.0",
            "_view_count": null,
            "_view_module_version": "1.2.0",
            "_model_module": "@jupyter-widgets/controls"
          }
        },
        "b0a01cb2008846e486225f597c80037a": {
          "model_module": "@jupyter-widgets/base",
          "model_name": "LayoutModel",
          "model_module_version": "1.2.0",
          "state": {
            "_view_name": "LayoutView",
            "grid_template_rows": null,
            "right": null,
            "justify_content": null,
            "_view_module": "@jupyter-widgets/base",
            "overflow": null,
            "_model_module_version": "1.2.0",
            "_view_count": null,
            "flex_flow": null,
            "width": null,
            "min_width": null,
            "border": null,
            "align_items": null,
            "bottom": null,
            "_model_module": "@jupyter-widgets/base",
            "top": null,
            "grid_column": null,
            "overflow_y": null,
            "overflow_x": null,
            "grid_auto_flow": null,
            "grid_area": null,
            "grid_template_columns": null,
            "flex": null,
            "_model_name": "LayoutModel",
            "justify_items": null,
            "grid_row": null,
            "max_height": null,
            "align_content": null,
            "visibility": null,
            "align_self": null,
            "height": null,
            "min_height": null,
            "padding": null,
            "grid_auto_rows": null,
            "grid_gap": null,
            "max_width": null,
            "order": null,
            "_view_module_version": "1.2.0",
            "grid_template_areas": null,
            "object_position": null,
            "object_fit": null,
            "grid_auto_columns": null,
            "margin": null,
            "display": null,
            "left": null
          }
        },
        "944205fcdbec49d5969afed3d2f0f4bc": {
          "model_module": "@jupyter-widgets/controls",
          "model_name": "ProgressStyleModel",
          "model_module_version": "1.5.0",
          "state": {
            "_view_name": "StyleView",
            "_model_name": "ProgressStyleModel",
            "description_width": "",
            "_view_module": "@jupyter-widgets/base",
            "_model_module_version": "1.5.0",
            "_view_count": null,
            "_view_module_version": "1.2.0",
            "bar_color": null,
            "_model_module": "@jupyter-widgets/controls"
          }
        },
        "d235f73ddb4f4431acfefde718a28ce3": {
          "model_module": "@jupyter-widgets/base",
          "model_name": "LayoutModel",
          "model_module_version": "1.2.0",
          "state": {
            "_view_name": "LayoutView",
            "grid_template_rows": null,
            "right": null,
            "justify_content": null,
            "_view_module": "@jupyter-widgets/base",
            "overflow": null,
            "_model_module_version": "1.2.0",
            "_view_count": null,
            "flex_flow": null,
            "width": null,
            "min_width": null,
            "border": null,
            "align_items": null,
            "bottom": null,
            "_model_module": "@jupyter-widgets/base",
            "top": null,
            "grid_column": null,
            "overflow_y": null,
            "overflow_x": null,
            "grid_auto_flow": null,
            "grid_area": null,
            "grid_template_columns": null,
            "flex": null,
            "_model_name": "LayoutModel",
            "justify_items": null,
            "grid_row": null,
            "max_height": null,
            "align_content": null,
            "visibility": null,
            "align_self": null,
            "height": null,
            "min_height": null,
            "padding": null,
            "grid_auto_rows": null,
            "grid_gap": null,
            "max_width": null,
            "order": null,
            "_view_module_version": "1.2.0",
            "grid_template_areas": null,
            "object_position": null,
            "object_fit": null,
            "grid_auto_columns": null,
            "margin": null,
            "display": null,
            "left": null
          }
        },
        "e57ef4ebb5dd424ba0634b49e2f7e873": {
          "model_module": "@jupyter-widgets/controls",
          "model_name": "DescriptionStyleModel",
          "model_module_version": "1.5.0",
          "state": {
            "_view_name": "StyleView",
            "_model_name": "DescriptionStyleModel",
            "description_width": "",
            "_view_module": "@jupyter-widgets/base",
            "_model_module_version": "1.5.0",
            "_view_count": null,
            "_view_module_version": "1.2.0",
            "_model_module": "@jupyter-widgets/controls"
          }
        },
        "1931d5b04c1749cfb558ab01dc4f0032": {
          "model_module": "@jupyter-widgets/base",
          "model_name": "LayoutModel",
          "model_module_version": "1.2.0",
          "state": {
            "_view_name": "LayoutView",
            "grid_template_rows": null,
            "right": null,
            "justify_content": null,
            "_view_module": "@jupyter-widgets/base",
            "overflow": null,
            "_model_module_version": "1.2.0",
            "_view_count": null,
            "flex_flow": null,
            "width": null,
            "min_width": null,
            "border": null,
            "align_items": null,
            "bottom": null,
            "_model_module": "@jupyter-widgets/base",
            "top": null,
            "grid_column": null,
            "overflow_y": null,
            "overflow_x": null,
            "grid_auto_flow": null,
            "grid_area": null,
            "grid_template_columns": null,
            "flex": null,
            "_model_name": "LayoutModel",
            "justify_items": null,
            "grid_row": null,
            "max_height": null,
            "align_content": null,
            "visibility": null,
            "align_self": null,
            "height": null,
            "min_height": null,
            "padding": null,
            "grid_auto_rows": null,
            "grid_gap": null,
            "max_width": null,
            "order": null,
            "_view_module_version": "1.2.0",
            "grid_template_areas": null,
            "object_position": null,
            "object_fit": null,
            "grid_auto_columns": null,
            "margin": null,
            "display": null,
            "left": null
          }
        },
        "fc273680a53746259ca822d16f2c8ad6": {
          "model_module": "@jupyter-widgets/controls",
          "model_name": "HBoxModel",
          "model_module_version": "1.5.0",
          "state": {
            "_view_name": "HBoxView",
            "_dom_classes": [],
            "_model_name": "HBoxModel",
            "_view_module": "@jupyter-widgets/controls",
            "_model_module_version": "1.5.0",
            "_view_count": null,
            "_view_module_version": "1.5.0",
            "box_style": "",
            "layout": "IPY_MODEL_0716dc84e1504dfeaa88daf7166f325b",
            "_model_module": "@jupyter-widgets/controls",
            "children": [
              "IPY_MODEL_703ab135fbd947b5afa642c154243afe",
              "IPY_MODEL_73772b2d6ad44deeb29547725967d89a",
              "IPY_MODEL_1917c9e6b2ff437ca8789354d807a960"
            ]
          }
        },
        "0716dc84e1504dfeaa88daf7166f325b": {
          "model_module": "@jupyter-widgets/base",
          "model_name": "LayoutModel",
          "model_module_version": "1.2.0",
          "state": {
            "_view_name": "LayoutView",
            "grid_template_rows": null,
            "right": null,
            "justify_content": null,
            "_view_module": "@jupyter-widgets/base",
            "overflow": null,
            "_model_module_version": "1.2.0",
            "_view_count": null,
            "flex_flow": null,
            "width": null,
            "min_width": null,
            "border": null,
            "align_items": null,
            "bottom": null,
            "_model_module": "@jupyter-widgets/base",
            "top": null,
            "grid_column": null,
            "overflow_y": null,
            "overflow_x": null,
            "grid_auto_flow": null,
            "grid_area": null,
            "grid_template_columns": null,
            "flex": null,
            "_model_name": "LayoutModel",
            "justify_items": null,
            "grid_row": null,
            "max_height": null,
            "align_content": null,
            "visibility": null,
            "align_self": null,
            "height": null,
            "min_height": null,
            "padding": null,
            "grid_auto_rows": null,
            "grid_gap": null,
            "max_width": null,
            "order": null,
            "_view_module_version": "1.2.0",
            "grid_template_areas": null,
            "object_position": null,
            "object_fit": null,
            "grid_auto_columns": null,
            "margin": null,
            "display": null,
            "left": null
          }
        },
        "703ab135fbd947b5afa642c154243afe": {
          "model_module": "@jupyter-widgets/controls",
          "model_name": "HTMLModel",
          "model_module_version": "1.5.0",
          "state": {
            "_view_name": "HTMLView",
            "style": "IPY_MODEL_a1fae7b54b3e41d38aa896beafb52abe",
            "_dom_classes": [],
            "description": "",
            "_model_name": "HTMLModel",
            "placeholder": "​",
            "_view_module": "@jupyter-widgets/controls",
            "_model_module_version": "1.5.0",
            "value": "Training... epoch13: 100%",
            "_view_count": null,
            "_view_module_version": "1.5.0",
            "description_tooltip": null,
            "_model_module": "@jupyter-widgets/controls",
            "layout": "IPY_MODEL_3c1f7ab153f04054ad4a22a268cabece"
          }
        },
        "73772b2d6ad44deeb29547725967d89a": {
          "model_module": "@jupyter-widgets/controls",
          "model_name": "FloatProgressModel",
          "model_module_version": "1.5.0",
          "state": {
            "_view_name": "ProgressView",
            "style": "IPY_MODEL_c236578e2e414f948926489d76bf465b",
            "_dom_classes": [],
            "description": "",
            "_model_name": "FloatProgressModel",
            "bar_style": "success",
            "max": 13,
            "_view_module": "@jupyter-widgets/controls",
            "_model_module_version": "1.5.0",
            "value": 13,
            "_view_count": null,
            "_view_module_version": "1.5.0",
            "orientation": "horizontal",
            "min": 0,
            "description_tooltip": null,
            "_model_module": "@jupyter-widgets/controls",
            "layout": "IPY_MODEL_f47ab4e6ea5a4099920693f61cc9a015"
          }
        },
        "1917c9e6b2ff437ca8789354d807a960": {
          "model_module": "@jupyter-widgets/controls",
          "model_name": "HTMLModel",
          "model_module_version": "1.5.0",
          "state": {
            "_view_name": "HTMLView",
            "style": "IPY_MODEL_eb4a412a1d4a401798581390e92f054f",
            "_dom_classes": [],
            "description": "",
            "_model_name": "HTMLModel",
            "placeholder": "​",
            "_view_module": "@jupyter-widgets/controls",
            "_model_module_version": "1.5.0",
            "value": " 13/13 [07:38&lt;00:00, 35.43s/it]",
            "_view_count": null,
            "_view_module_version": "1.5.0",
            "description_tooltip": null,
            "_model_module": "@jupyter-widgets/controls",
            "layout": "IPY_MODEL_ed0db698a0d34d3f828088ca6ddb8527"
          }
        },
        "a1fae7b54b3e41d38aa896beafb52abe": {
          "model_module": "@jupyter-widgets/controls",
          "model_name": "DescriptionStyleModel",
          "model_module_version": "1.5.0",
          "state": {
            "_view_name": "StyleView",
            "_model_name": "DescriptionStyleModel",
            "description_width": "",
            "_view_module": "@jupyter-widgets/base",
            "_model_module_version": "1.5.0",
            "_view_count": null,
            "_view_module_version": "1.2.0",
            "_model_module": "@jupyter-widgets/controls"
          }
        },
        "3c1f7ab153f04054ad4a22a268cabece": {
          "model_module": "@jupyter-widgets/base",
          "model_name": "LayoutModel",
          "model_module_version": "1.2.0",
          "state": {
            "_view_name": "LayoutView",
            "grid_template_rows": null,
            "right": null,
            "justify_content": null,
            "_view_module": "@jupyter-widgets/base",
            "overflow": null,
            "_model_module_version": "1.2.0",
            "_view_count": null,
            "flex_flow": null,
            "width": null,
            "min_width": null,
            "border": null,
            "align_items": null,
            "bottom": null,
            "_model_module": "@jupyter-widgets/base",
            "top": null,
            "grid_column": null,
            "overflow_y": null,
            "overflow_x": null,
            "grid_auto_flow": null,
            "grid_area": null,
            "grid_template_columns": null,
            "flex": null,
            "_model_name": "LayoutModel",
            "justify_items": null,
            "grid_row": null,
            "max_height": null,
            "align_content": null,
            "visibility": null,
            "align_self": null,
            "height": null,
            "min_height": null,
            "padding": null,
            "grid_auto_rows": null,
            "grid_gap": null,
            "max_width": null,
            "order": null,
            "_view_module_version": "1.2.0",
            "grid_template_areas": null,
            "object_position": null,
            "object_fit": null,
            "grid_auto_columns": null,
            "margin": null,
            "display": null,
            "left": null
          }
        },
        "c236578e2e414f948926489d76bf465b": {
          "model_module": "@jupyter-widgets/controls",
          "model_name": "ProgressStyleModel",
          "model_module_version": "1.5.0",
          "state": {
            "_view_name": "StyleView",
            "_model_name": "ProgressStyleModel",
            "description_width": "",
            "_view_module": "@jupyter-widgets/base",
            "_model_module_version": "1.5.0",
            "_view_count": null,
            "_view_module_version": "1.2.0",
            "bar_color": null,
            "_model_module": "@jupyter-widgets/controls"
          }
        },
        "f47ab4e6ea5a4099920693f61cc9a015": {
          "model_module": "@jupyter-widgets/base",
          "model_name": "LayoutModel",
          "model_module_version": "1.2.0",
          "state": {
            "_view_name": "LayoutView",
            "grid_template_rows": null,
            "right": null,
            "justify_content": null,
            "_view_module": "@jupyter-widgets/base",
            "overflow": null,
            "_model_module_version": "1.2.0",
            "_view_count": null,
            "flex_flow": null,
            "width": null,
            "min_width": null,
            "border": null,
            "align_items": null,
            "bottom": null,
            "_model_module": "@jupyter-widgets/base",
            "top": null,
            "grid_column": null,
            "overflow_y": null,
            "overflow_x": null,
            "grid_auto_flow": null,
            "grid_area": null,
            "grid_template_columns": null,
            "flex": null,
            "_model_name": "LayoutModel",
            "justify_items": null,
            "grid_row": null,
            "max_height": null,
            "align_content": null,
            "visibility": null,
            "align_self": null,
            "height": null,
            "min_height": null,
            "padding": null,
            "grid_auto_rows": null,
            "grid_gap": null,
            "max_width": null,
            "order": null,
            "_view_module_version": "1.2.0",
            "grid_template_areas": null,
            "object_position": null,
            "object_fit": null,
            "grid_auto_columns": null,
            "margin": null,
            "display": null,
            "left": null
          }
        },
        "eb4a412a1d4a401798581390e92f054f": {
          "model_module": "@jupyter-widgets/controls",
          "model_name": "DescriptionStyleModel",
          "model_module_version": "1.5.0",
          "state": {
            "_view_name": "StyleView",
            "_model_name": "DescriptionStyleModel",
            "description_width": "",
            "_view_module": "@jupyter-widgets/base",
            "_model_module_version": "1.5.0",
            "_view_count": null,
            "_view_module_version": "1.2.0",
            "_model_module": "@jupyter-widgets/controls"
          }
        },
        "ed0db698a0d34d3f828088ca6ddb8527": {
          "model_module": "@jupyter-widgets/base",
          "model_name": "LayoutModel",
          "model_module_version": "1.2.0",
          "state": {
            "_view_name": "LayoutView",
            "grid_template_rows": null,
            "right": null,
            "justify_content": null,
            "_view_module": "@jupyter-widgets/base",
            "overflow": null,
            "_model_module_version": "1.2.0",
            "_view_count": null,
            "flex_flow": null,
            "width": null,
            "min_width": null,
            "border": null,
            "align_items": null,
            "bottom": null,
            "_model_module": "@jupyter-widgets/base",
            "top": null,
            "grid_column": null,
            "overflow_y": null,
            "overflow_x": null,
            "grid_auto_flow": null,
            "grid_area": null,
            "grid_template_columns": null,
            "flex": null,
            "_model_name": "LayoutModel",
            "justify_items": null,
            "grid_row": null,
            "max_height": null,
            "align_content": null,
            "visibility": null,
            "align_self": null,
            "height": null,
            "min_height": null,
            "padding": null,
            "grid_auto_rows": null,
            "grid_gap": null,
            "max_width": null,
            "order": null,
            "_view_module_version": "1.2.0",
            "grid_template_areas": null,
            "object_position": null,
            "object_fit": null,
            "grid_auto_columns": null,
            "margin": null,
            "display": null,
            "left": null
          }
        }
      }
    }
  },
  "cells": [
    {
      "cell_type": "markdown",
      "metadata": {
        "id": "view-in-github",
        "colab_type": "text"
      },
      "source": [
        "<a href=\"https://colab.research.google.com/github/LironSimon/Modular_DL_algos/blob/main/LSTM_or_GRU_RNN.ipynb\" target=\"_parent\"><img src=\"https://colab.research.google.com/assets/colab-badge.svg\" alt=\"Open In Colab\"/></a>"
      ]
    },
    {
      "cell_type": "markdown",
      "metadata": {
        "id": "54a54btu-k5g"
      },
      "source": [
        "# **Imports & Downloads**\n",
        "*Imports all needed packages, and loads the Pen TreeBank dataset from a folder in the Drive.*\n",
        "\n",
        "***An action is needed in the 2nd and 3rd cells!***"
      ]
    },
    {
      "cell_type": "code",
      "metadata": {
        "id": "bILnGOaK-Hmv"
      },
      "source": [
        "import numpy as np\n",
        "import pandas as pd\n",
        "from datetime import datetime \n",
        "import tqdm.notebook as tq\n",
        "import matplotlib.pyplot as plt\n",
        "%matplotlib inline\n",
        "\n",
        "import torch\n",
        "import torch.nn as nn\n",
        "from torch.nn.utils import clip_grad_norm_\n",
        "import torch.nn.functional as F\n",
        "from torch.utils.data import DataLoader\n",
        "from torchvision import datasets, transforms\n",
        "\n",
        "# check device\n",
        "device = 'cuda' if torch.cuda.is_available() else 'cpu'"
      ],
      "execution_count": null,
      "outputs": []
    },
    {
      "cell_type": "markdown",
      "metadata": {
        "id": "2fBcq1vt-1JL"
      },
      "source": [
        "**2. Mount to Drive.** *Ensures we can save information to Drive*"
      ]
    },
    {
      "cell_type": "code",
      "metadata": {
        "colab": {
          "base_uri": "https://localhost:8080/"
        },
        "id": "XznVF1cj-3AF",
        "outputId": "7888dfdb-679c-4126-dd31-d9b8c017464f"
      },
      "source": [
        "from google.colab import drive\n",
        "drive.mount('/content/gdrive')"
      ],
      "execution_count": null,
      "outputs": [
        {
          "output_type": "stream",
          "name": "stdout",
          "text": [
            "Mounted at /content/gdrive\n"
          ]
        }
      ]
    },
    {
      "cell_type": "markdown",
      "metadata": {
        "id": "VvQ5H-ZG-_iX"
      },
      "source": [
        "**3. Change to a relavent path** *to be able to save or load data properly.*\n"
      ]
    },
    {
      "cell_type": "code",
      "metadata": {
        "id": "nZFYYTgU_H45"
      },
      "source": [
        "##########################################\n",
        "# ACTION NEEDED! Change to a relevant path\n",
        "##########################################\n",
        "path = '/content/gdrive/MyDrive/Deep Learning/EX2_302338470'"
      ],
      "execution_count": null,
      "outputs": []
    },
    {
      "cell_type": "markdown",
      "metadata": {
        "id": "tm7b3Mtv-3fU"
      },
      "source": [
        "**4. Create a dictionary class** *that encodes a given word to an interger. First word codded is given the value 0, second word is given the value 1 and so on...*"
      ]
    },
    {
      "cell_type": "code",
      "metadata": {
        "id": "j9UZIunHBU2G"
      },
      "source": [
        "class Dictionary(object):\n",
        "    def __init__(self):\n",
        "        self.word2int = {}\n",
        "        self.int2word = {}\n",
        "        self.idx = 0  #indicator of how many different words there are (minus 1)\n",
        "    \n",
        "    def add_word(self, word):\n",
        "        if not word in self.word2int:\n",
        "            self.word2int[word] = self.idx\n",
        "            self.int2word[self.idx] = word\n",
        "            self.idx += 1\n",
        "    \n",
        "    def __len__(self):\n",
        "        return len(self.word2int) # returns how many words are in the dict. Similar to self.idx in meaning but is more sensible"
      ],
      "execution_count": null,
      "outputs": []
    },
    {
      "cell_type": "markdown",
      "metadata": {
        "id": "-Uwgi1QED-nG"
      },
      "source": [
        "**5. Create a Courpus class** *that given a txt file, reads it, adds newly encountered words from it to the Dictionary, and loads it into an encoded interger dataset.*"
      ]
    },
    {
      "cell_type": "code",
      "metadata": {
        "id": "WaIhprF8-Hm1"
      },
      "source": [
        "class Corpus(object):\n",
        "    def __init__(self):\n",
        "        self.dictionary = Dictionary()\n",
        "\n",
        "    def get_data(self, path, batch_size=20):\n",
        "        # Add words to the dictionary\n",
        "        with open(path, 'r') as f:\n",
        "            tokens = 0  # the number of total words in the file (inclding end of line indicators)\n",
        "            for line in f:\n",
        "                sentence_lst = line.split() + ['<eos>']  #'<eos>' is an end of line indicator\n",
        "                tokens += len(sentence_lst)\n",
        "                for word in sentence_lst: \n",
        "                    self.dictionary.add_word(word)  #if word already exists it adds nothing\n",
        "        \n",
        "        # Tokenize the file content\n",
        "        dataset = torch.LongTensor(tokens)\n",
        "        token = 0  #index in the dataset tensor\n",
        "        with open(path, 'r') as f:\n",
        "            for line in f:\n",
        "                sentence_lst = line.split() + ['<eos>']\n",
        "                for word in sentence_lst:\n",
        "                    dataset[token] = self.dictionary.word2int[word]\n",
        "                    token += 1\n",
        "        \n",
        "        # calculate how to cleanly trim the data and trim it\n",
        "        num_batches = dataset.size(0) // batch_size\n",
        "        dataset= dataset[:num_batches*batch_size]\n",
        "\n",
        "        return dataset.view(batch_size, -1)\n",
        "    "
      ],
      "execution_count": null,
      "outputs": []
    },
    {
      "cell_type": "markdown",
      "metadata": {
        "id": "jYIVl_lh_KZp"
      },
      "source": [
        "**6. Define hyperparameters.** *All are based on the code in https://github.com/wojzaremba/lstm/blob/master/main.lua and modified for best results.*"
      ]
    },
    {
      "cell_type": "code",
      "metadata": {
        "id": "AWch3HG1-Hm5"
      },
      "source": [
        "batch_size = 20\n",
        "seq_length = 30  # in the article it was 20   \n",
        "embed_size = 128\n",
        "hidden_size = 200\n",
        "num_layers = 1\n",
        "num_epochs = 13   \n",
        "learning_rate = 0.002\n",
        "\n",
        "net_architects = ['LSTM', 'GRU']"
      ],
      "execution_count": null,
      "outputs": []
    },
    {
      "cell_type": "markdown",
      "metadata": {
        "id": "1235BXn9E58R"
      },
      "source": [
        "**7. Load Pen TreeBank datasets.**"
      ]
    },
    {
      "cell_type": "code",
      "metadata": {
        "id": "61r_mryQ-Hm7"
      },
      "source": [
        "# initialize Corpus class\n",
        "corpus = Corpus()\n",
        "\n",
        "# load datasets and calculate the trimed number of batches available for each:\n",
        "ids = corpus.get_data(f'{path}/PTB data/ptb.train.txt', batch_size)\n",
        "vocab_size = len(corpus.dictionary)\n",
        "num_batches = ids.size(1) // seq_length\n",
        "\n",
        "test_ids = corpus.get_data(f'{path}/PTB data/ptb.test.txt', batch_size)\n",
        "test_num_batches = test_ids.size(1) // seq_length\n",
        "\n",
        "valid_ids = corpus.get_data(f'{path}/PTB data/ptb.valid.txt', batch_size)\n",
        "valid_num_batches = valid_ids.size(1) // seq_length"
      ],
      "execution_count": null,
      "outputs": []
    },
    {
      "cell_type": "code",
      "metadata": {
        "colab": {
          "base_uri": "https://localhost:8080/"
        },
        "id": "sgPXL_WsxJp_",
        "outputId": "8f5135a3-cd79-4ea4-b483-75b3bd953e4f"
      },
      "source": [
        "# examine datasets\n",
        "print(f'Each set is of type {type(ids)}, and is shaped as:')\n",
        "print(f'Training - {ids.shape}, Validation - {valid_ids.shape}, Testing - {test_ids.shape}')\n",
        "\n",
        "print(f'\\nThe num of batches in each is {num_batches}, {valid_num_batches}, {test_num_batches} accourdingly')\n",
        "\n",
        "print(f'\\nEach dataset contains lists of ints. For example:\\n{ids[0]}')"
      ],
      "execution_count": null,
      "outputs": [
        {
          "output_type": "stream",
          "name": "stdout",
          "text": [
            "Each set is of type <class 'torch.Tensor'>, and is shaped as:\n",
            "Training - torch.Size([20, 46479]), Validation - torch.Size([20, 3688]), Testing - torch.Size([20, 4121])\n",
            "\n",
            "The num of batches in each is 1549, 122, 137 accourdingly\n",
            "\n",
            "Each dataset contains lists of ints. For example:\n",
            "tensor([   0,    1,    2,  ...,  152, 4955, 4150])\n"
          ]
        }
      ]
    },
    {
      "cell_type": "markdown",
      "metadata": {
        "id": "1CI5PHBxC0xo"
      },
      "source": [
        "# **2. Setting the Model.** \n",
        "*Creates a modular model class, a training and a testing function. The model created is able to change net archticture and dropout values.*"
      ]
    },
    {
      "cell_type": "markdown",
      "metadata": {
        "id": "mKzQyTISzMeo"
      },
      "source": [
        "**1. Initialize the model class.** *The model works modularly, switching between 'LSTM' or 'GRU' architects, and dropout values.*"
      ]
    },
    {
      "cell_type": "code",
      "metadata": {
        "id": "dbcSjVeJLXqE"
      },
      "source": [
        "class modular_RNN_Model(nn.Module):\n",
        "    def __init__(self, vocab_size, embed_size, hidden_size, num_layers, dropout, net_arch):\n",
        "        super().__init__()\n",
        "        self.embed = nn.Embedding(vocab_size, embed_size)\n",
        "        self.linear = nn.Linear(hidden_size, vocab_size)\n",
        "        self.n_layers = num_layers\n",
        "        self.hidden_dim = hidden_size\n",
        "        self.dropout = nn.Dropout(dropout)\n",
        "        self.net_arch = net_arch\n",
        "        if self.net_arch is 'LSTM': self.lstm = nn.LSTM(embed_size, hidden_size, num_layers, batch_first=True)\n",
        "        else: self.gru = nn.GRU(embed_size, hidden_size, num_layers, batch_first=True)\n",
        "           \n",
        "\n",
        "    def forward(self, x, h):\n",
        "        # Embed word ids to vectors\n",
        "        embd = self.dropout(self.embed(x))\n",
        "        # Forward propagate LSTM\n",
        "        if self.net_arch is 'LSTM':  out, (h, c) = self.lstm(embd, h)\n",
        "        else:  out, h = self.gru(embd, h)\n",
        "        out = self.dropout(out)\n",
        "        # Reshape output to (batch_size*sequence_length, hidden_size)\n",
        "        out = out.reshape(out.size(0)*out.size(1), out.size(2))\n",
        "        # Decode hidden states of all time steps\n",
        "        out = self.linear(out)\n",
        "        if self.net_arch is 'LSTM':  return out, (h, c)\n",
        "        else:  return out, h\n",
        "            \n",
        "\n",
        "    def init_hidden(self, batch_size):\n",
        "        weight = next(self.parameters()).data\n",
        "        if self.net_arch is 'LSTM':\n",
        "          hidden = (weight.new(self.n_layers, batch_size, self.hidden_dim).zero_().to(device),\n",
        "                    weight.new(self.n_layers, batch_size, self.hidden_dim).zero_().to(device))\n",
        "        else:  hidden = weight.new(self.n_layers, batch_size, self.hidden_dim).zero_().to(device)\n",
        "        return hidden\n",
        "     "
      ],
      "execution_count": null,
      "outputs": []
    },
    {
      "cell_type": "markdown",
      "metadata": {
        "id": "aAFuRj060EKD"
      },
      "source": [
        "**2. Define evaluation function.**"
      ]
    },
    {
      "cell_type": "code",
      "metadata": {
        "id": "nTLCWsq0-Hm3"
      },
      "source": [
        "def eval_model_Perplexity(model, criterion, set_id, n_batches, net_arch):   \n",
        "    '''Given a RNN model of net_architect type, with a specified criterion loss, \n",
        "       encoded data and number of clean batches,\n",
        "       returns two intregers: loss and perplexity'''\n",
        "    states = model.init_hidden(batch_size)\n",
        "    totloss = 0.\n",
        "\n",
        "    with torch.no_grad():\n",
        "        for i in range(0, set_id.size(1) - seq_length, seq_length):\n",
        "            # Get mini-batch inputs and targets\n",
        "            inputs = set_id[:, i:i+seq_length].to(device)\n",
        "            targets = set_id[:, (i+1):(i+1)+seq_length].to(device)\n",
        "\n",
        "            # Forward pass\n",
        "            if net_arch==\"GRU\": states = states.data\n",
        "            else: states = tuple([e.data for e in states])\n",
        "                \n",
        "            outputs, states = model(inputs, states)\n",
        "            totloss += criterion(outputs, targets.reshape(-1)).item()\n",
        "\n",
        "    totloss = totloss / n_batches\n",
        "    Perplexity = np.exp(totloss)\n",
        "    \n",
        "    return totloss, Perplexity\n"
      ],
      "execution_count": null,
      "outputs": []
    },
    {
      "cell_type": "markdown",
      "metadata": {
        "id": "dEhAG9jT01Gd"
      },
      "source": [
        "**3. Set the training function.**\n",
        "\n",
        "---\n",
        "\n"
      ]
    },
    {
      "cell_type": "code",
      "metadata": {
        "id": "_rIel2ln-HnD"
      },
      "source": [
        "def train_model(model, optimizer, criterion, num_epochs, net_arch):\n",
        "    # initialize perplexity trackers\n",
        "    train_Perplexitys, valid_Perplexitys, test_Perplexitys,  = [], [], []\n",
        "    \n",
        "    # Train the model\n",
        "    pbar = tq.tqdm(range(num_epochs))\n",
        "    for epoch in pbar:\n",
        "        pbar.set_description(f\"Training... epoch{epoch+1}\")\n",
        "        # initialize memory and enter training mode\n",
        "        states = model.init_hidden(batch_size)\n",
        "        model.train()\n",
        "\n",
        "        # initialize loss count and perplexity\n",
        "        best_perplexity = np.inf\n",
        "     \n",
        "        for i in range(0, ids.size(1) - seq_length, seq_length):\n",
        "            # Get mini-batch inputs and targets\n",
        "            inputs = ids[:, i:i+seq_length].to(device)\n",
        "            targets = ids[:, (i+1):(i+1)+seq_length].to(device)\n",
        "\n",
        "            # Forward pass\n",
        "            if net_arch==\"GRU\":  states = states.data\n",
        "            else:  states = tuple([e.data for e in states])         \n",
        "            \n",
        "            outputs, states = model(inputs, states)\n",
        "            loss = criterion(outputs, targets.reshape(-1))\n",
        "\n",
        "            # Backward and optimize\n",
        "            model.zero_grad()\n",
        "            loss.backward()\n",
        "            clip_grad_norm_(model.parameters(), 0.5)\n",
        "            optimizer.step()\n",
        "       \n",
        "              \n",
        "        # Beging validation of the model\n",
        "        print('-' * 100)       \n",
        "        model.eval()\n",
        "\n",
        "        # evaluate perplexity of training:\n",
        "        totloss, perplexity = eval_model_Perplexity(model, criterion, ids, num_batches, net_arch)\n",
        "        train_Perplexitys.append([totloss, perplexity])\n",
        "        print (f'Epoch [{epoch+1}/{num_epochs}], Training Perplexity: {round(np.exp(totloss),2)}')\n",
        "        \n",
        "        # evaluate perplexity of validation:\n",
        "        totloss, perplexity = eval_model_Perplexity(model, criterion, valid_ids, valid_num_batches, net_arch )\n",
        "        valid_Perplexitys.append([totloss, perplexity])\n",
        "        print (f'              Validation Perplexity: {round(np.exp(totloss),2)}')\n",
        "        \n",
        "        # save network weights if best perplexity is achieved\n",
        "        cur_perplexity = np.array(valid_Perplexitys).mean()\n",
        "        if cur_perplexity < best_perplexity:  \n",
        "          best_perplexity = cur_perplexity\n",
        "          torch.save(model.state_dict(), 'weights.pt')\n",
        "          trained_weights = model.state_dict()\n",
        "        \n",
        "        # evaluate perplexity of testing:\n",
        "        totloss, perplexity = eval_model_Perplexity(model, criterion, test_ids, test_num_batches, net_arch)\n",
        "        test_Perplexitys.append([totloss, perplexity])\n",
        "        print (f'              Testing Perplexity: {round(np.exp(totloss),2)}')\n",
        "        \n",
        "             \n",
        "            \n",
        "    return train_Perplexitys, valid_Perplexitys, test_Perplexitys, trained_weights\n",
        "                "
      ],
      "execution_count": null,
      "outputs": []
    },
    {
      "cell_type": "markdown",
      "metadata": {
        "id": "5iqDF-Ft-HnB"
      },
      "source": [
        "# **3. Train and test 4 nets.**\n",
        "*Loops over 4 net types ('LSTM' or 'GRU', with or without dropout) to train them using the functions from the previous section. Saves the perplexities achieved during training, validation and testing, and saves the weights that produced the best perplexties.*\n",
        "\n",
        "**If one does not desire to train the nets, DO NOT run this section!**"
      ]
    },
    {
      "cell_type": "markdown",
      "metadata": {
        "id": "-NLsuzQURbQh"
      },
      "source": [
        "**1. Prepare needed parameters.**"
      ]
    },
    {
      "cell_type": "code",
      "metadata": {
        "id": "6uvwWm-RRa_B"
      },
      "source": [
        "# create a dict to store iteration title as key and results a values\n",
        "full_results_dict = {}\n",
        "\n",
        "# create a df to store best perplexities and to present as a table\n",
        "index = pd.MultiIndex.from_product([net_architects, ['Dropout=0.5', 'No Dropout']])\n",
        "columns=['Training Perplexity', 'Validation Perplexity', 'Testing Perplexity']\n",
        "results = pd.DataFrame(index=index, columns=columns)"
      ],
      "execution_count": null,
      "outputs": []
    },
    {
      "cell_type": "markdown",
      "metadata": {
        "id": "cvvzFpdjHLCe"
      },
      "source": [
        "**2. Loop over net types, train and test.** *Stores results in the full_results_dict and results dataframe.*"
      ]
    },
    {
      "cell_type": "code",
      "metadata": {
        "id": "GMYeUXfY-HnD",
        "colab": {
          "base_uri": "https://localhost:8080/",
          "height": 1000,
          "referenced_widgets": [
            "50f0ed275bc449ec8336627efd37870b",
            "0dfee7ecb5264fda9e0b6b8f3ff66046",
            "577606dabe724e1b854f59060a11f479",
            "5c1d30bb039047709f57db68f9d4a886",
            "7da3ba11edc34926a959fd0aef9c4bde",
            "c89178b6665d463da96f89aa5b4c36e0",
            "07fc69bd21954c2f9444bdcb2f0b1290",
            "ce8b1a540dea45e7a6baf79f9e37a71a",
            "250797754ae44450920863e6c416dafc",
            "17cca8ec02f74d6aa8cc93b280c1ce62",
            "7f1b3a8477f14ac2930b2ee4c33994dc",
            "5bed5a1d451f4d37a0c0ad772b1e7bda",
            "7bf57453e768441b9cad5262091c7b4f",
            "3c5bb6437d334a50888d2ef6bd97d32a",
            "74f1a72f075147fcaf07dd1ab2af233b",
            "f93db26e4d224392855dba5df2120eef",
            "97e58538d12b4e8793e39a31d79ad574",
            "ea93ba7f3e684ffd89941149838519b3",
            "65890a1d6b03441682564579848c4057",
            "bf3bad0215fc459f9e578d067bcbd9f8",
            "1680dcc9bf014e94b71bece5d01ae71f",
            "f81f3bb0069049518cc84becf54cf9d3",
            "b877afc4a8054a31b97c2a1d24bac861",
            "e5e8752753a14104bc975584c63b2dd0",
            "71b625daf00e47ba9c5567739c0ba20d",
            "a3f82ff3400a479696ab7860496dff23",
            "be07eff8ab03400992577f30cedfc51e",
            "0f056b6114854adbbd91c148a619d205",
            "b0a01cb2008846e486225f597c80037a",
            "944205fcdbec49d5969afed3d2f0f4bc",
            "d235f73ddb4f4431acfefde718a28ce3",
            "e57ef4ebb5dd424ba0634b49e2f7e873",
            "1931d5b04c1749cfb558ab01dc4f0032",
            "fc273680a53746259ca822d16f2c8ad6",
            "0716dc84e1504dfeaa88daf7166f325b",
            "703ab135fbd947b5afa642c154243afe",
            "73772b2d6ad44deeb29547725967d89a",
            "1917c9e6b2ff437ca8789354d807a960",
            "a1fae7b54b3e41d38aa896beafb52abe",
            "3c1f7ab153f04054ad4a22a268cabece",
            "c236578e2e414f948926489d76bf465b",
            "f47ab4e6ea5a4099920693f61cc9a015",
            "eb4a412a1d4a401798581390e92f054f",
            "ed0db698a0d34d3f828088ca6ddb8527"
          ]
        },
        "outputId": "fc7d1ec7-fc6b-4476-9848-f165ecae1b03"
      },
      "source": [
        "for net_arch in net_architects: \n",
        "  for dropout in [0, 0.5]:\n",
        "\n",
        "    title = f'{net_arch} With Dropout = {dropout}'\n",
        "    print(f'{title}\\n')\n",
        "\n",
        "    # initialize model\n",
        "    model = modular_RNN_Model(vocab_size, embed_size, hidden_size, num_layers, dropout, net_arch).to(device)\n",
        "    # set loss and optimizer\n",
        "    criterion = nn.CrossEntropyLoss()\n",
        "    optimizer = torch.optim.Adam(model.parameters(), lr=learning_rate)\n",
        "\n",
        "    train_res, valid_res, test_res, trained_weights = train_model(model, optimizer, criterion, num_epochs, net_arch)\n",
        "    torch.save(trained_weights, f'{path}/Results/{title}_weights.pth')\n",
        "\n",
        "    # save to dict\n",
        "    train_Perplexity1 = [x for i,x in train_res]\n",
        "    valid_Perplexity1 = [x for i,x in valid_res]\n",
        "    test_Perplexity1 = [x for i,x in test_res]\n",
        "    full_results_dict[title] = [train_Perplexity1, test_Perplexity1]\n",
        "\n",
        "    # save to table\n",
        "    drop_flag = 'No Dropout' if dropout==0 else 'Dropout=0.5'  \n",
        "    results.loc[(net_arch, drop_flag), 'Training Perplexity'] = min(train_Perplexity1)\n",
        "    results.loc[(net_arch, drop_flag), 'Validation Perplexity'] = min(valid_Perplexity1)\n",
        "    results.loc[(net_arch, drop_flag), 'Testing Perplexity'] = min(test_Perplexity1)\n",
        "\n"
      ],
      "execution_count": null,
      "outputs": [
        {
          "output_type": "stream",
          "name": "stdout",
          "text": [
            "LSTM With Dropout = 0\n",
            "\n"
          ]
        },
        {
          "output_type": "display_data",
          "data": {
            "application/vnd.jupyter.widget-view+json": {
              "model_id": "50f0ed275bc449ec8336627efd37870b",
              "version_minor": 0,
              "version_major": 2
            },
            "text/plain": [
              "  0%|          | 0/13 [00:00<?, ?it/s]"
            ]
          },
          "metadata": {}
        },
        {
          "output_type": "stream",
          "name": "stdout",
          "text": [
            "----------------------------------------------------------------------------------------------------\n",
            "Epoch [1/13], Training Perplexity: 147.62\n",
            "              Validation Perplexity: 182.94\n",
            "              Testing Perplexity: 175.49\n",
            "----------------------------------------------------------------------------------------------------\n",
            "Epoch [2/13], Training Perplexity: 96.17\n",
            "              Validation Perplexity: 151.23\n",
            "              Testing Perplexity: 144.17\n",
            "----------------------------------------------------------------------------------------------------\n",
            "Epoch [3/13], Training Perplexity: 74.08\n",
            "              Validation Perplexity: 145.25\n",
            "              Testing Perplexity: 137.44\n",
            "----------------------------------------------------------------------------------------------------\n",
            "Epoch [4/13], Training Perplexity: 61.59\n",
            "              Validation Perplexity: 148.19\n",
            "              Testing Perplexity: 139.04\n",
            "----------------------------------------------------------------------------------------------------\n",
            "Epoch [5/13], Training Perplexity: 53.45\n",
            "              Validation Perplexity: 155.8\n",
            "              Testing Perplexity: 145.25\n",
            "----------------------------------------------------------------------------------------------------\n",
            "Epoch [6/13], Training Perplexity: 47.82\n",
            "              Validation Perplexity: 167.27\n",
            "              Testing Perplexity: 154.65\n",
            "----------------------------------------------------------------------------------------------------\n",
            "Epoch [7/13], Training Perplexity: 43.86\n",
            "              Validation Perplexity: 181.23\n",
            "              Testing Perplexity: 166.0\n",
            "----------------------------------------------------------------------------------------------------\n",
            "Epoch [8/13], Training Perplexity: 40.93\n",
            "              Validation Perplexity: 197.23\n",
            "              Testing Perplexity: 178.59\n",
            "----------------------------------------------------------------------------------------------------\n",
            "Epoch [9/13], Training Perplexity: 38.38\n",
            "              Validation Perplexity: 212.93\n",
            "              Testing Perplexity: 191.34\n",
            "----------------------------------------------------------------------------------------------------\n",
            "Epoch [10/13], Training Perplexity: 36.24\n",
            "              Validation Perplexity: 228.67\n",
            "              Testing Perplexity: 203.87\n",
            "----------------------------------------------------------------------------------------------------\n",
            "Epoch [11/13], Training Perplexity: 34.5\n",
            "              Validation Perplexity: 245.51\n",
            "              Testing Perplexity: 217.33\n",
            "----------------------------------------------------------------------------------------------------\n",
            "Epoch [12/13], Training Perplexity: 33.01\n",
            "              Validation Perplexity: 261.88\n",
            "              Testing Perplexity: 229.76\n",
            "----------------------------------------------------------------------------------------------------\n",
            "Epoch [13/13], Training Perplexity: 31.77\n",
            "              Validation Perplexity: 278.96\n",
            "              Testing Perplexity: 243.51\n",
            "LSTM With Dropout = 0.5\n",
            "\n"
          ]
        },
        {
          "output_type": "display_data",
          "data": {
            "application/vnd.jupyter.widget-view+json": {
              "model_id": "5bed5a1d451f4d37a0c0ad772b1e7bda",
              "version_minor": 0,
              "version_major": 2
            },
            "text/plain": [
              "  0%|          | 0/13 [00:00<?, ?it/s]"
            ]
          },
          "metadata": {}
        },
        {
          "output_type": "stream",
          "name": "stdout",
          "text": [
            "----------------------------------------------------------------------------------------------------\n",
            "Epoch [1/13], Training Perplexity: 240.97\n",
            "              Validation Perplexity: 260.05\n",
            "              Testing Perplexity: 249.37\n",
            "----------------------------------------------------------------------------------------------------\n",
            "Epoch [2/13], Training Perplexity: 181.44\n",
            "              Validation Perplexity: 209.58\n",
            "              Testing Perplexity: 199.3\n",
            "----------------------------------------------------------------------------------------------------\n",
            "Epoch [3/13], Training Perplexity: 152.96\n",
            "              Validation Perplexity: 185.14\n",
            "              Testing Perplexity: 175.71\n",
            "----------------------------------------------------------------------------------------------------\n",
            "Epoch [4/13], Training Perplexity: 136.27\n",
            "              Validation Perplexity: 171.52\n",
            "              Testing Perplexity: 162.74\n",
            "----------------------------------------------------------------------------------------------------\n",
            "Epoch [5/13], Training Perplexity: 124.78\n",
            "              Validation Perplexity: 162.31\n",
            "              Testing Perplexity: 153.9\n",
            "----------------------------------------------------------------------------------------------------\n",
            "Epoch [6/13], Training Perplexity: 116.21\n",
            "              Validation Perplexity: 155.48\n",
            "              Testing Perplexity: 147.22\n",
            "----------------------------------------------------------------------------------------------------\n",
            "Epoch [7/13], Training Perplexity: 109.23\n",
            "              Validation Perplexity: 150.41\n",
            "              Testing Perplexity: 141.78\n",
            "----------------------------------------------------------------------------------------------------\n",
            "Epoch [8/13], Training Perplexity: 103.78\n",
            "              Validation Perplexity: 146.44\n",
            "              Testing Perplexity: 137.98\n",
            "----------------------------------------------------------------------------------------------------\n",
            "Epoch [9/13], Training Perplexity: 99.81\n",
            "              Validation Perplexity: 143.76\n",
            "              Testing Perplexity: 135.44\n",
            "----------------------------------------------------------------------------------------------------\n",
            "Epoch [10/13], Training Perplexity: 96.29\n",
            "              Validation Perplexity: 141.7\n",
            "              Testing Perplexity: 133.5\n",
            "----------------------------------------------------------------------------------------------------\n",
            "Epoch [11/13], Training Perplexity: 93.21\n",
            "              Validation Perplexity: 139.88\n",
            "              Testing Perplexity: 131.25\n",
            "----------------------------------------------------------------------------------------------------\n",
            "Epoch [12/13], Training Perplexity: 89.79\n",
            "              Validation Perplexity: 138.34\n",
            "              Testing Perplexity: 129.27\n",
            "----------------------------------------------------------------------------------------------------\n",
            "Epoch [13/13], Training Perplexity: 87.75\n",
            "              Validation Perplexity: 137.52\n",
            "              Testing Perplexity: 128.19\n",
            "GRU With Dropout = 0\n",
            "\n"
          ]
        },
        {
          "output_type": "display_data",
          "data": {
            "application/vnd.jupyter.widget-view+json": {
              "model_id": "b877afc4a8054a31b97c2a1d24bac861",
              "version_minor": 0,
              "version_major": 2
            },
            "text/plain": [
              "  0%|          | 0/13 [00:00<?, ?it/s]"
            ]
          },
          "metadata": {}
        },
        {
          "output_type": "stream",
          "name": "stdout",
          "text": [
            "----------------------------------------------------------------------------------------------------\n",
            "Epoch [1/13], Training Perplexity: 125.96\n",
            "              Validation Perplexity: 170.21\n",
            "              Testing Perplexity: 164.18\n",
            "----------------------------------------------------------------------------------------------------\n",
            "Epoch [2/13], Training Perplexity: 81.44\n",
            "              Validation Perplexity: 148.28\n",
            "              Testing Perplexity: 143.02\n",
            "----------------------------------------------------------------------------------------------------\n",
            "Epoch [3/13], Training Perplexity: 63.19\n",
            "              Validation Perplexity: 149.28\n",
            "              Testing Perplexity: 143.06\n",
            "----------------------------------------------------------------------------------------------------\n",
            "Epoch [4/13], Training Perplexity: 52.91\n",
            "              Validation Perplexity: 157.09\n",
            "              Testing Perplexity: 149.42\n",
            "----------------------------------------------------------------------------------------------------\n",
            "Epoch [5/13], Training Perplexity: 46.68\n",
            "              Validation Perplexity: 168.99\n",
            "              Testing Perplexity: 159.6\n",
            "----------------------------------------------------------------------------------------------------\n",
            "Epoch [6/13], Training Perplexity: 42.33\n",
            "              Validation Perplexity: 183.15\n",
            "              Testing Perplexity: 171.48\n",
            "----------------------------------------------------------------------------------------------------\n",
            "Epoch [7/13], Training Perplexity: 39.6\n",
            "              Validation Perplexity: 199.21\n",
            "              Testing Perplexity: 185.08\n",
            "----------------------------------------------------------------------------------------------------\n",
            "Epoch [8/13], Training Perplexity: 37.18\n",
            "              Validation Perplexity: 215.83\n",
            "              Testing Perplexity: 198.86\n",
            "----------------------------------------------------------------------------------------------------\n",
            "Epoch [9/13], Training Perplexity: 35.37\n",
            "              Validation Perplexity: 231.88\n",
            "              Testing Perplexity: 211.75\n",
            "----------------------------------------------------------------------------------------------------\n",
            "Epoch [10/13], Training Perplexity: 33.77\n",
            "              Validation Perplexity: 247.85\n",
            "              Testing Perplexity: 225.73\n",
            "----------------------------------------------------------------------------------------------------\n",
            "Epoch [11/13], Training Perplexity: 32.54\n",
            "              Validation Perplexity: 265.1\n",
            "              Testing Perplexity: 239.64\n",
            "----------------------------------------------------------------------------------------------------\n",
            "Epoch [12/13], Training Perplexity: 31.39\n",
            "              Validation Perplexity: 282.56\n",
            "              Testing Perplexity: 253.57\n",
            "----------------------------------------------------------------------------------------------------\n",
            "Epoch [13/13], Training Perplexity: 30.57\n",
            "              Validation Perplexity: 299.11\n",
            "              Testing Perplexity: 267.0\n",
            "GRU With Dropout = 0.5\n",
            "\n"
          ]
        },
        {
          "output_type": "display_data",
          "data": {
            "application/vnd.jupyter.widget-view+json": {
              "model_id": "fc273680a53746259ca822d16f2c8ad6",
              "version_minor": 0,
              "version_major": 2
            },
            "text/plain": [
              "  0%|          | 0/13 [00:00<?, ?it/s]"
            ]
          },
          "metadata": {}
        },
        {
          "output_type": "stream",
          "name": "stdout",
          "text": [
            "----------------------------------------------------------------------------------------------------\n",
            "Epoch [1/13], Training Perplexity: 218.67\n",
            "              Validation Perplexity: 244.94\n",
            "              Testing Perplexity: 234.04\n",
            "----------------------------------------------------------------------------------------------------\n",
            "Epoch [2/13], Training Perplexity: 172.05\n",
            "              Validation Perplexity: 205.34\n",
            "              Testing Perplexity: 195.67\n",
            "----------------------------------------------------------------------------------------------------\n",
            "Epoch [3/13], Training Perplexity: 145.63\n",
            "              Validation Perplexity: 182.69\n",
            "              Testing Perplexity: 174.32\n",
            "----------------------------------------------------------------------------------------------------\n",
            "Epoch [4/13], Training Perplexity: 127.37\n",
            "              Validation Perplexity: 167.5\n",
            "              Testing Perplexity: 159.64\n",
            "----------------------------------------------------------------------------------------------------\n",
            "Epoch [5/13], Training Perplexity: 118.52\n",
            "              Validation Perplexity: 161.0\n",
            "              Testing Perplexity: 153.12\n",
            "----------------------------------------------------------------------------------------------------\n",
            "Epoch [6/13], Training Perplexity: 110.37\n",
            "              Validation Perplexity: 154.61\n",
            "              Testing Perplexity: 147.4\n",
            "----------------------------------------------------------------------------------------------------\n",
            "Epoch [7/13], Training Perplexity: 103.94\n",
            "              Validation Perplexity: 150.0\n",
            "              Testing Perplexity: 142.85\n",
            "----------------------------------------------------------------------------------------------------\n",
            "Epoch [8/13], Training Perplexity: 98.65\n",
            "              Validation Perplexity: 146.45\n",
            "              Testing Perplexity: 138.98\n",
            "----------------------------------------------------------------------------------------------------\n",
            "Epoch [9/13], Training Perplexity: 94.02\n",
            "              Validation Perplexity: 142.77\n",
            "              Testing Perplexity: 135.37\n",
            "----------------------------------------------------------------------------------------------------\n",
            "Epoch [10/13], Training Perplexity: 90.28\n",
            "              Validation Perplexity: 139.72\n",
            "              Testing Perplexity: 132.68\n",
            "----------------------------------------------------------------------------------------------------\n",
            "Epoch [11/13], Training Perplexity: 87.77\n",
            "              Validation Perplexity: 138.26\n",
            "              Testing Perplexity: 130.77\n",
            "----------------------------------------------------------------------------------------------------\n",
            "Epoch [12/13], Training Perplexity: 85.02\n",
            "              Validation Perplexity: 136.39\n",
            "              Testing Perplexity: 128.75\n",
            "----------------------------------------------------------------------------------------------------\n",
            "Epoch [13/13], Training Perplexity: 82.77\n",
            "              Validation Perplexity: 134.46\n",
            "              Testing Perplexity: 127.19\n"
          ]
        }
      ]
    },
    {
      "cell_type": "markdown",
      "metadata": {
        "id": "NSipiuvpT_HS"
      },
      "source": [
        "# **4. Show results.**\n",
        "*Presents perplexities achived during training, validation and testing both over time (in two types of graphing methods), and as maximun results shown in a table."
      ]
    },
    {
      "cell_type": "markdown",
      "metadata": {
        "id": "VLByZ6n0UAOT"
      },
      "source": [
        "**1. Show Max results in a table.** *NOTE: Instructions said to achieve a validation perplexity of under 100/125 with or without dropout!*"
      ]
    },
    {
      "cell_type": "code",
      "metadata": {
        "colab": {
          "base_uri": "https://localhost:8080/",
          "height": 207
        },
        "id": "wmsjmyvgUFQZ",
        "outputId": "db401eb6-f68b-431c-907a-69979e7f449e"
      },
      "source": [
        "print('The best perplexities acieved are:\\n')\n",
        "results"
      ],
      "execution_count": null,
      "outputs": [
        {
          "output_type": "stream",
          "name": "stdout",
          "text": [
            "The best perplexities acieved are:\n",
            "\n"
          ]
        },
        {
          "output_type": "execute_result",
          "data": {
            "text/html": [
              "<div>\n",
              "<style scoped>\n",
              "    .dataframe tbody tr th:only-of-type {\n",
              "        vertical-align: middle;\n",
              "    }\n",
              "\n",
              "    .dataframe tbody tr th {\n",
              "        vertical-align: top;\n",
              "    }\n",
              "\n",
              "    .dataframe thead th {\n",
              "        text-align: right;\n",
              "    }\n",
              "</style>\n",
              "<table border=\"1\" class=\"dataframe\">\n",
              "  <thead>\n",
              "    <tr style=\"text-align: right;\">\n",
              "      <th></th>\n",
              "      <th></th>\n",
              "      <th>Training Perplexity</th>\n",
              "      <th>Validation Perplexity</th>\n",
              "      <th>Testing Perplexity</th>\n",
              "    </tr>\n",
              "  </thead>\n",
              "  <tbody>\n",
              "    <tr>\n",
              "      <th rowspan=\"2\" valign=\"top\">LSTM</th>\n",
              "      <th>Dropout=0.5</th>\n",
              "      <td>87.749</td>\n",
              "      <td>137.524</td>\n",
              "      <td>128.193</td>\n",
              "    </tr>\n",
              "    <tr>\n",
              "      <th>No Dropout</th>\n",
              "      <td>31.7711</td>\n",
              "      <td>145.249</td>\n",
              "      <td>137.437</td>\n",
              "    </tr>\n",
              "    <tr>\n",
              "      <th rowspan=\"2\" valign=\"top\">GRU</th>\n",
              "      <th>Dropout=0.5</th>\n",
              "      <td>82.7678</td>\n",
              "      <td>134.46</td>\n",
              "      <td>127.187</td>\n",
              "    </tr>\n",
              "    <tr>\n",
              "      <th>No Dropout</th>\n",
              "      <td>30.5696</td>\n",
              "      <td>148.284</td>\n",
              "      <td>143.02</td>\n",
              "    </tr>\n",
              "  </tbody>\n",
              "</table>\n",
              "</div>"
            ],
            "text/plain": [
              "                 Training Perplexity Validation Perplexity Testing Perplexity\n",
              "LSTM Dropout=0.5              87.749               137.524            128.193\n",
              "     No Dropout              31.7711               145.249            137.437\n",
              "GRU  Dropout=0.5             82.7678                134.46            127.187\n",
              "     No Dropout              30.5696               148.284             143.02"
            ]
          },
          "metadata": {},
          "execution_count": 53
        }
      ]
    },
    {
      "cell_type": "markdown",
      "metadata": {
        "id": "-aim_mUqUISM"
      },
      "source": [
        "**2. Plot 4 graphs** *comparing training and testing perplexities as a function of epochs for each net.*"
      ]
    },
    {
      "cell_type": "code",
      "metadata": {
        "id": "vAYKtPMmOuMv"
      },
      "source": [
        "def plot_prplx( train_acc, validation_acc, title):\n",
        "    train_acc = np.array(train_acc)\n",
        "    validation_acc = np.array(validation_acc)\n",
        "    plt.plot(train_acc, color='green', label='Training Perplexity') \n",
        "    plt.plot(validation_acc, color='red', label='Validation Perplexity')\n",
        "    plt.xlabel('Epoch')  \n",
        "    plt.ylabel('Perplexity')  \n",
        "    plt.title(title)\n",
        "    plt.grid() \n",
        "    plt.legend()\n",
        "    plt.show()"
      ],
      "execution_count": null,
      "outputs": []
    },
    {
      "cell_type": "code",
      "metadata": {
        "colab": {
          "base_uri": "https://localhost:8080/",
          "height": 1000
        },
        "id": "xT4IebswPCy0",
        "outputId": "e25181b5-93e1-4136-f220-119c2ab05d01"
      },
      "source": [
        "for title in full_results_dict.keys():\n",
        "  plot_prplx(full_results_dict[title][0],full_results_dict[title][1],title)"
      ],
      "execution_count": null,
      "outputs": [
        {
          "output_type": "display_data",
          "data": {
            "image/png": "[encoded data removed]",
            "text/plain": [
              "<Figure size 432x288 with 1 Axes>"
            ]
          },
          "metadata": {
            "needs_background": "light"
          }
        },
        {
          "output_type": "display_data",
          "data": {
            "image/png": "[encoded data removed]",
            "text/plain": [
              "<Figure size 432x288 with 1 Axes>"
            ]
          },
          "metadata": {
            "needs_background": "light"
          }
        },
        {
          "output_type": "display_data",
          "data": {
            "image/png": "[encoded data removed]",
            "text/plain": [
              "<Figure size 432x288 with 1 Axes>"
            ]
          },
          "metadata": {
            "needs_background": "light"
          }
        },
        {
          "output_type": "display_data",
          "data": {
            "image/png": "[encoded data removed]",
            "text/plain": [
              "<Figure size 432x288 with 1 Axes>"
            ]
          },
          "metadata": {
            "needs_background": "light"
          }
        }
      ]
    },
    {
      "cell_type": "markdown",
      "metadata": {
        "id": "QUl5uGAJd_VQ"
      },
      "source": [
        "# Example of how to load a pre-trained model\n",
        "*Decide which net type ('LSTM'/'GRU' with/without dropout), and link to the right path*"
      ]
    },
    {
      "cell_type": "code",
      "metadata": {
        "id": "57Qir-LlXrxI",
        "colab": {
          "base_uri": "https://localhost:8080/"
        },
        "outputId": "a949fb29-e73e-4ccf-a29b-51883c599d90"
      },
      "source": [
        "model = modular_RNN_Model(vocab_size, embed_size, hidden_size, num_layers, 0, 'GRU')\n",
        "model.load_state_dict(torch.load(f'{path}/Results/GRU With Dropout = 0_weights.pth'))\n",
        "model.eval()"
      ],
      "execution_count": null,
      "outputs": [
        {
          "output_type": "execute_result",
          "data": {
            "text/plain": [
              "modular_RNN_Model(\n",
              "  (embed): Embedding(10000, 128)\n",
              "  (linear): Linear(in_features=200, out_features=10000, bias=True)\n",
              "  (dropout): Dropout(p=0, inplace=False)\n",
              "  (gru): GRU(128, 200, batch_first=True)\n",
              ")"
            ]
          },
          "metadata": {},
          "execution_count": 57
        }
      ]
    }
  ]
}
