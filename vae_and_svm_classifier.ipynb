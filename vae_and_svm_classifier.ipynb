{
  "nbformat": 4,
  "nbformat_minor": 0,
  "metadata": {
    "colab": {
      "provenance": [],
      "collapsed_sections": [],
      "include_colab_link": true
    },
    "kernelspec": {
      "name": "python3",
      "display_name": "Python 3"
    },
    "language_info": {
      "name": "python"
    },
    "widgets": {
      "application/vnd.jupyter.widget-state+json": {
        "8e2060fdaf5747d5a62c0a1eb2e65242": {
          "model_module": "@jupyter-widgets/controls",
          "model_name": "HBoxModel",
          "model_module_version": "1.5.0",
          "state": {
            "_view_name": "HBoxView",
            "_dom_classes": [],
            "_model_name": "HBoxModel",
            "_view_module": "@jupyter-widgets/controls",
            "_model_module_version": "1.5.0",
            "_view_count": null,
            "_view_module_version": "1.5.0",
            "box_style": "",
            "layout": "IPY_MODEL_dfdd92280fc447c3806c37680c54d494",
            "_model_module": "@jupyter-widgets/controls",
            "children": [
              "IPY_MODEL_8093c5c61bd546d4861925f7a65e5392",
              "IPY_MODEL_745b5e13ad22449189c3b6e7f9da9ffc",
              "IPY_MODEL_87c1547e34e74667bdcf8cfe4a6964aa"
            ]
          }
        },
        "dfdd92280fc447c3806c37680c54d494": {
          "model_module": "@jupyter-widgets/base",
          "model_name": "LayoutModel",
          "model_module_version": "1.2.0",
          "state": {
            "_view_name": "LayoutView",
            "grid_template_rows": null,
            "right": null,
            "justify_content": null,
            "_view_module": "@jupyter-widgets/base",
            "overflow": null,
            "_model_module_version": "1.2.0",
            "_view_count": null,
            "flex_flow": null,
            "width": null,
            "min_width": null,
            "border": null,
            "align_items": null,
            "bottom": null,
            "_model_module": "@jupyter-widgets/base",
            "top": null,
            "grid_column": null,
            "overflow_y": null,
            "overflow_x": null,
            "grid_auto_flow": null,
            "grid_area": null,
            "grid_template_columns": null,
            "flex": null,
            "_model_name": "LayoutModel",
            "justify_items": null,
            "grid_row": null,
            "max_height": null,
            "align_content": null,
            "visibility": null,
            "align_self": null,
            "height": null,
            "min_height": null,
            "padding": null,
            "grid_auto_rows": null,
            "grid_gap": null,
            "max_width": null,
            "order": null,
            "_view_module_version": "1.2.0",
            "grid_template_areas": null,
            "object_position": null,
            "object_fit": null,
            "grid_auto_columns": null,
            "margin": null,
            "display": null,
            "left": null
          }
        },
        "8093c5c61bd546d4861925f7a65e5392": {
          "model_module": "@jupyter-widgets/controls",
          "model_name": "HTMLModel",
          "model_module_version": "1.5.0",
          "state": {
            "_view_name": "HTMLView",
            "style": "IPY_MODEL_b3234dfd8ad947a3b1291a978bbcca38",
            "_dom_classes": [],
            "description": "",
            "_model_name": "HTMLModel",
            "placeholder": "​",
            "_view_module": "@jupyter-widgets/controls",
            "_model_module_version": "1.5.0",
            "value": "VAE Training Progress: 100%",
            "_view_count": null,
            "_view_module_version": "1.5.0",
            "description_tooltip": null,
            "_model_module": "@jupyter-widgets/controls",
            "layout": "IPY_MODEL_f0805e8468704566bd57517e6bdb215f"
          }
        },
        "745b5e13ad22449189c3b6e7f9da9ffc": {
          "model_module": "@jupyter-widgets/controls",
          "model_name": "FloatProgressModel",
          "model_module_version": "1.5.0",
          "state": {
            "_view_name": "ProgressView",
            "style": "IPY_MODEL_0998a4330b4d42b1816638607e5affa6",
            "_dom_classes": [],
            "description": "",
            "_model_name": "FloatProgressModel",
            "bar_style": "success",
            "max": 20,
            "_view_module": "@jupyter-widgets/controls",
            "_model_module_version": "1.5.0",
            "value": 20,
            "_view_count": null,
            "_view_module_version": "1.5.0",
            "orientation": "horizontal",
            "min": 0,
            "description_tooltip": null,
            "_model_module": "@jupyter-widgets/controls",
            "layout": "IPY_MODEL_43b17265009b4324a2734486e006db4d"
          }
        },
        "87c1547e34e74667bdcf8cfe4a6964aa": {
          "model_module": "@jupyter-widgets/controls",
          "model_name": "HTMLModel",
          "model_module_version": "1.5.0",
          "state": {
            "_view_name": "HTMLView",
            "style": "IPY_MODEL_d0f1a1e586c348509717078db5c2e5ac",
            "_dom_classes": [],
            "description": "",
            "_model_name": "HTMLModel",
            "placeholder": "​",
            "_view_module": "@jupyter-widgets/controls",
            "_model_module_version": "1.5.0",
            "value": " 20/20 [04:41&lt;00:00, 14.03s/it]",
            "_view_count": null,
            "_view_module_version": "1.5.0",
            "description_tooltip": null,
            "_model_module": "@jupyter-widgets/controls",
            "layout": "IPY_MODEL_98118634c0ee461aa82dff27d9b8410c"
          }
        },
        "b3234dfd8ad947a3b1291a978bbcca38": {
          "model_module": "@jupyter-widgets/controls",
          "model_name": "DescriptionStyleModel",
          "model_module_version": "1.5.0",
          "state": {
            "_view_name": "StyleView",
            "_model_name": "DescriptionStyleModel",
            "description_width": "",
            "_view_module": "@jupyter-widgets/base",
            "_model_module_version": "1.5.0",
            "_view_count": null,
            "_view_module_version": "1.2.0",
            "_model_module": "@jupyter-widgets/controls"
          }
        },
        "f0805e8468704566bd57517e6bdb215f": {
          "model_module": "@jupyter-widgets/base",
          "model_name": "LayoutModel",
          "model_module_version": "1.2.0",
          "state": {
            "_view_name": "LayoutView",
            "grid_template_rows": null,
            "right": null,
            "justify_content": null,
            "_view_module": "@jupyter-widgets/base",
            "overflow": null,
            "_model_module_version": "1.2.0",
            "_view_count": null,
            "flex_flow": null,
            "width": null,
            "min_width": null,
            "border": null,
            "align_items": null,
            "bottom": null,
            "_model_module": "@jupyter-widgets/base",
            "top": null,
            "grid_column": null,
            "overflow_y": null,
            "overflow_x": null,
            "grid_auto_flow": null,
            "grid_area": null,
            "grid_template_columns": null,
            "flex": null,
            "_model_name": "LayoutModel",
            "justify_items": null,
            "grid_row": null,
            "max_height": null,
            "align_content": null,
            "visibility": null,
            "align_self": null,
            "height": null,
            "min_height": null,
            "padding": null,
            "grid_auto_rows": null,
            "grid_gap": null,
            "max_width": null,
            "order": null,
            "_view_module_version": "1.2.0",
            "grid_template_areas": null,
            "object_position": null,
            "object_fit": null,
            "grid_auto_columns": null,
            "margin": null,
            "display": null,
            "left": null
          }
        },
        "0998a4330b4d42b1816638607e5affa6": {
          "model_module": "@jupyter-widgets/controls",
          "model_name": "ProgressStyleModel",
          "model_module_version": "1.5.0",
          "state": {
            "_view_name": "StyleView",
            "_model_name": "ProgressStyleModel",
            "description_width": "",
            "_view_module": "@jupyter-widgets/base",
            "_model_module_version": "1.5.0",
            "_view_count": null,
            "_view_module_version": "1.2.0",
            "bar_color": null,
            "_model_module": "@jupyter-widgets/controls"
          }
        },
        "43b17265009b4324a2734486e006db4d": {
          "model_module": "@jupyter-widgets/base",
          "model_name": "LayoutModel",
          "model_module_version": "1.2.0",
          "state": {
            "_view_name": "LayoutView",
            "grid_template_rows": null,
            "right": null,
            "justify_content": null,
            "_view_module": "@jupyter-widgets/base",
            "overflow": null,
            "_model_module_version": "1.2.0",
            "_view_count": null,
            "flex_flow": null,
            "width": null,
            "min_width": null,
            "border": null,
            "align_items": null,
            "bottom": null,
            "_model_module": "@jupyter-widgets/base",
            "top": null,
            "grid_column": null,
            "overflow_y": null,
            "overflow_x": null,
            "grid_auto_flow": null,
            "grid_area": null,
            "grid_template_columns": null,
            "flex": null,
            "_model_name": "LayoutModel",
            "justify_items": null,
            "grid_row": null,
            "max_height": null,
            "align_content": null,
            "visibility": null,
            "align_self": null,
            "height": null,
            "min_height": null,
            "padding": null,
            "grid_auto_rows": null,
            "grid_gap": null,
            "max_width": null,
            "order": null,
            "_view_module_version": "1.2.0",
            "grid_template_areas": null,
            "object_position": null,
            "object_fit": null,
            "grid_auto_columns": null,
            "margin": null,
            "display": null,
            "left": null
          }
        },
        "d0f1a1e586c348509717078db5c2e5ac": {
          "model_module": "@jupyter-widgets/controls",
          "model_name": "DescriptionStyleModel",
          "model_module_version": "1.5.0",
          "state": {
            "_view_name": "StyleView",
            "_model_name": "DescriptionStyleModel",
            "description_width": "",
            "_view_module": "@jupyter-widgets/base",
            "_model_module_version": "1.5.0",
            "_view_count": null,
            "_view_module_version": "1.2.0",
            "_model_module": "@jupyter-widgets/controls"
          }
        },
        "98118634c0ee461aa82dff27d9b8410c": {
          "model_module": "@jupyter-widgets/base",
          "model_name": "LayoutModel",
          "model_module_version": "1.2.0",
          "state": {
            "_view_name": "LayoutView",
            "grid_template_rows": null,
            "right": null,
            "justify_content": null,
            "_view_module": "@jupyter-widgets/base",
            "overflow": null,
            "_model_module_version": "1.2.0",
            "_view_count": null,
            "flex_flow": null,
            "width": null,
            "min_width": null,
            "border": null,
            "align_items": null,
            "bottom": null,
            "_model_module": "@jupyter-widgets/base",
            "top": null,
            "grid_column": null,
            "overflow_y": null,
            "overflow_x": null,
            "grid_auto_flow": null,
            "grid_area": null,
            "grid_template_columns": null,
            "flex": null,
            "_model_name": "LayoutModel",
            "justify_items": null,
            "grid_row": null,
            "max_height": null,
            "align_content": null,
            "visibility": null,
            "align_self": null,
            "height": null,
            "min_height": null,
            "padding": null,
            "grid_auto_rows": null,
            "grid_gap": null,
            "max_width": null,
            "order": null,
            "_view_module_version": "1.2.0",
            "grid_template_areas": null,
            "object_position": null,
            "object_fit": null,
            "grid_auto_columns": null,
            "margin": null,
            "display": null,
            "left": null
          }
        },
        "b71d43586a334bce83889d5a353888b7": {
          "model_module": "@jupyter-widgets/controls",
          "model_name": "HBoxModel",
          "model_module_version": "1.5.0",
          "state": {
            "_view_name": "HBoxView",
            "_dom_classes": [],
            "_model_name": "HBoxModel",
            "_view_module": "@jupyter-widgets/controls",
            "_model_module_version": "1.5.0",
            "_view_count": null,
            "_view_module_version": "1.5.0",
            "box_style": "",
            "layout": "IPY_MODEL_a1a0550da63f4408b4f0aa66319f253d",
            "_model_module": "@jupyter-widgets/controls",
            "children": [
              "IPY_MODEL_349503875c754d02b428751db0e055cb",
              "IPY_MODEL_450638434e61453f9f9cff54cafda4da",
              "IPY_MODEL_95e6f1996b5b4134a5331b07888df6d9"
            ]
          }
        },
        "a1a0550da63f4408b4f0aa66319f253d": {
          "model_module": "@jupyter-widgets/base",
          "model_name": "LayoutModel",
          "model_module_version": "1.2.0",
          "state": {
            "_view_name": "LayoutView",
            "grid_template_rows": null,
            "right": null,
            "justify_content": null,
            "_view_module": "@jupyter-widgets/base",
            "overflow": null,
            "_model_module_version": "1.2.0",
            "_view_count": null,
            "flex_flow": null,
            "width": null,
            "min_width": null,
            "border": null,
            "align_items": null,
            "bottom": null,
            "_model_module": "@jupyter-widgets/base",
            "top": null,
            "grid_column": null,
            "overflow_y": null,
            "overflow_x": null,
            "grid_auto_flow": null,
            "grid_area": null,
            "grid_template_columns": null,
            "flex": null,
            "_model_name": "LayoutModel",
            "justify_items": null,
            "grid_row": null,
            "max_height": null,
            "align_content": null,
            "visibility": null,
            "align_self": null,
            "height": null,
            "min_height": null,
            "padding": null,
            "grid_auto_rows": null,
            "grid_gap": null,
            "max_width": null,
            "order": null,
            "_view_module_version": "1.2.0",
            "grid_template_areas": null,
            "object_position": null,
            "object_fit": null,
            "grid_auto_columns": null,
            "margin": null,
            "display": null,
            "left": null
          }
        },
        "349503875c754d02b428751db0e055cb": {
          "model_module": "@jupyter-widgets/controls",
          "model_name": "HTMLModel",
          "model_module_version": "1.5.0",
          "state": {
            "_view_name": "HTMLView",
            "style": "IPY_MODEL_eb946bd45d7f49b1a2202ce6fe5390b4",
            "_dom_classes": [],
            "description": "",
            "_model_name": "HTMLModel",
            "placeholder": "​",
            "_view_module": "@jupyter-widgets/controls",
            "_model_module_version": "1.5.0",
            "value": "Training with 3000 Labels: 100%",
            "_view_count": null,
            "_view_module_version": "1.5.0",
            "description_tooltip": null,
            "_model_module": "@jupyter-widgets/controls",
            "layout": "IPY_MODEL_7590c7e81c3d4a85b4579ed7a4443612"
          }
        },
        "450638434e61453f9f9cff54cafda4da": {
          "model_module": "@jupyter-widgets/controls",
          "model_name": "FloatProgressModel",
          "model_module_version": "1.5.0",
          "state": {
            "_view_name": "ProgressView",
            "style": "IPY_MODEL_9856518236274d9bbee6380cb583d4f2",
            "_dom_classes": [],
            "description": "",
            "_model_name": "FloatProgressModel",
            "bar_style": "success",
            "max": 4,
            "_view_module": "@jupyter-widgets/controls",
            "_model_module_version": "1.5.0",
            "value": 4,
            "_view_count": null,
            "_view_module_version": "1.5.0",
            "orientation": "horizontal",
            "min": 0,
            "description_tooltip": null,
            "_model_module": "@jupyter-widgets/controls",
            "layout": "IPY_MODEL_3dff1772969a43df9abd78a2725d4185"
          }
        },
        "95e6f1996b5b4134a5331b07888df6d9": {
          "model_module": "@jupyter-widgets/controls",
          "model_name": "HTMLModel",
          "model_module_version": "1.5.0",
          "state": {
            "_view_name": "HTMLView",
            "style": "IPY_MODEL_d49970605ff448b5a22e8c71cbed5810",
            "_dom_classes": [],
            "description": "",
            "_model_name": "HTMLModel",
            "placeholder": "​",
            "_view_module": "@jupyter-widgets/controls",
            "_model_module_version": "1.5.0",
            "value": " 4/4 [00:12&lt;00:00,  3.76s/it]",
            "_view_count": null,
            "_view_module_version": "1.5.0",
            "description_tooltip": null,
            "_model_module": "@jupyter-widgets/controls",
            "layout": "IPY_MODEL_81ec4a1831124e4981a516554460d04f"
          }
        },
        "eb946bd45d7f49b1a2202ce6fe5390b4": {
          "model_module": "@jupyter-widgets/controls",
          "model_name": "DescriptionStyleModel",
          "model_module_version": "1.5.0",
          "state": {
            "_view_name": "StyleView",
            "_model_name": "DescriptionStyleModel",
            "description_width": "",
            "_view_module": "@jupyter-widgets/base",
            "_model_module_version": "1.5.0",
            "_view_count": null,
            "_view_module_version": "1.2.0",
            "_model_module": "@jupyter-widgets/controls"
          }
        },
        "7590c7e81c3d4a85b4579ed7a4443612": {
          "model_module": "@jupyter-widgets/base",
          "model_name": "LayoutModel",
          "model_module_version": "1.2.0",
          "state": {
            "_view_name": "LayoutView",
            "grid_template_rows": null,
            "right": null,
            "justify_content": null,
            "_view_module": "@jupyter-widgets/base",
            "overflow": null,
            "_model_module_version": "1.2.0",
            "_view_count": null,
            "flex_flow": null,
            "width": null,
            "min_width": null,
            "border": null,
            "align_items": null,
            "bottom": null,
            "_model_module": "@jupyter-widgets/base",
            "top": null,
            "grid_column": null,
            "overflow_y": null,
            "overflow_x": null,
            "grid_auto_flow": null,
            "grid_area": null,
            "grid_template_columns": null,
            "flex": null,
            "_model_name": "LayoutModel",
            "justify_items": null,
            "grid_row": null,
            "max_height": null,
            "align_content": null,
            "visibility": null,
            "align_self": null,
            "height": null,
            "min_height": null,
            "padding": null,
            "grid_auto_rows": null,
            "grid_gap": null,
            "max_width": null,
            "order": null,
            "_view_module_version": "1.2.0",
            "grid_template_areas": null,
            "object_position": null,
            "object_fit": null,
            "grid_auto_columns": null,
            "margin": null,
            "display": null,
            "left": null
          }
        },
        "9856518236274d9bbee6380cb583d4f2": {
          "model_module": "@jupyter-widgets/controls",
          "model_name": "ProgressStyleModel",
          "model_module_version": "1.5.0",
          "state": {
            "_view_name": "StyleView",
            "_model_name": "ProgressStyleModel",
            "description_width": "",
            "_view_module": "@jupyter-widgets/base",
            "_model_module_version": "1.5.0",
            "_view_count": null,
            "_view_module_version": "1.2.0",
            "bar_color": null,
            "_model_module": "@jupyter-widgets/controls"
          }
        },
        "3dff1772969a43df9abd78a2725d4185": {
          "model_module": "@jupyter-widgets/base",
          "model_name": "LayoutModel",
          "model_module_version": "1.2.0",
          "state": {
            "_view_name": "LayoutView",
            "grid_template_rows": null,
            "right": null,
            "justify_content": null,
            "_view_module": "@jupyter-widgets/base",
            "overflow": null,
            "_model_module_version": "1.2.0",
            "_view_count": null,
            "flex_flow": null,
            "width": null,
            "min_width": null,
            "border": null,
            "align_items": null,
            "bottom": null,
            "_model_module": "@jupyter-widgets/base",
            "top": null,
            "grid_column": null,
            "overflow_y": null,
            "overflow_x": null,
            "grid_auto_flow": null,
            "grid_area": null,
            "grid_template_columns": null,
            "flex": null,
            "_model_name": "LayoutModel",
            "justify_items": null,
            "grid_row": null,
            "max_height": null,
            "align_content": null,
            "visibility": null,
            "align_self": null,
            "height": null,
            "min_height": null,
            "padding": null,
            "grid_auto_rows": null,
            "grid_gap": null,
            "max_width": null,
            "order": null,
            "_view_module_version": "1.2.0",
            "grid_template_areas": null,
            "object_position": null,
            "object_fit": null,
            "grid_auto_columns": null,
            "margin": null,
            "display": null,
            "left": null
          }
        },
        "d49970605ff448b5a22e8c71cbed5810": {
          "model_module": "@jupyter-widgets/controls",
          "model_name": "DescriptionStyleModel",
          "model_module_version": "1.5.0",
          "state": {
            "_view_name": "StyleView",
            "_model_name": "DescriptionStyleModel",
            "description_width": "",
            "_view_module": "@jupyter-widgets/base",
            "_model_module_version": "1.5.0",
            "_view_count": null,
            "_view_module_version": "1.2.0",
            "_model_module": "@jupyter-widgets/controls"
          }
        },
        "81ec4a1831124e4981a516554460d04f": {
          "model_module": "@jupyter-widgets/base",
          "model_name": "LayoutModel",
          "model_module_version": "1.2.0",
          "state": {
            "_view_name": "LayoutView",
            "grid_template_rows": null,
            "right": null,
            "justify_content": null,
            "_view_module": "@jupyter-widgets/base",
            "overflow": null,
            "_model_module_version": "1.2.0",
            "_view_count": null,
            "flex_flow": null,
            "width": null,
            "min_width": null,
            "border": null,
            "align_items": null,
            "bottom": null,
            "_model_module": "@jupyter-widgets/base",
            "top": null,
            "grid_column": null,
            "overflow_y": null,
            "overflow_x": null,
            "grid_auto_flow": null,
            "grid_area": null,
            "grid_template_columns": null,
            "flex": null,
            "_model_name": "LayoutModel",
            "justify_items": null,
            "grid_row": null,
            "max_height": null,
            "align_content": null,
            "visibility": null,
            "align_self": null,
            "height": null,
            "min_height": null,
            "padding": null,
            "grid_auto_rows": null,
            "grid_gap": null,
            "max_width": null,
            "order": null,
            "_view_module_version": "1.2.0",
            "grid_template_areas": null,
            "object_position": null,
            "object_fit": null,
            "grid_auto_columns": null,
            "margin": null,
            "display": null,
            "left": null
          }
        }
      }
    },
    "accelerator": "GPU"
  },
  "cells": [
    {
      "cell_type": "markdown",
      "metadata": {
        "id": "view-in-github",
        "colab_type": "text"
      },
      "source": [
        "<a href=\"https://colab.research.google.com/github/LironSimon/modular_dl_algos/blob/main/vae_and_svm_classifier.ipynb\" target=\"_parent\"><img src=\"https://colab.research.google.com/assets/colab-badge.svg\" alt=\"Open In Colab\"/></a>"
      ]
    },
    {
      "cell_type": "markdown",
      "metadata": {
        "id": "UdcgIfw84xin"
      },
      "source": [
        "# **Imports & Downloads**\n",
        "*Imports all needed packages, and creates a function to load FashionMnist dataset from torchvision.*\n",
        "\n",
        "***An action is needed in the 2nd and 3rd cells!***\n"
      ]
    },
    {
      "cell_type": "code",
      "metadata": {
        "id": "Za2mI5mzNqxF"
      },
      "source": [
        "import numpy as np\n",
        "import pandas as pd\n",
        "import tqdm.notebook as tq\n",
        "import random\n",
        "import math\n",
        "import pickle\n",
        "import time\n",
        "\n",
        "import torch\n",
        "import torch.nn as nn\n",
        "import torch.nn.functional as F\n",
        "from torch.utils.data import DataLoader\n",
        "from torchvision import datasets, transforms\n",
        "from torch.autograd import Variable\n",
        "from sklearn import svm, metrics\n",
        "\n",
        "# check device\n",
        "device = 'cuda' if torch.cuda.is_available() else 'cpu'"
      ],
      "execution_count": null,
      "outputs": []
    },
    {
      "cell_type": "markdown",
      "metadata": {
        "id": "xo7ydIIH5cUv"
      },
      "source": [
        "**2. Mount to Drive.** *Ensures we can save information to Drive*"
      ]
    },
    {
      "cell_type": "code",
      "metadata": {
        "colab": {
          "base_uri": "https://localhost:8080/"
        },
        "id": "ic4z43TN6Upb",
        "outputId": "0b4227ff-bfc1-436b-d17e-4902bfe54dc6"
      },
      "source": [
        "from google.colab import drive\n",
        "drive.mount('/content/gdrive')"
      ],
      "execution_count": null,
      "outputs": [
        {
          "output_type": "stream",
          "name": "stdout",
          "text": [
            "Mounted at /content/gdrive\n"
          ]
        }
      ]
    },
    {
      "cell_type": "markdown",
      "metadata": {
        "id": "3qsgEYaq-fy1"
      },
      "source": [
        "**3. Change to a relevant path** *to be able to save or load data properly.*"
      ]
    },
    {
      "cell_type": "code",
      "metadata": {
        "id": "gkNxCZ7c-mQW"
      },
      "source": [
        "##########################################\n",
        "# ACTION NEEDED! Change to a relevant path\n",
        "##########################################\n",
        "path = '/content/gdrive/MyDrive/Deep Learning/EX3_302338470'"
      ],
      "execution_count": null,
      "outputs": []
    },
    {
      "cell_type": "markdown",
      "metadata": {
        "id": "q3d7s5oe_aDa"
      },
      "source": [
        "**4. Create a function to load FashionMnist data.** *Returns a labeled set, an unlabeled set or a testing set - as needed. The number of images in the labeled set is defined by 'Nlabels'. As in Kingsma et al., all classes have the same number of labelled points.*"
      ]
    },
    {
      "cell_type": "code",
      "metadata": {
        "id": "lvFB27TdA-XY"
      },
      "source": [
        "def load_data(train_bool, Nlabels=None, batch_size=64):\n",
        "  # transform PIL images to tensors with 0 or 1 values\n",
        "  flatten_bernoulli = lambda x: transforms.ToTensor()(x).view(-1).bernoulli()\n",
        "  # load trainig/ testing data from the internet to root path.\n",
        "  FashionMNIST_set = datasets.FashionMNIST(root=f'{path}/Q3 - saved data', download=True, train=train_bool, transform=flatten_bernoulli)  \n",
        "  \n",
        "  # load data accourding to type and number of labeled observations:\n",
        "\n",
        "  if not train_bool:  # FashionMNIST_set is a testing set\n",
        "    dataset = torch.utils.data.DataLoader(FashionMNIST_set, batch_size=len(FashionMNIST_set))\n",
        "  \n",
        "  else: # FashionMNIST_set is a training set\n",
        "    if Nlabels is None:  # VAE training\n",
        "      dataset = torch.utils.data.DataLoader(FashionMNIST_set, batch_size=batch_size)\n",
        "    else:  # SVM training\n",
        "      # count classes and initialise a list to save Nlabels indices of labeled observations\n",
        "      Nclasses = len(FashionMNIST_set.classes)\n",
        "      sample_indices = []\n",
        "      for Class in range(Nclasses):\n",
        "        # find observation of this class and squeeze to a 1D aaray\n",
        "        class_indices = np.argwhere(FashionMNIST_set.targets.numpy() == Class).squeeze()\n",
        "        # generate (Nlabels // Nclasses) random samples for this class, and save thier indices\n",
        "        labeled_data_indices = np.random.choice(class_indices, Nlabels // Nclasses)\n",
        "        [sample_indices.append(x) for x in labeled_data_indices]\n",
        "        # create a randm list of labeled data indices \n",
        "        sampler = torch.utils.data.SubsetRandomSampler(sample_indices)\n",
        "        # load labeled data from the specific indices\n",
        "        dataset = torch.utils.data.DataLoader(FashionMNIST_set, batch_size=batch_size, sampler=sampler)  \n",
        "\n",
        "  return dataset\n",
        "\n"
      ],
      "execution_count": null,
      "outputs": []
    },
    {
      "cell_type": "markdown",
      "metadata": {
        "id": "we-tjXW9NmtX"
      },
      "source": [
        "#**2. Setting the model** \n",
        "*As described in [Kingsma et al. [2014]](https://proceedings.neurips.cc/paper/2014/file/d523773c6b194f37b938d340d5d02232-Paper.pdf). Model is constructed using several classes defined seperatly such as the Encoder and Decoder.*\n"
      ]
    },
    {
      "cell_type": "markdown",
      "metadata": {
        "id": "-MWi9fA7IRtd"
      },
      "source": [
        "**1. Define hyperparameters.**"
      ]
    },
    {
      "cell_type": "code",
      "metadata": {
        "id": "ClfN3V4vFRmo"
      },
      "source": [
        "batch_size = 64\n",
        "epochs = 20\n",
        "learning_rate = 3e-4\n",
        "Nlabels = [100, 600, 1000, 3000]"
      ],
      "execution_count": null,
      "outputs": []
    },
    {
      "cell_type": "markdown",
      "metadata": {
        "id": "wFzsTowqN_gD"
      },
      "source": [
        "**2. Set classes.** *Creates a stochastic layer, an encoder, a decoder, and finally - the M1 class.*"
      ]
    },
    {
      "cell_type": "code",
      "metadata": {
        "id": "Tu2yZTXZSNHY"
      },
      "source": [
        "class GaussianSample(nn.Module):\n",
        "    \"\"\" A stochastic layer that represents a sample from a\n",
        "        Gaussian distribution.\"\"\"\n",
        "\n",
        "    def __init__(self, in_features, out_features):\n",
        "      super().__init__()\n",
        "      self.in_features = in_features\n",
        "      self.out_features = out_features\n",
        "      self.mu = nn.Linear(in_features, out_features)\n",
        "      self.log_var = nn.Linear(in_features, out_features)\n",
        "    \n",
        "    def reparametrize(self, mu, log_var):\n",
        "      ''' Draws a sample from a distribution parametrised by mu and log_var.'''\n",
        "      # std = exp(0.5 * log_var)\n",
        "      std = log_var.mul(0.5).exp_().to(device)\n",
        "      # z = std * epsilon + mu\n",
        "      epsilon = Variable(torch.randn(mu.size()), requires_grad=False).to(device)\n",
        "      mu = mu.to(device)\n",
        "      z = mu.addcmul(std, epsilon)\n",
        "      return z\n",
        "\n",
        "    def forward(self, x):\n",
        "      mu = self.mu(x)\n",
        "      log_var = self.log_var(x)\n",
        "      return self.reparametrize(mu, log_var), mu, log_var\n"
      ],
      "execution_count": null,
      "outputs": []
    },
    {
      "cell_type": "code",
      "metadata": {
        "id": "J6dsNbRXS4uy"
      },
      "source": [
        "class Encoder(nn.Module):\n",
        "  \"\"\"Network that attempts to infer p(z|x) from the data\n",
        "     by fitting a variational distribution q_φ(z|x). \n",
        "     Returns the two parameters of the distribution (µ, log σ²).\"\"\"    \n",
        "  def __init__(self, dims):\n",
        "    super().__init__()\n",
        "    [Xdim, Ydim, Zdim] = dims\n",
        "    neurons = [Xdim, *Ydim]\n",
        "    self.sample = GaussianSample(Ydim[-1], Zdim)\n",
        "    linear_layers = [nn.Linear(neurons[i-1], neurons[i]) for i in range(1, len(neurons))]\n",
        "    self.hidden = nn.ModuleList(linear_layers)\n",
        "\n",
        "  def forward(self, x):\n",
        "    for layer in self.hidden:\n",
        "        x = F.softplus(layer(x))\n",
        "    return self.sample(x)\n"
      ],
      "execution_count": null,
      "outputs": []
    },
    {
      "cell_type": "code",
      "metadata": {
        "id": "wuYPIJE9S-6r"
      },
      "source": [
        "class Decoder(nn.Module):\n",
        "  '''Network that generates samples from p(x) by finding p_θ(x|z).'''\n",
        "  def __init__(self, dims):\n",
        "      super().__init__()\n",
        "      [Zdim, Ydim, Xdim] = dims\n",
        "      neurons = [Zdim, *Ydim]\n",
        "      self.reconstruction = nn.Linear(Ydim[-1], Xdim)\n",
        "      linear_layers = [nn.Linear(neurons[i-1], neurons[i]) for i in range(1, len(neurons))]\n",
        "      self.hidden = nn.ModuleList(linear_layers)\n",
        "      self.output_activation = nn.Sigmoid()\n",
        "\n",
        "  def forward(self, x):\n",
        "      for layer in self.hidden:\n",
        "          x = F.softplus(layer(x))\n",
        "      return self.output_activation(self.reconstruction(x))\n"
      ],
      "execution_count": null,
      "outputs": []
    },
    {
      "cell_type": "markdown",
      "metadata": {
        "id": "W3uN3H6PvZ7a"
      },
      "source": [
        "**2. Create a calculative function** *needed for M1 model*"
      ]
    },
    {
      "cell_type": "code",
      "metadata": {
        "id": "GlIBFTONkBzG"
      },
      "source": [
        "def logGaussian(x, mu, log_var):\n",
        "    \"\"\"Returns log N(x|µ,σ), the log pdf of a normal distribution parametrised\n",
        "    by mu (mean of distribution) and log_var ( log variance of distribution) evaluated at point x.\"\"\" \n",
        "    log_pdf = - 0.5 * math.log(2 * math.pi) - log_var / 2 - (x - mu)**2 / (2 * torch.exp(log_var))\n",
        "    return torch.sum(log_pdf, dim=-1)"
      ],
      "execution_count": null,
      "outputs": []
    },
    {
      "cell_type": "markdown",
      "metadata": {
        "id": "5mIDAiG2vo8d"
      },
      "source": [
        "**3. Set M1** *accourding to the cited paper*"
      ]
    },
    {
      "cell_type": "code",
      "metadata": {
        "id": "tylxLEvnORv_"
      },
      "source": [
        "class M1_model(nn.Module):\n",
        "  \"\"\"An encoder/decoder pair for which\n",
        "     a variational distribution is fitted to the\n",
        "     encoder.\"\"\"\n",
        "  def __init__(self, Xdim):\n",
        "       super().__init__()\n",
        "       Ydim = (600, 600)\n",
        "       Zdim = 50\n",
        "       self.z_dim = Zdim\n",
        "       self.flow = None\n",
        "       self.encoder = Encoder([Xdim, Ydim, Zdim]).to(device)\n",
        "       self.decoder = Decoder([Zdim, Ydim, Xdim]).to(device)\n",
        "       self.kl_divergence = 0\n",
        "       for m in self.modules():\n",
        "        if isinstance(m, nn.Linear):\n",
        "          nn.init.normal_(m.weight.data, std=1e-3).to(device)\n",
        "          if m.bias is not None:\n",
        "             m.bias.data.zero_().to(device)\n",
        "\n",
        "\n",
        "  def _kld(self, z, q_param, p_param=None):\n",
        "        \"\"\"Given:\n",
        "           - z: sample from q-distribuion\n",
        "           - q_param: (mu, log_var) of the q-distribution\n",
        "           - p_param: (mu, log_var) of the p-distribution\n",
        "        Returns KL(q||p), the KL-divergence of element z.\"\"\"\n",
        "        (mu, log_var) = q_param\n",
        "        # define qz\n",
        "        if self.flow is not None:\n",
        "            f_z, log_det_z = self.flow(z)\n",
        "            qz = logGaussian(z, mu, log_var) - sum(log_det_z)\n",
        "            z = f_z\n",
        "        else: qz = logGaussian(z, mu, log_var)\n",
        "        # define pz\n",
        "        if p_param is None:  pz = torch.sum(-0.5 * math.log(2 * math.pi) - z ** 2 / 2, dim=-1)\n",
        "        else:\n",
        "            (mu, log_var) = p_param\n",
        "            pz = logGaussian(z, mu, log_var)\n",
        "        # Return KL-divergence of elemnt z\n",
        "        return qz - pz\n",
        "\n",
        "\n",
        "  def forward(self, x):\n",
        "        \"\"\"Given a data point x,\n",
        "           returns its reconstruction and q distribution parameters.\"\"\"\n",
        "        z, z_mu, z_log_var = self.encoder(x)\n",
        "        self.kl_divergence = self._kld(z, (z_mu, z_log_var))\n",
        "        x_mu = self.decoder(z)\n",
        "        return x_mu\n",
        "\n",
        "\n",
        "  def sample(self, z):\n",
        "        \"\"\"Given z ~ N(0, I) generates a sample from\n",
        "        the learned distribution based on p_θ(x|z).\"\"\"\n",
        "        return self.decoder(z)\n",
        "  \n",
        "\n",
        "  def add_flow(self, flow):\n",
        "      self.flow = flow\n"
      ],
      "execution_count": null,
      "outputs": []
    },
    {
      "cell_type": "markdown",
      "metadata": {
        "id": "zatcy6bPWnQR"
      },
      "source": [
        "# **3. Train VAE and prepare to test M1**"
      ]
    },
    {
      "cell_type": "markdown",
      "metadata": {
        "id": "RING9IVHPFHY"
      },
      "source": [
        "**1. Train VAE and save the weights.** *Uses Adam optimizer and BCE loss criterion.*"
      ]
    },
    {
      "cell_type": "code",
      "metadata": {
        "id": "MXsf8BlNk6Ck"
      },
      "source": [
        "def trainVAE(epochs=epochs, batch_size=batch_size,lr=learning_rate):\n",
        "    \"\"\"Trains the implemented M1 VAE network using Adam optimizer and BCE Loss.\n",
        "       Returs the trained weights\"\"\"\n",
        "    # load the VAE training dataset in batches of 64 images\n",
        "    dataset = load_data(train_bool=True, Nlabels=None, batch_size=batch_size)\n",
        "    # initialize model\n",
        "    VAE = M1_model(784)   # Xdim = size of an image\n",
        "    VAE.to(device)\n",
        "    # Set Adam optimizer, learning rate and  Binary Cross Entropy criterion\n",
        "    optimizer = torch.optim.Adam(VAE.parameters(), lr=learning_rate)\n",
        "    criterion = torch.nn.BCELoss(reduction='none')\n",
        "\n",
        "    # train...\n",
        "    loss_lst = []\n",
        "    for epoch in tq.tqdm(range(epochs), desc=\"VAE Training Progress\"):\n",
        "        VAE.train()\n",
        "        totLoss = 0\n",
        "        for samples, _ in dataset:\n",
        "            samples = samples.to(device)\n",
        "            x = VAE(samples)\n",
        "            likelihood = -criterion(x, samples)\n",
        "            J = likelihood.sum(axis=1) - VAE.kl_divergence\n",
        "            loss = -torch.mean(J)\n",
        "            \n",
        "            loss.backward()\n",
        "            optimizer.step()\n",
        "            optimizer.zero_grad()\n",
        "            totLoss += loss.item()\n",
        "        loss_lst.append(totLoss)\n",
        "\n",
        "    return VAE.state_dict()"
      ],
      "execution_count": null,
      "outputs": []
    },
    {
      "cell_type": "code",
      "metadata": {
        "colab": {
          "base_uri": "https://localhost:8080/",
          "height": 49,
          "referenced_widgets": [
            "8e2060fdaf5747d5a62c0a1eb2e65242",
            "dfdd92280fc447c3806c37680c54d494",
            "8093c5c61bd546d4861925f7a65e5392",
            "745b5e13ad22449189c3b6e7f9da9ffc",
            "87c1547e34e74667bdcf8cfe4a6964aa",
            "b3234dfd8ad947a3b1291a978bbcca38",
            "f0805e8468704566bd57517e6bdb215f",
            "0998a4330b4d42b1816638607e5affa6",
            "43b17265009b4324a2734486e006db4d",
            "d0f1a1e586c348509717078db5c2e5ac",
            "98118634c0ee461aa82dff27d9b8410c"
          ]
        },
        "id": "sSwANiZB18Lx",
        "outputId": "ac1e1f57-8e66-407f-bac0-dc037e330979"
      },
      "source": [
        "VAE_weights = trainVAE()\n",
        "torch.save(VAE_weights, f'{path}/Q3 - saved data/VAEweights.pt')"
      ],
      "execution_count": null,
      "outputs": [
        {
          "output_type": "display_data",
          "data": {
            "application/vnd.jupyter.widget-view+json": {
              "model_id": "8e2060fdaf5747d5a62c0a1eb2e65242",
              "version_minor": 0,
              "version_major": 2
            },
            "text/plain": [
              "VAE Training Progress:   0%|          | 0/20 [00:00<?, ?it/s]"
            ]
          },
          "metadata": {}
        }
      ]
    },
    {
      "cell_type": "markdown",
      "metadata": {
        "id": "6joVyvIgPlT-"
      },
      "source": [
        "**2. Create a function to train the SVM** *and calculate accuracy in [%]*"
      ]
    },
    {
      "cell_type": "code",
      "metadata": {
        "id": "5VjfvDXCGAHl"
      },
      "source": [
        "def trainSVM(Nlabels, VEA_model):\n",
        "    '''Given the desired number of labeled data,\n",
        "       Returns the trained SVM and its accuracy[%] '''\n",
        "\n",
        "    # load the SVM training dataset in batches\n",
        "    dataset = load_data(train_bool=True, Nlabels=Nlabels, batch_size=Nlabels)\n",
        "\n",
        "    # get latent representation of dataset:\n",
        "    samples, labels = next(iter(dataset))\n",
        "    samples = samples.to(device)\n",
        "    latent, _, _ = VAE.encoder(samples)\n",
        "\n",
        "    # train the SVM based on the latent representation:\n",
        "    trainedSvm = svm.SVC(kernel='rbf')\n",
        "    trainedSvm.fit(latent.detach().to('cpu').numpy(), labels)\n",
        "\n",
        "    # Initialize test set:\n",
        "    dataloader = load_data(train_bool=False)\n",
        "    \n",
        "    # get testSet's latent representation:\n",
        "    samples, labels = next(iter(dataloader))\n",
        "    \n",
        "    # Get latent representation and predict class:\n",
        "    samples = samples.to(device)\n",
        "    latent, _, _ = VAE.encoder(samples)\n",
        "    preds = trainedSvm.predict(latent.detach().to('cpu').numpy())\n",
        "    \n",
        "    # calculate accuracy:\n",
        "    accuracy = metrics.accuracy_score(labels, preds)*100\n",
        "\n",
        "    return trainedSvm, accuracy"
      ],
      "execution_count": null,
      "outputs": []
    },
    {
      "cell_type": "markdown",
      "metadata": {
        "id": "dapbfrXjX57Z"
      },
      "source": [
        "# **4. Train and test M1 in 4 variations**\n",
        "*Each time using a differrent number of labeled images.*"
      ]
    },
    {
      "cell_type": "markdown",
      "metadata": {
        "id": "GTRdAj4lQr5I"
      },
      "source": [
        "**1. Set needed parameters** "
      ]
    },
    {
      "cell_type": "code",
      "metadata": {
        "id": "XBYQO_IJ9dZp"
      },
      "source": [
        "accuracies = pd.Series(index=Nlabels, data=np.zeros_like(Nlabels), name='Accuracies', dtype=float)\n",
        "\n",
        "seed = 10 # so the results would be consistent\n",
        "\n",
        "##########################################\n",
        "# ACTION NEEDED! Change to a relevant path\n",
        "##########################################\n",
        "# in case you didn't train the VAE and would\n",
        "# like to load weights, remove hashtags from the next line:\n",
        "#\n",
        "# VAE_weights = torch.load(f'{path}/Q3 - saved data/VAEweights.pt')"
      ],
      "execution_count": null,
      "outputs": []
    },
    {
      "cell_type": "markdown",
      "metadata": {
        "id": "rOHnn0DO9fL5"
      },
      "source": [
        "**2. Loop over number of labels used** *from [100,600,1000,3000], save the trained SVM classifier to drive, and save the accuracy of each net to a dataframe.*"
      ]
    },
    {
      "cell_type": "code",
      "metadata": {
        "id": "agnHmGWULFiI",
        "colab": {
          "base_uri": "https://localhost:8080/",
          "height": 185,
          "referenced_widgets": [
            "b71d43586a334bce83889d5a353888b7",
            "a1a0550da63f4408b4f0aa66319f253d",
            "349503875c754d02b428751db0e055cb",
            "450638434e61453f9f9cff54cafda4da",
            "95e6f1996b5b4134a5331b07888df6d9",
            "eb946bd45d7f49b1a2202ce6fe5390b4",
            "7590c7e81c3d4a85b4579ed7a4443612",
            "9856518236274d9bbee6380cb583d4f2",
            "3dff1772969a43df9abd78a2725d4185",
            "d49970605ff448b5a22e8c71cbed5810",
            "81ec4a1831124e4981a516554460d04f"
          ]
        },
        "outputId": "ac0c1e52-18f6-4cb3-edd5-7dc31fc2dbc9"
      },
      "source": [
        "pbar = tq.tqdm(Nlabels)\n",
        "for labels in pbar:\n",
        "    pbar.set_description(f\"Training with {labels} Labels\")\n",
        "    torch.manual_seed(seed)\n",
        "    np.random.seed(seed)\n",
        "\n",
        "    # initialize model and load the trained weights\n",
        "    VAE = M1_model(784)\n",
        "    VAE.load_state_dict(VAE_weights)\n",
        "    VAE.to(device)\n",
        "\n",
        "    ## Train and save SVM:   \n",
        "    with torch.no_grad():\n",
        "        VAE.eval()\n",
        "        trainedSvm, accuracy = trainSVM(labels, VAE)\n",
        "\n",
        "    pickle.dump(trainedSvm, open(f'{path}/Q3 - saved data/{str(labels)}.sav', 'wb'))\n",
        "   \n",
        "    accuracies[labels] = accuracy\n",
        "    \n",
        "    print(f'{labels} Labels Accuracy: {round(accuracies[labels],2)}')\n",
        "    print('-'*100)\n"
      ],
      "execution_count": null,
      "outputs": [
        {
          "output_type": "display_data",
          "data": {
            "application/vnd.jupyter.widget-view+json": {
              "model_id": "b71d43586a334bce83889d5a353888b7",
              "version_minor": 0,
              "version_major": 2
            },
            "text/plain": [
              "  0%|          | 0/4 [00:00<?, ?it/s]"
            ]
          },
          "metadata": {}
        },
        {
          "output_type": "stream",
          "name": "stdout",
          "text": [
            "100 Labels Accuracy: 29.95\n",
            "----------------------------------------------------------------------------------------------------\n",
            "600 Labels Accuracy: 52.62\n",
            "----------------------------------------------------------------------------------------------------\n",
            "1000 Labels Accuracy: 58.53\n",
            "----------------------------------------------------------------------------------------------------\n",
            "3000 Labels Accuracy: 68.11\n",
            "----------------------------------------------------------------------------------------------------\n"
          ]
        }
      ]
    },
    {
      "cell_type": "markdown",
      "metadata": {
        "id": "8Ug37Nl5ZUVt"
      },
      "source": [
        "#**5. Show results and compare to paper.**\n",
        "*Shows the error count in [%] and compares to the error count presented in Kingsma et al. [2014] from using M1 model on MNIST dataset (vs FashionMNIST)*\n"
      ]
    },
    {
      "cell_type": "markdown",
      "metadata": {
        "id": "XmO_774XQ7dr"
      },
      "source": [
        "**1. Create an np.series of classification error** *from the 'accuracies' series, and save it to drive.*"
      ]
    },
    {
      "cell_type": "code",
      "metadata": {
        "id": "sQswkqffZFQA"
      },
      "source": [
        "classErr = 100 - accuracies\n",
        "classErr.name = 'Classification Error [%] of M1 over FashionMnist'\n",
        "\n",
        "classErr.to_csv(f'{path}/Q3 - saved data/results.csv')"
      ],
      "execution_count": null,
      "outputs": []
    },
    {
      "cell_type": "markdown",
      "metadata": {
        "id": "w5gKO2sVRT_H"
      },
      "source": [
        "**2. Create an array with the results from the paper** *comparing the classification error of M1 on FashionMnist to that on Mnist*"
      ]
    },
    {
      "cell_type": "code",
      "metadata": {
        "id": "fgCKaFD2RoWs",
        "colab": {
          "base_uri": "https://localhost:8080/",
          "height": 173
        },
        "outputId": "139dcdd4-5d0d-49d3-be1e-8098652ed944"
      },
      "source": [
        "paper_results = pd.Series([11.82,5.72,4.24,3.49], index=Nlabels, name='Classification Error [%] of M1 over Mnist')\n",
        "pd.concat([classErr,paper_results], axis=1)"
      ],
      "execution_count": null,
      "outputs": [
        {
          "output_type": "execute_result",
          "data": {
            "text/html": [
              "<div>\n",
              "<style scoped>\n",
              "    .dataframe tbody tr th:only-of-type {\n",
              "        vertical-align: middle;\n",
              "    }\n",
              "\n",
              "    .dataframe tbody tr th {\n",
              "        vertical-align: top;\n",
              "    }\n",
              "\n",
              "    .dataframe thead th {\n",
              "        text-align: right;\n",
              "    }\n",
              "</style>\n",
              "<table border=\"1\" class=\"dataframe\">\n",
              "  <thead>\n",
              "    <tr style=\"text-align: right;\">\n",
              "      <th></th>\n",
              "      <th>Classification Error [%] of M1 over FashionMnist</th>\n",
              "      <th>Classification Error [%] of M1 over Mnist</th>\n",
              "    </tr>\n",
              "  </thead>\n",
              "  <tbody>\n",
              "    <tr>\n",
              "      <th>100</th>\n",
              "      <td>70.05</td>\n",
              "      <td>11.82</td>\n",
              "    </tr>\n",
              "    <tr>\n",
              "      <th>600</th>\n",
              "      <td>47.38</td>\n",
              "      <td>5.72</td>\n",
              "    </tr>\n",
              "    <tr>\n",
              "      <th>1000</th>\n",
              "      <td>41.47</td>\n",
              "      <td>4.24</td>\n",
              "    </tr>\n",
              "    <tr>\n",
              "      <th>3000</th>\n",
              "      <td>31.89</td>\n",
              "      <td>3.49</td>\n",
              "    </tr>\n",
              "  </tbody>\n",
              "</table>\n",
              "</div>"
            ],
            "text/plain": [
              "      Classification Error [%] of M1 over FashionMnist  Classification Error [%] of M1 over Mnist\n",
              "100                                              70.05                                      11.82\n",
              "600                                              47.38                                       5.72\n",
              "1000                                             41.47                                       4.24\n",
              "3000                                             31.89                                       3.49"
            ]
          },
          "metadata": {},
          "execution_count": 84
        }
      ]
    }
  ]
}